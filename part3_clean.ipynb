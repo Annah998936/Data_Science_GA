{
 "cells": [
  {
   "cell_type": "markdown",
   "metadata": {},
   "source": [
    "# Final Project Part 3: Credit Default Prediction"
   ]
  },
  {
   "cell_type": "markdown",
   "metadata": {},
   "source": [
    "### The target variable you want to predict"
   ]
  },
  {
   "cell_type": "markdown",
   "metadata": {},
   "source": [
    "The target variable that I want to predict is if the customer will default next month."
   ]
  },
  {
   "cell_type": "markdown",
   "metadata": {},
   "source": [
    "### 1. How predicting that target variable could help with some kind of decision"
   ]
  },
  {
   "cell_type": "markdown",
   "metadata": {},
   "source": [
    "Predicting this variable will help the bank determine whether or not to provide a credit line increase or potentially a credit line decrease to customers to either maximize revenue or minimize loss. My assumption is if the customer is paying consistently every month, the probability of defaulting in the next payment is very unlikely. "
   ]
  },
  {
   "cell_type": "markdown",
   "metadata": {},
   "source": [
    "### 2. The features you want to use to predict that target variable"
   ]
  },
  {
   "cell_type": "markdown",
   "metadata": {},
   "source": [
    "o\tThe features used to predict this variable from the data are: \n",
    "- Amount of given credit \n",
    "- Gender\n",
    "- Education\n",
    "- Marital Status\n",
    "- Age \n",
    "- History of Repayment Status from April – September 2015 (each month is a separate column)\n",
    "- Amount of bill statement from April – September 2015 (each month is a separate column)\n",
    "- Amount of previous payment from April – September 2015 (each month is a separate column)"
   ]
  },
  {
   "cell_type": "markdown",
   "metadata": {},
   "source": [
    "### 3. Goals and success metrics"
   ]
  },
  {
   "cell_type": "markdown",
   "metadata": {},
   "source": [
    "The goal is to be able to predict if the customer is going to default the next month (October 2015). "
   ]
  },
  {
   "cell_type": "markdown",
   "metadata": {},
   "source": [
    "### 4. Risks or limitations"
   ]
  },
  {
   "cell_type": "markdown",
   "metadata": {},
   "source": [
    "The main limitation is there is only data from April – September 2015 and may not be sufficient enough to predict if the customer is going to default. Using only 6 months of data to predict if a customer is going to default is limited because the entire life cycle of the card could provide better insights. "
   ]
  },
  {
   "cell_type": "markdown",
   "metadata": {},
   "source": [
    "$\\blacksquare$"
   ]
  },
  {
   "cell_type": "markdown",
   "metadata": {},
   "source": [
    "## Understanding/Prepping the Data "
   ]
  },
  {
   "cell_type": "code",
   "execution_count": 1,
   "metadata": {},
   "outputs": [],
   "source": [
    "import matplotlib.pyplot as plt\n",
    "import numpy as np\n",
    "import seaborn as sns\n",
    "import pandas as pd\n",
    "from sklearn import metrics\n",
    "\n",
    "plt.style.use('fivethirtyeight')\n",
    "%matplotlib inline"
   ]
  },
  {
   "cell_type": "code",
   "execution_count": 2,
   "metadata": {},
   "outputs": [
    {
     "data": {
      "text/html": [
       "<div>\n",
       "<style scoped>\n",
       "    .dataframe tbody tr th:only-of-type {\n",
       "        vertical-align: middle;\n",
       "    }\n",
       "\n",
       "    .dataframe tbody tr th {\n",
       "        vertical-align: top;\n",
       "    }\n",
       "\n",
       "    .dataframe thead th {\n",
       "        text-align: right;\n",
       "    }\n",
       "</style>\n",
       "<table border=\"1\" class=\"dataframe\">\n",
       "  <thead>\n",
       "    <tr style=\"text-align: right;\">\n",
       "      <th></th>\n",
       "      <th>LIMIT_BAL</th>\n",
       "      <th>SEX</th>\n",
       "      <th>EDUCATION</th>\n",
       "      <th>MARRIAGE</th>\n",
       "      <th>AGE</th>\n",
       "      <th>PAY_0</th>\n",
       "      <th>PAY_2</th>\n",
       "      <th>PAY_3</th>\n",
       "      <th>PAY_4</th>\n",
       "      <th>PAY_5</th>\n",
       "      <th>...</th>\n",
       "      <th>BILL_AMT4</th>\n",
       "      <th>BILL_AMT5</th>\n",
       "      <th>BILL_AMT6</th>\n",
       "      <th>PAY_AMT1</th>\n",
       "      <th>PAY_AMT2</th>\n",
       "      <th>PAY_AMT3</th>\n",
       "      <th>PAY_AMT4</th>\n",
       "      <th>PAY_AMT5</th>\n",
       "      <th>PAY_AMT6</th>\n",
       "      <th>default payment next month</th>\n",
       "    </tr>\n",
       "    <tr>\n",
       "      <th>ID</th>\n",
       "      <th></th>\n",
       "      <th></th>\n",
       "      <th></th>\n",
       "      <th></th>\n",
       "      <th></th>\n",
       "      <th></th>\n",
       "      <th></th>\n",
       "      <th></th>\n",
       "      <th></th>\n",
       "      <th></th>\n",
       "      <th></th>\n",
       "      <th></th>\n",
       "      <th></th>\n",
       "      <th></th>\n",
       "      <th></th>\n",
       "      <th></th>\n",
       "      <th></th>\n",
       "      <th></th>\n",
       "      <th></th>\n",
       "      <th></th>\n",
       "      <th></th>\n",
       "    </tr>\n",
       "  </thead>\n",
       "  <tbody>\n",
       "    <tr>\n",
       "      <th>1</th>\n",
       "      <td>20000</td>\n",
       "      <td>2</td>\n",
       "      <td>2</td>\n",
       "      <td>1</td>\n",
       "      <td>24</td>\n",
       "      <td>2</td>\n",
       "      <td>2</td>\n",
       "      <td>-1</td>\n",
       "      <td>-1</td>\n",
       "      <td>-2</td>\n",
       "      <td>...</td>\n",
       "      <td>0</td>\n",
       "      <td>0</td>\n",
       "      <td>0</td>\n",
       "      <td>0</td>\n",
       "      <td>689</td>\n",
       "      <td>0</td>\n",
       "      <td>0</td>\n",
       "      <td>0</td>\n",
       "      <td>0</td>\n",
       "      <td>1</td>\n",
       "    </tr>\n",
       "    <tr>\n",
       "      <th>2</th>\n",
       "      <td>120000</td>\n",
       "      <td>2</td>\n",
       "      <td>2</td>\n",
       "      <td>2</td>\n",
       "      <td>26</td>\n",
       "      <td>-1</td>\n",
       "      <td>2</td>\n",
       "      <td>0</td>\n",
       "      <td>0</td>\n",
       "      <td>0</td>\n",
       "      <td>...</td>\n",
       "      <td>3272</td>\n",
       "      <td>3455</td>\n",
       "      <td>3261</td>\n",
       "      <td>0</td>\n",
       "      <td>1000</td>\n",
       "      <td>1000</td>\n",
       "      <td>1000</td>\n",
       "      <td>0</td>\n",
       "      <td>2000</td>\n",
       "      <td>1</td>\n",
       "    </tr>\n",
       "    <tr>\n",
       "      <th>3</th>\n",
       "      <td>90000</td>\n",
       "      <td>2</td>\n",
       "      <td>2</td>\n",
       "      <td>2</td>\n",
       "      <td>34</td>\n",
       "      <td>0</td>\n",
       "      <td>0</td>\n",
       "      <td>0</td>\n",
       "      <td>0</td>\n",
       "      <td>0</td>\n",
       "      <td>...</td>\n",
       "      <td>14331</td>\n",
       "      <td>14948</td>\n",
       "      <td>15549</td>\n",
       "      <td>1518</td>\n",
       "      <td>1500</td>\n",
       "      <td>1000</td>\n",
       "      <td>1000</td>\n",
       "      <td>1000</td>\n",
       "      <td>5000</td>\n",
       "      <td>0</td>\n",
       "    </tr>\n",
       "    <tr>\n",
       "      <th>4</th>\n",
       "      <td>50000</td>\n",
       "      <td>2</td>\n",
       "      <td>2</td>\n",
       "      <td>1</td>\n",
       "      <td>37</td>\n",
       "      <td>0</td>\n",
       "      <td>0</td>\n",
       "      <td>0</td>\n",
       "      <td>0</td>\n",
       "      <td>0</td>\n",
       "      <td>...</td>\n",
       "      <td>28314</td>\n",
       "      <td>28959</td>\n",
       "      <td>29547</td>\n",
       "      <td>2000</td>\n",
       "      <td>2019</td>\n",
       "      <td>1200</td>\n",
       "      <td>1100</td>\n",
       "      <td>1069</td>\n",
       "      <td>1000</td>\n",
       "      <td>0</td>\n",
       "    </tr>\n",
       "    <tr>\n",
       "      <th>5</th>\n",
       "      <td>50000</td>\n",
       "      <td>1</td>\n",
       "      <td>2</td>\n",
       "      <td>1</td>\n",
       "      <td>57</td>\n",
       "      <td>-1</td>\n",
       "      <td>0</td>\n",
       "      <td>-1</td>\n",
       "      <td>0</td>\n",
       "      <td>0</td>\n",
       "      <td>...</td>\n",
       "      <td>20940</td>\n",
       "      <td>19146</td>\n",
       "      <td>19131</td>\n",
       "      <td>2000</td>\n",
       "      <td>36681</td>\n",
       "      <td>10000</td>\n",
       "      <td>9000</td>\n",
       "      <td>689</td>\n",
       "      <td>679</td>\n",
       "      <td>0</td>\n",
       "    </tr>\n",
       "  </tbody>\n",
       "</table>\n",
       "<p>5 rows × 24 columns</p>\n",
       "</div>"
      ],
      "text/plain": [
       "    LIMIT_BAL  SEX  EDUCATION  MARRIAGE  AGE  PAY_0  PAY_2  PAY_3  PAY_4  \\\n",
       "ID                                                                         \n",
       "1       20000    2          2         1   24      2      2     -1     -1   \n",
       "2      120000    2          2         2   26     -1      2      0      0   \n",
       "3       90000    2          2         2   34      0      0      0      0   \n",
       "4       50000    2          2         1   37      0      0      0      0   \n",
       "5       50000    1          2         1   57     -1      0     -1      0   \n",
       "\n",
       "    PAY_5             ...              BILL_AMT4  BILL_AMT5  BILL_AMT6  \\\n",
       "ID                    ...                                                \n",
       "1      -2             ...                      0          0          0   \n",
       "2       0             ...                   3272       3455       3261   \n",
       "3       0             ...                  14331      14948      15549   \n",
       "4       0             ...                  28314      28959      29547   \n",
       "5       0             ...                  20940      19146      19131   \n",
       "\n",
       "    PAY_AMT1  PAY_AMT2  PAY_AMT3  PAY_AMT4  PAY_AMT5  PAY_AMT6  \\\n",
       "ID                                                               \n",
       "1          0       689         0         0         0         0   \n",
       "2          0      1000      1000      1000         0      2000   \n",
       "3       1518      1500      1000      1000      1000      5000   \n",
       "4       2000      2019      1200      1100      1069      1000   \n",
       "5       2000     36681     10000      9000       689       679   \n",
       "\n",
       "    default payment next month  \n",
       "ID                              \n",
       "1                            1  \n",
       "2                            1  \n",
       "3                            0  \n",
       "4                            0  \n",
       "5                            0  \n",
       "\n",
       "[5 rows x 24 columns]"
      ]
     },
     "execution_count": 2,
     "metadata": {},
     "output_type": "execute_result"
    }
   ],
   "source": [
    "import pandas as pd\n",
    "credit_card_default = pd.read_csv('./data/credit_card_default.csv')\n",
    "credit_card_default.head()\n",
    "credit_card_default = credit_card_default.set_index('ID')\n",
    "credit_card_default.head()\n",
    "#Imported data and set ID as index "
   ]
  },
  {
   "cell_type": "code",
   "execution_count": 3,
   "metadata": {},
   "outputs": [
    {
     "data": {
      "text/plain": [
       "(22500, 24)"
      ]
     },
     "execution_count": 3,
     "metadata": {},
     "output_type": "execute_result"
    }
   ],
   "source": [
    "credit_card_default.shape\n",
    "#22,500 rows and 24 columns"
   ]
  },
  {
   "cell_type": "code",
   "execution_count": 4,
   "metadata": {},
   "outputs": [
    {
     "data": {
      "text/plain": [
       "LIMIT_BAL                     0\n",
       "SEX                           0\n",
       "EDUCATION                     0\n",
       "MARRIAGE                      0\n",
       "AGE                           0\n",
       "PAY_0                         0\n",
       "PAY_2                         0\n",
       "PAY_3                         0\n",
       "PAY_4                         0\n",
       "PAY_5                         0\n",
       "PAY_6                         0\n",
       "BILL_AMT1                     0\n",
       "BILL_AMT2                     0\n",
       "BILL_AMT3                     0\n",
       "BILL_AMT4                     0\n",
       "BILL_AMT5                     0\n",
       "BILL_AMT6                     0\n",
       "PAY_AMT1                      0\n",
       "PAY_AMT2                      0\n",
       "PAY_AMT3                      0\n",
       "PAY_AMT4                      0\n",
       "PAY_AMT5                      0\n",
       "PAY_AMT6                      0\n",
       "default payment next month    0\n",
       "dtype: int64"
      ]
     },
     "execution_count": 4,
     "metadata": {},
     "output_type": "execute_result"
    }
   ],
   "source": [
    "credit_card_default.isnull().sum()\n",
    "#no missing data"
   ]
  },
  {
   "cell_type": "code",
   "execution_count": 5,
   "metadata": {},
   "outputs": [
    {
     "data": {
      "text/plain": [
       "4      303\n",
       "3     3581\n",
       "1     7982\n",
       "2    10634\n",
       "Name: EDUCATION, dtype: int64"
      ]
     },
     "execution_count": 5,
     "metadata": {},
     "output_type": "execute_result"
    }
   ],
   "source": [
    "credit_card_default.loc[:,'EDUCATION'] = credit_card_default.loc[:, 'EDUCATION'].replace({5: 4, 6: 4, 0: 4})\n",
    "credit_card_default.loc[:,'EDUCATION'].value_counts().sort_values()\n",
    "#Education has numbers '0,5,6' and changed it to 4 because appropriate values are:\n",
    "# 1 = graduate school, 2 = university, 3 = high school, 4 = others"
   ]
  },
  {
   "cell_type": "code",
   "execution_count": 6,
   "metadata": {},
   "outputs": [
    {
     "data": {
      "text/plain": [
       "2    12219\n",
       "1     9990\n",
       "3      291\n",
       "Name: MARRIAGE, dtype: int64"
      ]
     },
     "execution_count": 6,
     "metadata": {},
     "output_type": "execute_result"
    }
   ],
   "source": [
    "credit_card_default.loc[:,'MARRIAGE'] = credit_card_default.loc[:, 'MARRIAGE'].replace({0: 3})\n",
    "credit_card_default.loc[:,'MARRIAGE'].value_counts()\n",
    "#Marriage had 0 so changing it to 3 for 'others because appropriate values are:\n",
    "# 1 = married, 2 = single, 3 = others"
   ]
  },
  {
   "cell_type": "code",
   "execution_count": 7,
   "metadata": {},
   "outputs": [
    {
     "data": {
      "text/html": [
       "<div>\n",
       "<style scoped>\n",
       "    .dataframe tbody tr th:only-of-type {\n",
       "        vertical-align: middle;\n",
       "    }\n",
       "\n",
       "    .dataframe tbody tr th {\n",
       "        vertical-align: top;\n",
       "    }\n",
       "\n",
       "    .dataframe thead th {\n",
       "        text-align: right;\n",
       "    }\n",
       "</style>\n",
       "<table border=\"1\" class=\"dataframe\">\n",
       "  <thead>\n",
       "    <tr style=\"text-align: right;\">\n",
       "      <th></th>\n",
       "      <th>LIMIT_BAL</th>\n",
       "      <th>SEX</th>\n",
       "      <th>EDUCATION</th>\n",
       "      <th>MARRIAGE</th>\n",
       "      <th>AGE</th>\n",
       "      <th>PAY_0</th>\n",
       "      <th>PAY_2</th>\n",
       "      <th>PAY_3</th>\n",
       "      <th>PAY_4</th>\n",
       "      <th>PAY_5</th>\n",
       "      <th>...</th>\n",
       "      <th>BILL_AMT4</th>\n",
       "      <th>BILL_AMT5</th>\n",
       "      <th>BILL_AMT6</th>\n",
       "      <th>PAY_AMT1</th>\n",
       "      <th>PAY_AMT2</th>\n",
       "      <th>PAY_AMT3</th>\n",
       "      <th>PAY_AMT4</th>\n",
       "      <th>PAY_AMT5</th>\n",
       "      <th>PAY_AMT6</th>\n",
       "      <th>default payment next month</th>\n",
       "    </tr>\n",
       "    <tr>\n",
       "      <th>ID</th>\n",
       "      <th></th>\n",
       "      <th></th>\n",
       "      <th></th>\n",
       "      <th></th>\n",
       "      <th></th>\n",
       "      <th></th>\n",
       "      <th></th>\n",
       "      <th></th>\n",
       "      <th></th>\n",
       "      <th></th>\n",
       "      <th></th>\n",
       "      <th></th>\n",
       "      <th></th>\n",
       "      <th></th>\n",
       "      <th></th>\n",
       "      <th></th>\n",
       "      <th></th>\n",
       "      <th></th>\n",
       "      <th></th>\n",
       "      <th></th>\n",
       "      <th></th>\n",
       "    </tr>\n",
       "  </thead>\n",
       "  <tbody>\n",
       "  </tbody>\n",
       "</table>\n",
       "<p>0 rows × 24 columns</p>\n",
       "</div>"
      ],
      "text/plain": [
       "Empty DataFrame\n",
       "Columns: [LIMIT_BAL, SEX, EDUCATION, MARRIAGE, AGE, PAY_0, PAY_2, PAY_3, PAY_4, PAY_5, PAY_6, BILL_AMT1, BILL_AMT2, BILL_AMT3, BILL_AMT4, BILL_AMT5, BILL_AMT6, PAY_AMT1, PAY_AMT2, PAY_AMT3, PAY_AMT4, PAY_AMT5, PAY_AMT6, default payment next month]\n",
       "Index: []\n",
       "\n",
       "[0 rows x 24 columns]"
      ]
     },
     "execution_count": 7,
     "metadata": {},
     "output_type": "execute_result"
    }
   ],
   "source": [
    "credit_card_default.loc[credit_card_default.loc[:,'AGE'] <= 0,:]\n",
    "#Making sure there are no ages < 0"
   ]
  },
  {
   "cell_type": "code",
   "execution_count": 8,
   "metadata": {},
   "outputs": [
    {
     "data": {
      "text/plain": [
       "0    0.773867\n",
       "1    0.226133\n",
       "Name: default payment next month, dtype: float64"
      ]
     },
     "execution_count": 8,
     "metadata": {},
     "output_type": "execute_result"
    }
   ],
   "source": [
    "credit_card_default.loc[:,'default payment next month'].value_counts(normalize=True)\n",
    "#Identify percentage of defaults"
   ]
  },
  {
   "cell_type": "code",
   "execution_count": 9,
   "metadata": {},
   "outputs": [
    {
     "data": {
      "text/plain": [
       "LIMIT_BAL                     int64\n",
       "SEX                           int64\n",
       "EDUCATION                     int64\n",
       "MARRIAGE                      int64\n",
       "AGE                           int64\n",
       "PAY_0                         int64\n",
       "PAY_2                         int64\n",
       "PAY_3                         int64\n",
       "PAY_4                         int64\n",
       "PAY_5                         int64\n",
       "PAY_6                         int64\n",
       "BILL_AMT1                     int64\n",
       "BILL_AMT2                     int64\n",
       "BILL_AMT3                     int64\n",
       "BILL_AMT4                     int64\n",
       "BILL_AMT5                     int64\n",
       "BILL_AMT6                     int64\n",
       "PAY_AMT1                      int64\n",
       "PAY_AMT2                      int64\n",
       "PAY_AMT3                      int64\n",
       "PAY_AMT4                      int64\n",
       "PAY_AMT5                      int64\n",
       "PAY_AMT6                      int64\n",
       "default payment next month    int64\n",
       "dtype: object"
      ]
     },
     "execution_count": 9,
     "metadata": {},
     "output_type": "execute_result"
    }
   ],
   "source": [
    "credit_card_default.dtypes\n",
    "#All variables are integers or floats"
   ]
  },
  {
   "cell_type": "markdown",
   "metadata": {},
   "source": [
    "$\\blacksquare$ "
   ]
  },
  {
   "cell_type": "markdown",
   "metadata": {},
   "source": [
    "## Exploratory Data Analysis"
   ]
  },
  {
   "cell_type": "markdown",
   "metadata": {},
   "source": [
    "### 1. Feature Engineering"
   ]
  },
  {
   "cell_type": "code",
   "execution_count": 10,
   "metadata": {},
   "outputs": [],
   "source": [
    "credit_card_default['Credit_Util_Rate_1'] = (credit_card_default['BILL_AMT1'] - credit_card_default['PAY_AMT1'])/credit_card_default['LIMIT_BAL']\n",
    "credit_card_default['Credit_Util_Rate_2'] = (credit_card_default['BILL_AMT2'] - credit_card_default['PAY_AMT2'])/credit_card_default['LIMIT_BAL']\n",
    "credit_card_default['Credit_Util_Rate_3'] = (credit_card_default['BILL_AMT3'] - credit_card_default['PAY_AMT3'])/credit_card_default['LIMIT_BAL']\n",
    "credit_card_default['Credit_Util_Rate_4'] = (credit_card_default['BILL_AMT4'] - credit_card_default['PAY_AMT4'])/credit_card_default['LIMIT_BAL']\n",
    "credit_card_default['Credit_Util_Rate_5'] = (credit_card_default['BILL_AMT5'] - credit_card_default['PAY_AMT5'])/credit_card_default['LIMIT_BAL']\n",
    "credit_card_default['Credit_Util_Rate_6'] = (credit_card_default['BILL_AMT6'] - credit_card_default['PAY_AMT6'])/credit_card_default['LIMIT_BAL']\n",
    "\n",
    "credit_card_default['Credit_Util_Avg'] = (credit_card_default['Credit_Util_Rate_1'] +\n",
    "                                        credit_card_default['Credit_Util_Rate_2'] +\n",
    "                                        credit_card_default['Credit_Util_Rate_3'] +\n",
    "                                        credit_card_default['Credit_Util_Rate_4'] +\n",
    "                                        credit_card_default['Credit_Util_Rate_5'] +\n",
    "                                        credit_card_default['Credit_Util_Rate_6'])/6\n",
    "\n",
    "#Build 'Credit Utilization Rate' calculation as feature engineering\n",
    "    #Credit Utilization Rate = Total Debt/Total Available Credit\n",
    "    #More information: https://www.experian.com/blogs/ask-experian/credit-education/score-basics/credit-utilization-rate/\n",
    "#Create new variable call 'Credit_Util_Rate' for every month and find the AVERAGE rate"
   ]
  },
  {
   "cell_type": "code",
   "execution_count": 11,
   "metadata": {},
   "outputs": [
    {
     "data": {
      "text/plain": [
       "Index(['LIMIT_BAL', 'SEX', 'EDUCATION', 'MARRIAGE', 'AGE', 'PAY_0', 'PAY_2',\n",
       "       'PAY_3', 'PAY_4', 'PAY_5', 'PAY_6', 'BILL_AMT1', 'BILL_AMT2',\n",
       "       'BILL_AMT3', 'BILL_AMT4', 'BILL_AMT5', 'BILL_AMT6', 'PAY_AMT1',\n",
       "       'PAY_AMT2', 'PAY_AMT3', 'PAY_AMT4', 'PAY_AMT5', 'PAY_AMT6',\n",
       "       'default payment next month', 'Credit_Util_Rate_1',\n",
       "       'Credit_Util_Rate_2', 'Credit_Util_Rate_3', 'Credit_Util_Rate_4',\n",
       "       'Credit_Util_Rate_5', 'Credit_Util_Rate_6', 'Credit_Util_Avg'],\n",
       "      dtype='object')"
      ]
     },
     "execution_count": 11,
     "metadata": {},
     "output_type": "execute_result"
    }
   ],
   "source": [
    "credit_card_default.columns\n",
    "#Check the columns "
   ]
  },
  {
   "cell_type": "markdown",
   "metadata": {},
   "source": [
    "### 2. Data Visualizations and Insights"
   ]
  },
  {
   "cell_type": "code",
   "execution_count": 12,
   "metadata": {},
   "outputs": [
    {
     "data": {
      "text/html": [
       "<div>\n",
       "<style scoped>\n",
       "    .dataframe tbody tr th:only-of-type {\n",
       "        vertical-align: middle;\n",
       "    }\n",
       "\n",
       "    .dataframe tbody tr th {\n",
       "        vertical-align: top;\n",
       "    }\n",
       "\n",
       "    .dataframe thead th {\n",
       "        text-align: right;\n",
       "    }\n",
       "</style>\n",
       "<table border=\"1\" class=\"dataframe\">\n",
       "  <thead>\n",
       "    <tr style=\"text-align: right;\">\n",
       "      <th></th>\n",
       "      <th>LIMIT_BAL</th>\n",
       "      <th>SEX</th>\n",
       "      <th>EDUCATION</th>\n",
       "      <th>MARRIAGE</th>\n",
       "      <th>AGE</th>\n",
       "      <th>PAY_0</th>\n",
       "      <th>PAY_2</th>\n",
       "      <th>PAY_3</th>\n",
       "      <th>PAY_4</th>\n",
       "      <th>PAY_5</th>\n",
       "      <th>...</th>\n",
       "      <th>PAY_AMT5</th>\n",
       "      <th>PAY_AMT6</th>\n",
       "      <th>default payment next month</th>\n",
       "      <th>Credit_Util_Rate_1</th>\n",
       "      <th>Credit_Util_Rate_2</th>\n",
       "      <th>Credit_Util_Rate_3</th>\n",
       "      <th>Credit_Util_Rate_4</th>\n",
       "      <th>Credit_Util_Rate_5</th>\n",
       "      <th>Credit_Util_Rate_6</th>\n",
       "      <th>Credit_Util_Avg</th>\n",
       "    </tr>\n",
       "  </thead>\n",
       "  <tbody>\n",
       "    <tr>\n",
       "      <th>count</th>\n",
       "      <td>22500.000000</td>\n",
       "      <td>22500.000000</td>\n",
       "      <td>22500.000000</td>\n",
       "      <td>22500.000000</td>\n",
       "      <td>22500.000000</td>\n",
       "      <td>22500.000000</td>\n",
       "      <td>22500.000000</td>\n",
       "      <td>22500.000000</td>\n",
       "      <td>22500.000000</td>\n",
       "      <td>22500.000000</td>\n",
       "      <td>...</td>\n",
       "      <td>22500.000000</td>\n",
       "      <td>22500.000000</td>\n",
       "      <td>22500.000000</td>\n",
       "      <td>22500.000000</td>\n",
       "      <td>22500.000000</td>\n",
       "      <td>22500.000000</td>\n",
       "      <td>22500.000000</td>\n",
       "      <td>22500.000000</td>\n",
       "      <td>22500.000000</td>\n",
       "      <td>22500.000000</td>\n",
       "    </tr>\n",
       "    <tr>\n",
       "      <th>mean</th>\n",
       "      <td>163424.608000</td>\n",
       "      <td>1.610178</td>\n",
       "      <td>1.831333</td>\n",
       "      <td>1.568933</td>\n",
       "      <td>35.212889</td>\n",
       "      <td>0.015067</td>\n",
       "      <td>-0.106978</td>\n",
       "      <td>-0.137422</td>\n",
       "      <td>-0.197333</td>\n",
       "      <td>-0.237067</td>\n",
       "      <td>...</td>\n",
       "      <td>4694.131200</td>\n",
       "      <td>5088.028222</td>\n",
       "      <td>0.226133</td>\n",
       "      <td>0.383564</td>\n",
       "      <td>0.371962</td>\n",
       "      <td>0.358169</td>\n",
       "      <td>0.323337</td>\n",
       "      <td>0.302965</td>\n",
       "      <td>0.287063</td>\n",
       "      <td>0.337843</td>\n",
       "    </tr>\n",
       "    <tr>\n",
       "      <th>std</th>\n",
       "      <td>128515.245979</td>\n",
       "      <td>0.487721</td>\n",
       "      <td>0.734407</td>\n",
       "      <td>0.520698</td>\n",
       "      <td>9.307266</td>\n",
       "      <td>1.119824</td>\n",
       "      <td>1.197125</td>\n",
       "      <td>1.202637</td>\n",
       "      <td>1.164344</td>\n",
       "      <td>1.137459</td>\n",
       "      <td>...</td>\n",
       "      <td>15023.608194</td>\n",
       "      <td>17300.349898</td>\n",
       "      <td>0.418336</td>\n",
       "      <td>0.415597</td>\n",
       "      <td>0.412199</td>\n",
       "      <td>0.395713</td>\n",
       "      <td>0.373015</td>\n",
       "      <td>0.355392</td>\n",
       "      <td>0.354784</td>\n",
       "      <td>0.341167</td>\n",
       "    </tr>\n",
       "    <tr>\n",
       "      <th>min</th>\n",
       "      <td>10000.000000</td>\n",
       "      <td>1.000000</td>\n",
       "      <td>1.000000</td>\n",
       "      <td>1.000000</td>\n",
       "      <td>21.000000</td>\n",
       "      <td>-2.000000</td>\n",
       "      <td>-2.000000</td>\n",
       "      <td>-2.000000</td>\n",
       "      <td>-2.000000</td>\n",
       "      <td>-2.000000</td>\n",
       "      <td>...</td>\n",
       "      <td>0.000000</td>\n",
       "      <td>0.000000</td>\n",
       "      <td>0.000000</td>\n",
       "      <td>-2.664750</td>\n",
       "      <td>-3.404694</td>\n",
       "      <td>-2.882782</td>\n",
       "      <td>-3.086000</td>\n",
       "      <td>-2.530600</td>\n",
       "      <td>-3.013530</td>\n",
       "      <td>-0.746872</td>\n",
       "    </tr>\n",
       "    <tr>\n",
       "      <th>25%</th>\n",
       "      <td>50000.000000</td>\n",
       "      <td>1.000000</td>\n",
       "      <td>1.000000</td>\n",
       "      <td>1.000000</td>\n",
       "      <td>28.000000</td>\n",
       "      <td>-1.000000</td>\n",
       "      <td>-1.000000</td>\n",
       "      <td>-1.000000</td>\n",
       "      <td>-1.000000</td>\n",
       "      <td>-1.000000</td>\n",
       "      <td>...</td>\n",
       "      <td>247.000000</td>\n",
       "      <td>56.000000</td>\n",
       "      <td>0.000000</td>\n",
       "      <td>0.005234</td>\n",
       "      <td>0.002642</td>\n",
       "      <td>0.002531</td>\n",
       "      <td>0.001632</td>\n",
       "      <td>0.000000</td>\n",
       "      <td>0.000000</td>\n",
       "      <td>0.005748</td>\n",
       "    </tr>\n",
       "    <tr>\n",
       "      <th>50%</th>\n",
       "      <td>135000.000000</td>\n",
       "      <td>2.000000</td>\n",
       "      <td>2.000000</td>\n",
       "      <td>2.000000</td>\n",
       "      <td>33.000000</td>\n",
       "      <td>0.000000</td>\n",
       "      <td>0.000000</td>\n",
       "      <td>0.000000</td>\n",
       "      <td>0.000000</td>\n",
       "      <td>0.000000</td>\n",
       "      <td>...</td>\n",
       "      <td>1500.000000</td>\n",
       "      <td>1463.000000</td>\n",
       "      <td>0.000000</td>\n",
       "      <td>0.285607</td>\n",
       "      <td>0.271033</td>\n",
       "      <td>0.252927</td>\n",
       "      <td>0.219094</td>\n",
       "      <td>0.190837</td>\n",
       "      <td>0.163778</td>\n",
       "      <td>0.245906</td>\n",
       "    </tr>\n",
       "    <tr>\n",
       "      <th>75%</th>\n",
       "      <td>230000.000000</td>\n",
       "      <td>2.000000</td>\n",
       "      <td>2.000000</td>\n",
       "      <td>2.000000</td>\n",
       "      <td>41.000000</td>\n",
       "      <td>0.000000</td>\n",
       "      <td>0.000000</td>\n",
       "      <td>0.000000</td>\n",
       "      <td>0.000000</td>\n",
       "      <td>0.000000</td>\n",
       "      <td>...</td>\n",
       "      <td>4000.000000</td>\n",
       "      <td>4000.000000</td>\n",
       "      <td>0.000000</td>\n",
       "      <td>0.772794</td>\n",
       "      <td>0.751924</td>\n",
       "      <td>0.707582</td>\n",
       "      <td>0.620643</td>\n",
       "      <td>0.572435</td>\n",
       "      <td>0.553923</td>\n",
       "      <td>0.637818</td>\n",
       "    </tr>\n",
       "    <tr>\n",
       "      <th>max</th>\n",
       "      <td>1000000.000000</td>\n",
       "      <td>2.000000</td>\n",
       "      <td>4.000000</td>\n",
       "      <td>3.000000</td>\n",
       "      <td>79.000000</td>\n",
       "      <td>8.000000</td>\n",
       "      <td>8.000000</td>\n",
       "      <td>8.000000</td>\n",
       "      <td>8.000000</td>\n",
       "      <td>8.000000</td>\n",
       "      <td>...</td>\n",
       "      <td>417990.000000</td>\n",
       "      <td>528666.000000</td>\n",
       "      <td>1.000000</td>\n",
       "      <td>6.234300</td>\n",
       "      <td>6.198000</td>\n",
       "      <td>5.235400</td>\n",
       "      <td>4.986850</td>\n",
       "      <td>4.928000</td>\n",
       "      <td>3.785550</td>\n",
       "      <td>5.203558</td>\n",
       "    </tr>\n",
       "  </tbody>\n",
       "</table>\n",
       "<p>8 rows × 31 columns</p>\n",
       "</div>"
      ],
      "text/plain": [
       "            LIMIT_BAL           SEX     EDUCATION      MARRIAGE           AGE  \\\n",
       "count    22500.000000  22500.000000  22500.000000  22500.000000  22500.000000   \n",
       "mean    163424.608000      1.610178      1.831333      1.568933     35.212889   \n",
       "std     128515.245979      0.487721      0.734407      0.520698      9.307266   \n",
       "min      10000.000000      1.000000      1.000000      1.000000     21.000000   \n",
       "25%      50000.000000      1.000000      1.000000      1.000000     28.000000   \n",
       "50%     135000.000000      2.000000      2.000000      2.000000     33.000000   \n",
       "75%     230000.000000      2.000000      2.000000      2.000000     41.000000   \n",
       "max    1000000.000000      2.000000      4.000000      3.000000     79.000000   \n",
       "\n",
       "              PAY_0         PAY_2         PAY_3         PAY_4         PAY_5  \\\n",
       "count  22500.000000  22500.000000  22500.000000  22500.000000  22500.000000   \n",
       "mean       0.015067     -0.106978     -0.137422     -0.197333     -0.237067   \n",
       "std        1.119824      1.197125      1.202637      1.164344      1.137459   \n",
       "min       -2.000000     -2.000000     -2.000000     -2.000000     -2.000000   \n",
       "25%       -1.000000     -1.000000     -1.000000     -1.000000     -1.000000   \n",
       "50%        0.000000      0.000000      0.000000      0.000000      0.000000   \n",
       "75%        0.000000      0.000000      0.000000      0.000000      0.000000   \n",
       "max        8.000000      8.000000      8.000000      8.000000      8.000000   \n",
       "\n",
       "            ...              PAY_AMT5       PAY_AMT6  \\\n",
       "count       ...          22500.000000   22500.000000   \n",
       "mean        ...           4694.131200    5088.028222   \n",
       "std         ...          15023.608194   17300.349898   \n",
       "min         ...              0.000000       0.000000   \n",
       "25%         ...            247.000000      56.000000   \n",
       "50%         ...           1500.000000    1463.000000   \n",
       "75%         ...           4000.000000    4000.000000   \n",
       "max         ...         417990.000000  528666.000000   \n",
       "\n",
       "       default payment next month  Credit_Util_Rate_1  Credit_Util_Rate_2  \\\n",
       "count                22500.000000        22500.000000        22500.000000   \n",
       "mean                     0.226133            0.383564            0.371962   \n",
       "std                      0.418336            0.415597            0.412199   \n",
       "min                      0.000000           -2.664750           -3.404694   \n",
       "25%                      0.000000            0.005234            0.002642   \n",
       "50%                      0.000000            0.285607            0.271033   \n",
       "75%                      0.000000            0.772794            0.751924   \n",
       "max                      1.000000            6.234300            6.198000   \n",
       "\n",
       "       Credit_Util_Rate_3  Credit_Util_Rate_4  Credit_Util_Rate_5  \\\n",
       "count        22500.000000        22500.000000        22500.000000   \n",
       "mean             0.358169            0.323337            0.302965   \n",
       "std              0.395713            0.373015            0.355392   \n",
       "min             -2.882782           -3.086000           -2.530600   \n",
       "25%              0.002531            0.001632            0.000000   \n",
       "50%              0.252927            0.219094            0.190837   \n",
       "75%              0.707582            0.620643            0.572435   \n",
       "max              5.235400            4.986850            4.928000   \n",
       "\n",
       "       Credit_Util_Rate_6  Credit_Util_Avg  \n",
       "count        22500.000000     22500.000000  \n",
       "mean             0.287063         0.337843  \n",
       "std              0.354784         0.341167  \n",
       "min             -3.013530        -0.746872  \n",
       "25%              0.000000         0.005748  \n",
       "50%              0.163778         0.245906  \n",
       "75%              0.553923         0.637818  \n",
       "max              3.785550         5.203558  \n",
       "\n",
       "[8 rows x 31 columns]"
      ]
     },
     "execution_count": 12,
     "metadata": {},
     "output_type": "execute_result"
    }
   ],
   "source": [
    "credit_card_default.describe()\n",
    "#Describe does not apply to 'ID', SEX', 'EDUCATION', and 'MARRIAGE'"
   ]
  },
  {
   "cell_type": "markdown",
   "metadata": {},
   "source": [
    "#### Correlation Analysis"
   ]
  },
  {
   "cell_type": "code",
   "execution_count": 13,
   "metadata": {},
   "outputs": [
    {
     "data": {
      "text/html": [
       "<div>\n",
       "<style scoped>\n",
       "    .dataframe tbody tr th:only-of-type {\n",
       "        vertical-align: middle;\n",
       "    }\n",
       "\n",
       "    .dataframe tbody tr th {\n",
       "        vertical-align: top;\n",
       "    }\n",
       "\n",
       "    .dataframe thead th {\n",
       "        text-align: right;\n",
       "    }\n",
       "</style>\n",
       "<table border=\"1\" class=\"dataframe\">\n",
       "  <thead>\n",
       "    <tr style=\"text-align: right;\">\n",
       "      <th></th>\n",
       "      <th>LIMIT_BAL</th>\n",
       "      <th>SEX</th>\n",
       "      <th>EDUCATION</th>\n",
       "      <th>MARRIAGE</th>\n",
       "      <th>AGE</th>\n",
       "      <th>PAY_0</th>\n",
       "      <th>PAY_2</th>\n",
       "      <th>PAY_3</th>\n",
       "      <th>PAY_4</th>\n",
       "      <th>PAY_5</th>\n",
       "      <th>...</th>\n",
       "      <th>PAY_AMT5</th>\n",
       "      <th>PAY_AMT6</th>\n",
       "      <th>default payment next month</th>\n",
       "      <th>Credit_Util_Rate_1</th>\n",
       "      <th>Credit_Util_Rate_2</th>\n",
       "      <th>Credit_Util_Rate_3</th>\n",
       "      <th>Credit_Util_Rate_4</th>\n",
       "      <th>Credit_Util_Rate_5</th>\n",
       "      <th>Credit_Util_Rate_6</th>\n",
       "      <th>Credit_Util_Avg</th>\n",
       "    </tr>\n",
       "  </thead>\n",
       "  <tbody>\n",
       "    <tr>\n",
       "      <th>LIMIT_BAL</th>\n",
       "      <td>1.000000</td>\n",
       "      <td>0.016259</td>\n",
       "      <td>-0.247428</td>\n",
       "      <td>-0.108019</td>\n",
       "      <td>0.145016</td>\n",
       "      <td>-0.263680</td>\n",
       "      <td>-0.295251</td>\n",
       "      <td>-0.284323</td>\n",
       "      <td>-0.260785</td>\n",
       "      <td>-0.242676</td>\n",
       "      <td>...</td>\n",
       "      <td>0.220117</td>\n",
       "      <td>0.225258</td>\n",
       "      <td>-0.148079</td>\n",
       "      <td>-0.334008</td>\n",
       "      <td>-0.343777</td>\n",
       "      <td>-0.340462</td>\n",
       "      <td>-0.323860</td>\n",
       "      <td>-0.316518</td>\n",
       "      <td>-0.299338</td>\n",
       "      <td>-0.368703</td>\n",
       "    </tr>\n",
       "    <tr>\n",
       "      <th>SEX</th>\n",
       "      <td>0.016259</td>\n",
       "      <td>1.000000</td>\n",
       "      <td>0.009012</td>\n",
       "      <td>-0.016432</td>\n",
       "      <td>-0.132641</td>\n",
       "      <td>-0.050606</td>\n",
       "      <td>-0.061151</td>\n",
       "      <td>-0.059282</td>\n",
       "      <td>-0.051407</td>\n",
       "      <td>-0.047535</td>\n",
       "      <td>...</td>\n",
       "      <td>-0.001442</td>\n",
       "      <td>-0.009680</td>\n",
       "      <td>-0.038250</td>\n",
       "      <td>-0.065321</td>\n",
       "      <td>-0.064713</td>\n",
       "      <td>-0.058270</td>\n",
       "      <td>-0.047808</td>\n",
       "      <td>-0.041110</td>\n",
       "      <td>-0.031314</td>\n",
       "      <td>-0.058834</td>\n",
       "    </tr>\n",
       "    <tr>\n",
       "      <th>EDUCATION</th>\n",
       "      <td>-0.247428</td>\n",
       "      <td>0.009012</td>\n",
       "      <td>1.000000</td>\n",
       "      <td>-0.132721</td>\n",
       "      <td>0.172016</td>\n",
       "      <td>0.118907</td>\n",
       "      <td>0.140543</td>\n",
       "      <td>0.128700</td>\n",
       "      <td>0.122726</td>\n",
       "      <td>0.109836</td>\n",
       "      <td>...</td>\n",
       "      <td>-0.045185</td>\n",
       "      <td>-0.047276</td>\n",
       "      <td>0.036193</td>\n",
       "      <td>0.178317</td>\n",
       "      <td>0.171201</td>\n",
       "      <td>0.164000</td>\n",
       "      <td>0.148268</td>\n",
       "      <td>0.134107</td>\n",
       "      <td>0.128593</td>\n",
       "      <td>0.174970</td>\n",
       "    </tr>\n",
       "    <tr>\n",
       "      <th>MARRIAGE</th>\n",
       "      <td>-0.108019</td>\n",
       "      <td>-0.016432</td>\n",
       "      <td>-0.132721</td>\n",
       "      <td>1.000000</td>\n",
       "      <td>-0.413992</td>\n",
       "      <td>0.012663</td>\n",
       "      <td>0.018712</td>\n",
       "      <td>0.026555</td>\n",
       "      <td>0.024197</td>\n",
       "      <td>0.029844</td>\n",
       "      <td>...</td>\n",
       "      <td>0.001265</td>\n",
       "      <td>-0.003623</td>\n",
       "      <td>-0.033205</td>\n",
       "      <td>0.032354</td>\n",
       "      <td>0.031268</td>\n",
       "      <td>0.031675</td>\n",
       "      <td>0.032453</td>\n",
       "      <td>0.031380</td>\n",
       "      <td>0.031581</td>\n",
       "      <td>0.035824</td>\n",
       "    </tr>\n",
       "    <tr>\n",
       "      <th>AGE</th>\n",
       "      <td>0.145016</td>\n",
       "      <td>-0.132641</td>\n",
       "      <td>0.172016</td>\n",
       "      <td>-0.413992</td>\n",
       "      <td>1.000000</td>\n",
       "      <td>-0.034701</td>\n",
       "      <td>-0.048135</td>\n",
       "      <td>-0.050460</td>\n",
       "      <td>-0.045635</td>\n",
       "      <td>-0.048023</td>\n",
       "      <td>...</td>\n",
       "      <td>0.024777</td>\n",
       "      <td>0.017653</td>\n",
       "      <td>0.009450</td>\n",
       "      <td>-0.019427</td>\n",
       "      <td>-0.022323</td>\n",
       "      <td>-0.032010</td>\n",
       "      <td>-0.042561</td>\n",
       "      <td>-0.042324</td>\n",
       "      <td>-0.039321</td>\n",
       "      <td>-0.036546</td>\n",
       "    </tr>\n",
       "    <tr>\n",
       "      <th>PAY_0</th>\n",
       "      <td>-0.263680</td>\n",
       "      <td>-0.050606</td>\n",
       "      <td>0.118907</td>\n",
       "      <td>0.012663</td>\n",
       "      <td>-0.034701</td>\n",
       "      <td>1.000000</td>\n",
       "      <td>0.664267</td>\n",
       "      <td>0.562983</td>\n",
       "      <td>0.525229</td>\n",
       "      <td>0.492612</td>\n",
       "      <td>...</td>\n",
       "      <td>-0.058065</td>\n",
       "      <td>-0.063793</td>\n",
       "      <td>0.324702</td>\n",
       "      <td>0.377020</td>\n",
       "      <td>0.376509</td>\n",
       "      <td>0.373832</td>\n",
       "      <td>0.372570</td>\n",
       "      <td>0.370763</td>\n",
       "      <td>0.361819</td>\n",
       "      <td>0.419601</td>\n",
       "    </tr>\n",
       "    <tr>\n",
       "      <th>PAY_2</th>\n",
       "      <td>-0.295251</td>\n",
       "      <td>-0.061151</td>\n",
       "      <td>0.140543</td>\n",
       "      <td>0.018712</td>\n",
       "      <td>-0.048135</td>\n",
       "      <td>0.664267</td>\n",
       "      <td>1.000000</td>\n",
       "      <td>0.762511</td>\n",
       "      <td>0.659204</td>\n",
       "      <td>0.616761</td>\n",
       "      <td>...</td>\n",
       "      <td>-0.039970</td>\n",
       "      <td>-0.038711</td>\n",
       "      <td>0.260688</td>\n",
       "      <td>0.467960</td>\n",
       "      <td>0.455378</td>\n",
       "      <td>0.447395</td>\n",
       "      <td>0.447093</td>\n",
       "      <td>0.441090</td>\n",
       "      <td>0.428726</td>\n",
       "      <td>0.505553</td>\n",
       "    </tr>\n",
       "    <tr>\n",
       "      <th>PAY_3</th>\n",
       "      <td>-0.284323</td>\n",
       "      <td>-0.059282</td>\n",
       "      <td>0.128700</td>\n",
       "      <td>0.026555</td>\n",
       "      <td>-0.050460</td>\n",
       "      <td>0.562983</td>\n",
       "      <td>0.762511</td>\n",
       "      <td>1.000000</td>\n",
       "      <td>0.776793</td>\n",
       "      <td>0.684168</td>\n",
       "      <td>...</td>\n",
       "      <td>-0.037703</td>\n",
       "      <td>-0.041346</td>\n",
       "      <td>0.233688</td>\n",
       "      <td>0.381507</td>\n",
       "      <td>0.459452</td>\n",
       "      <td>0.444999</td>\n",
       "      <td>0.445710</td>\n",
       "      <td>0.437993</td>\n",
       "      <td>0.429060</td>\n",
       "      <td>0.487626</td>\n",
       "    </tr>\n",
       "    <tr>\n",
       "      <th>PAY_4</th>\n",
       "      <td>-0.260785</td>\n",
       "      <td>-0.051407</td>\n",
       "      <td>0.122726</td>\n",
       "      <td>0.024197</td>\n",
       "      <td>-0.045635</td>\n",
       "      <td>0.525229</td>\n",
       "      <td>0.659204</td>\n",
       "      <td>0.776793</td>\n",
       "      <td>1.000000</td>\n",
       "      <td>0.822062</td>\n",
       "      <td>...</td>\n",
       "      <td>-0.034260</td>\n",
       "      <td>-0.027655</td>\n",
       "      <td>0.213800</td>\n",
       "      <td>0.367514</td>\n",
       "      <td>0.396422</td>\n",
       "      <td>0.472331</td>\n",
       "      <td>0.467346</td>\n",
       "      <td>0.460061</td>\n",
       "      <td>0.451444</td>\n",
       "      <td>0.489030</td>\n",
       "    </tr>\n",
       "    <tr>\n",
       "      <th>PAY_5</th>\n",
       "      <td>-0.242676</td>\n",
       "      <td>-0.047535</td>\n",
       "      <td>0.109836</td>\n",
       "      <td>0.029844</td>\n",
       "      <td>-0.048023</td>\n",
       "      <td>0.492612</td>\n",
       "      <td>0.616761</td>\n",
       "      <td>0.684168</td>\n",
       "      <td>0.822062</td>\n",
       "      <td>1.000000</td>\n",
       "      <td>...</td>\n",
       "      <td>-0.035307</td>\n",
       "      <td>-0.026352</td>\n",
       "      <td>0.207287</td>\n",
       "      <td>0.354455</td>\n",
       "      <td>0.380879</td>\n",
       "      <td>0.422448</td>\n",
       "      <td>0.497747</td>\n",
       "      <td>0.484456</td>\n",
       "      <td>0.469580</td>\n",
       "      <td>0.486524</td>\n",
       "    </tr>\n",
       "    <tr>\n",
       "      <th>PAY_6</th>\n",
       "      <td>-0.230691</td>\n",
       "      <td>-0.034902</td>\n",
       "      <td>0.095907</td>\n",
       "      <td>0.028583</td>\n",
       "      <td>-0.040364</td>\n",
       "      <td>0.458331</td>\n",
       "      <td>0.565874</td>\n",
       "      <td>0.629369</td>\n",
       "      <td>0.716408</td>\n",
       "      <td>0.809818</td>\n",
       "      <td>...</td>\n",
       "      <td>-0.044819</td>\n",
       "      <td>-0.028335</td>\n",
       "      <td>0.187033</td>\n",
       "      <td>0.342879</td>\n",
       "      <td>0.368439</td>\n",
       "      <td>0.408212</td>\n",
       "      <td>0.442190</td>\n",
       "      <td>0.516944</td>\n",
       "      <td>0.495380</td>\n",
       "      <td>0.478905</td>\n",
       "    </tr>\n",
       "    <tr>\n",
       "      <th>BILL_AMT1</th>\n",
       "      <td>0.284819</td>\n",
       "      <td>-0.037028</td>\n",
       "      <td>0.012017</td>\n",
       "      <td>-0.025278</td>\n",
       "      <td>0.056882</td>\n",
       "      <td>0.175780</td>\n",
       "      <td>0.227934</td>\n",
       "      <td>0.197835</td>\n",
       "      <td>0.195943</td>\n",
       "      <td>0.199243</td>\n",
       "      <td>...</td>\n",
       "      <td>0.171036</td>\n",
       "      <td>0.163994</td>\n",
       "      <td>-0.022562</td>\n",
       "      <td>0.560107</td>\n",
       "      <td>0.502677</td>\n",
       "      <td>0.458548</td>\n",
       "      <td>0.409036</td>\n",
       "      <td>0.391099</td>\n",
       "      <td>0.372881</td>\n",
       "      <td>0.510648</td>\n",
       "    </tr>\n",
       "    <tr>\n",
       "      <th>BILL_AMT2</th>\n",
       "      <td>0.278601</td>\n",
       "      <td>-0.035425</td>\n",
       "      <td>0.006785</td>\n",
       "      <td>-0.025533</td>\n",
       "      <td>0.056590</td>\n",
       "      <td>0.178284</td>\n",
       "      <td>0.228822</td>\n",
       "      <td>0.227542</td>\n",
       "      <td>0.220132</td>\n",
       "      <td>0.219905</td>\n",
       "      <td>...</td>\n",
       "      <td>0.162082</td>\n",
       "      <td>0.162615</td>\n",
       "      <td>-0.016293</td>\n",
       "      <td>0.499314</td>\n",
       "      <td>0.551860</td>\n",
       "      <td>0.494784</td>\n",
       "      <td>0.442079</td>\n",
       "      <td>0.420671</td>\n",
       "      <td>0.399648</td>\n",
       "      <td>0.531009</td>\n",
       "    </tr>\n",
       "    <tr>\n",
       "      <th>BILL_AMT3</th>\n",
       "      <td>0.286741</td>\n",
       "      <td>-0.028192</td>\n",
       "      <td>0.000944</td>\n",
       "      <td>-0.030648</td>\n",
       "      <td>0.056135</td>\n",
       "      <td>0.167803</td>\n",
       "      <td>0.216334</td>\n",
       "      <td>0.217793</td>\n",
       "      <td>0.240498</td>\n",
       "      <td>0.238292</td>\n",
       "      <td>...</td>\n",
       "      <td>0.189008</td>\n",
       "      <td>0.170869</td>\n",
       "      <td>-0.014983</td>\n",
       "      <td>0.458692</td>\n",
       "      <td>0.454370</td>\n",
       "      <td>0.547712</td>\n",
       "      <td>0.472718</td>\n",
       "      <td>0.444841</td>\n",
       "      <td>0.422217</td>\n",
       "      <td>0.527053</td>\n",
       "    </tr>\n",
       "    <tr>\n",
       "      <th>BILL_AMT4</th>\n",
       "      <td>0.296529</td>\n",
       "      <td>-0.022462</td>\n",
       "      <td>-0.013297</td>\n",
       "      <td>-0.029813</td>\n",
       "      <td>0.053744</td>\n",
       "      <td>0.169501</td>\n",
       "      <td>0.217294</td>\n",
       "      <td>0.220119</td>\n",
       "      <td>0.244939</td>\n",
       "      <td>0.269267</td>\n",
       "      <td>...</td>\n",
       "      <td>0.161421</td>\n",
       "      <td>0.164551</td>\n",
       "      <td>-0.009084</td>\n",
       "      <td>0.422075</td>\n",
       "      <td>0.429143</td>\n",
       "      <td>0.459604</td>\n",
       "      <td>0.536747</td>\n",
       "      <td>0.492143</td>\n",
       "      <td>0.461581</td>\n",
       "      <td>0.524209</td>\n",
       "    </tr>\n",
       "    <tr>\n",
       "      <th>BILL_AMT5</th>\n",
       "      <td>0.295303</td>\n",
       "      <td>-0.019601</td>\n",
       "      <td>-0.018557</td>\n",
       "      <td>-0.029726</td>\n",
       "      <td>0.052161</td>\n",
       "      <td>0.171793</td>\n",
       "      <td>0.215984</td>\n",
       "      <td>0.217473</td>\n",
       "      <td>0.240940</td>\n",
       "      <td>0.266144</td>\n",
       "      <td>...</td>\n",
       "      <td>0.146601</td>\n",
       "      <td>0.149982</td>\n",
       "      <td>-0.005547</td>\n",
       "      <td>0.402429</td>\n",
       "      <td>0.409231</td>\n",
       "      <td>0.438829</td>\n",
       "      <td>0.463817</td>\n",
       "      <td>0.542381</td>\n",
       "      <td>0.499793</td>\n",
       "      <td>0.514250</td>\n",
       "    </tr>\n",
       "    <tr>\n",
       "      <th>BILL_AMT6</th>\n",
       "      <td>0.291392</td>\n",
       "      <td>-0.016935</td>\n",
       "      <td>-0.015588</td>\n",
       "      <td>-0.026408</td>\n",
       "      <td>0.051597</td>\n",
       "      <td>0.167463</td>\n",
       "      <td>0.212364</td>\n",
       "      <td>0.213844</td>\n",
       "      <td>0.235548</td>\n",
       "      <td>0.257764</td>\n",
       "      <td>...</td>\n",
       "      <td>0.311989</td>\n",
       "      <td>0.106183</td>\n",
       "      <td>-0.004120</td>\n",
       "      <td>0.387165</td>\n",
       "      <td>0.393692</td>\n",
       "      <td>0.420219</td>\n",
       "      <td>0.444986</td>\n",
       "      <td>0.476830</td>\n",
       "      <td>0.552671</td>\n",
       "      <td>0.498777</td>\n",
       "    </tr>\n",
       "    <tr>\n",
       "      <th>PAY_AMT1</th>\n",
       "      <td>0.208238</td>\n",
       "      <td>-0.003042</td>\n",
       "      <td>-0.044481</td>\n",
       "      <td>-0.017255</td>\n",
       "      <td>0.031701</td>\n",
       "      <td>-0.092783</td>\n",
       "      <td>-0.086095</td>\n",
       "      <td>0.001137</td>\n",
       "      <td>-0.009270</td>\n",
       "      <td>-0.009313</td>\n",
       "      <td>...</td>\n",
       "      <td>0.158074</td>\n",
       "      <td>0.191463</td>\n",
       "      <td>-0.077830</td>\n",
       "      <td>-0.184165</td>\n",
       "      <td>0.069297</td>\n",
       "      <td>0.042301</td>\n",
       "      <td>0.028838</td>\n",
       "      <td>0.014921</td>\n",
       "      <td>0.000966</td>\n",
       "      <td>-0.007246</td>\n",
       "    </tr>\n",
       "    <tr>\n",
       "      <th>PAY_AMT2</th>\n",
       "      <td>0.198730</td>\n",
       "      <td>-0.008711</td>\n",
       "      <td>-0.035192</td>\n",
       "      <td>-0.019509</td>\n",
       "      <td>0.027489</td>\n",
       "      <td>-0.083210</td>\n",
       "      <td>-0.072100</td>\n",
       "      <td>-0.075087</td>\n",
       "      <td>0.001132</td>\n",
       "      <td>-0.004314</td>\n",
       "      <td>...</td>\n",
       "      <td>0.207316</td>\n",
       "      <td>0.163715</td>\n",
       "      <td>-0.060352</td>\n",
       "      <td>-0.041339</td>\n",
       "      <td>-0.202791</td>\n",
       "      <td>0.078384</td>\n",
       "      <td>0.026029</td>\n",
       "      <td>0.008107</td>\n",
       "      <td>0.000622</td>\n",
       "      <td>-0.027817</td>\n",
       "    </tr>\n",
       "    <tr>\n",
       "      <th>PAY_AMT3</th>\n",
       "      <td>0.217787</td>\n",
       "      <td>-0.007847</td>\n",
       "      <td>-0.047823</td>\n",
       "      <td>-0.014783</td>\n",
       "      <td>0.035613</td>\n",
       "      <td>-0.076485</td>\n",
       "      <td>-0.057204</td>\n",
       "      <td>-0.054032</td>\n",
       "      <td>-0.066621</td>\n",
       "      <td>0.010426</td>\n",
       "      <td>...</td>\n",
       "      <td>0.146153</td>\n",
       "      <td>0.153741</td>\n",
       "      <td>-0.057625</td>\n",
       "      <td>-0.026848</td>\n",
       "      <td>-0.038692</td>\n",
       "      <td>-0.176419</td>\n",
       "      <td>0.065566</td>\n",
       "      <td>0.033027</td>\n",
       "      <td>0.019492</td>\n",
       "      <td>-0.026286</td>\n",
       "    </tr>\n",
       "    <tr>\n",
       "      <th>PAY_AMT4</th>\n",
       "      <td>0.206889</td>\n",
       "      <td>0.000591</td>\n",
       "      <td>-0.044452</td>\n",
       "      <td>-0.015226</td>\n",
       "      <td>0.023191</td>\n",
       "      <td>-0.068328</td>\n",
       "      <td>-0.052453</td>\n",
       "      <td>-0.050897</td>\n",
       "      <td>-0.045054</td>\n",
       "      <td>-0.062136</td>\n",
       "      <td>...</td>\n",
       "      <td>0.139799</td>\n",
       "      <td>0.134515</td>\n",
       "      <td>-0.058732</td>\n",
       "      <td>-0.010158</td>\n",
       "      <td>-0.023049</td>\n",
       "      <td>-0.023546</td>\n",
       "      <td>-0.197315</td>\n",
       "      <td>0.080084</td>\n",
       "      <td>0.049543</td>\n",
       "      <td>-0.024720</td>\n",
       "    </tr>\n",
       "    <tr>\n",
       "      <th>PAY_AMT5</th>\n",
       "      <td>0.220117</td>\n",
       "      <td>-0.001442</td>\n",
       "      <td>-0.045185</td>\n",
       "      <td>0.001265</td>\n",
       "      <td>0.024777</td>\n",
       "      <td>-0.058065</td>\n",
       "      <td>-0.039970</td>\n",
       "      <td>-0.037703</td>\n",
       "      <td>-0.034260</td>\n",
       "      <td>-0.035307</td>\n",
       "      <td>...</td>\n",
       "      <td>1.000000</td>\n",
       "      <td>0.149834</td>\n",
       "      <td>-0.051572</td>\n",
       "      <td>-0.010453</td>\n",
       "      <td>-0.021997</td>\n",
       "      <td>-0.007432</td>\n",
       "      <td>-0.020556</td>\n",
       "      <td>-0.182190</td>\n",
       "      <td>0.080040</td>\n",
       "      <td>-0.029493</td>\n",
       "    </tr>\n",
       "    <tr>\n",
       "      <th>PAY_AMT6</th>\n",
       "      <td>0.225258</td>\n",
       "      <td>-0.009680</td>\n",
       "      <td>-0.047276</td>\n",
       "      <td>-0.003623</td>\n",
       "      <td>0.017653</td>\n",
       "      <td>-0.063793</td>\n",
       "      <td>-0.038711</td>\n",
       "      <td>-0.041346</td>\n",
       "      <td>-0.027655</td>\n",
       "      <td>-0.026352</td>\n",
       "      <td>...</td>\n",
       "      <td>0.149834</td>\n",
       "      <td>1.000000</td>\n",
       "      <td>-0.055247</td>\n",
       "      <td>-0.020861</td>\n",
       "      <td>-0.023437</td>\n",
       "      <td>-0.019080</td>\n",
       "      <td>-0.020319</td>\n",
       "      <td>-0.028132</td>\n",
       "      <td>-0.224387</td>\n",
       "      <td>-0.060121</td>\n",
       "    </tr>\n",
       "    <tr>\n",
       "      <th>default payment next month</th>\n",
       "      <td>-0.148079</td>\n",
       "      <td>-0.038250</td>\n",
       "      <td>0.036193</td>\n",
       "      <td>-0.033205</td>\n",
       "      <td>0.009450</td>\n",
       "      <td>0.324702</td>\n",
       "      <td>0.260688</td>\n",
       "      <td>0.233688</td>\n",
       "      <td>0.213800</td>\n",
       "      <td>0.207287</td>\n",
       "      <td>...</td>\n",
       "      <td>-0.051572</td>\n",
       "      <td>-0.055247</td>\n",
       "      <td>1.000000</td>\n",
       "      <td>0.085921</td>\n",
       "      <td>0.102481</td>\n",
       "      <td>0.104087</td>\n",
       "      <td>0.118789</td>\n",
       "      <td>0.122041</td>\n",
       "      <td>0.123671</td>\n",
       "      <td>0.122471</td>\n",
       "    </tr>\n",
       "    <tr>\n",
       "      <th>Credit_Util_Rate_1</th>\n",
       "      <td>-0.334008</td>\n",
       "      <td>-0.065321</td>\n",
       "      <td>0.178317</td>\n",
       "      <td>0.032354</td>\n",
       "      <td>-0.019427</td>\n",
       "      <td>0.377020</td>\n",
       "      <td>0.467960</td>\n",
       "      <td>0.381507</td>\n",
       "      <td>0.367514</td>\n",
       "      <td>0.354455</td>\n",
       "      <td>...</td>\n",
       "      <td>-0.010453</td>\n",
       "      <td>-0.020861</td>\n",
       "      <td>0.085921</td>\n",
       "      <td>1.000000</td>\n",
       "      <td>0.840110</td>\n",
       "      <td>0.788233</td>\n",
       "      <td>0.710770</td>\n",
       "      <td>0.670194</td>\n",
       "      <td>0.619458</td>\n",
       "      <td>0.877814</td>\n",
       "    </tr>\n",
       "    <tr>\n",
       "      <th>Credit_Util_Rate_2</th>\n",
       "      <td>-0.343777</td>\n",
       "      <td>-0.064713</td>\n",
       "      <td>0.171201</td>\n",
       "      <td>0.031268</td>\n",
       "      <td>-0.022323</td>\n",
       "      <td>0.376509</td>\n",
       "      <td>0.455378</td>\n",
       "      <td>0.459452</td>\n",
       "      <td>0.396422</td>\n",
       "      <td>0.380879</td>\n",
       "      <td>...</td>\n",
       "      <td>-0.021997</td>\n",
       "      <td>-0.023437</td>\n",
       "      <td>0.102481</td>\n",
       "      <td>0.840110</td>\n",
       "      <td>1.000000</td>\n",
       "      <td>0.817280</td>\n",
       "      <td>0.740717</td>\n",
       "      <td>0.695179</td>\n",
       "      <td>0.646710</td>\n",
       "      <td>0.897682</td>\n",
       "    </tr>\n",
       "    <tr>\n",
       "      <th>Credit_Util_Rate_3</th>\n",
       "      <td>-0.340462</td>\n",
       "      <td>-0.058270</td>\n",
       "      <td>0.164000</td>\n",
       "      <td>0.031675</td>\n",
       "      <td>-0.032010</td>\n",
       "      <td>0.373832</td>\n",
       "      <td>0.447395</td>\n",
       "      <td>0.444999</td>\n",
       "      <td>0.472331</td>\n",
       "      <td>0.422448</td>\n",
       "      <td>...</td>\n",
       "      <td>-0.007432</td>\n",
       "      <td>-0.019080</td>\n",
       "      <td>0.104087</td>\n",
       "      <td>0.788233</td>\n",
       "      <td>0.817280</td>\n",
       "      <td>1.000000</td>\n",
       "      <td>0.802911</td>\n",
       "      <td>0.754583</td>\n",
       "      <td>0.702781</td>\n",
       "      <td>0.917043</td>\n",
       "    </tr>\n",
       "    <tr>\n",
       "      <th>Credit_Util_Rate_4</th>\n",
       "      <td>-0.323860</td>\n",
       "      <td>-0.047808</td>\n",
       "      <td>0.148268</td>\n",
       "      <td>0.032453</td>\n",
       "      <td>-0.042561</td>\n",
       "      <td>0.372570</td>\n",
       "      <td>0.447093</td>\n",
       "      <td>0.445710</td>\n",
       "      <td>0.467346</td>\n",
       "      <td>0.497747</td>\n",
       "      <td>...</td>\n",
       "      <td>-0.020556</td>\n",
       "      <td>-0.020319</td>\n",
       "      <td>0.118789</td>\n",
       "      <td>0.710770</td>\n",
       "      <td>0.740717</td>\n",
       "      <td>0.802911</td>\n",
       "      <td>1.000000</td>\n",
       "      <td>0.808229</td>\n",
       "      <td>0.751572</td>\n",
       "      <td>0.901484</td>\n",
       "    </tr>\n",
       "    <tr>\n",
       "      <th>Credit_Util_Rate_5</th>\n",
       "      <td>-0.316518</td>\n",
       "      <td>-0.041110</td>\n",
       "      <td>0.134107</td>\n",
       "      <td>0.031380</td>\n",
       "      <td>-0.042324</td>\n",
       "      <td>0.370763</td>\n",
       "      <td>0.441090</td>\n",
       "      <td>0.437993</td>\n",
       "      <td>0.460061</td>\n",
       "      <td>0.484456</td>\n",
       "      <td>...</td>\n",
       "      <td>-0.182190</td>\n",
       "      <td>-0.028132</td>\n",
       "      <td>0.122041</td>\n",
       "      <td>0.670194</td>\n",
       "      <td>0.695179</td>\n",
       "      <td>0.754583</td>\n",
       "      <td>0.808229</td>\n",
       "      <td>1.000000</td>\n",
       "      <td>0.811019</td>\n",
       "      <td>0.883386</td>\n",
       "    </tr>\n",
       "    <tr>\n",
       "      <th>Credit_Util_Rate_6</th>\n",
       "      <td>-0.299338</td>\n",
       "      <td>-0.031314</td>\n",
       "      <td>0.128593</td>\n",
       "      <td>0.031581</td>\n",
       "      <td>-0.039321</td>\n",
       "      <td>0.361819</td>\n",
       "      <td>0.428726</td>\n",
       "      <td>0.429060</td>\n",
       "      <td>0.451444</td>\n",
       "      <td>0.469580</td>\n",
       "      <td>...</td>\n",
       "      <td>0.080040</td>\n",
       "      <td>-0.224387</td>\n",
       "      <td>0.123671</td>\n",
       "      <td>0.619458</td>\n",
       "      <td>0.646710</td>\n",
       "      <td>0.702781</td>\n",
       "      <td>0.751572</td>\n",
       "      <td>0.811019</td>\n",
       "      <td>1.000000</td>\n",
       "      <td>0.842931</td>\n",
       "    </tr>\n",
       "    <tr>\n",
       "      <th>Credit_Util_Avg</th>\n",
       "      <td>-0.368703</td>\n",
       "      <td>-0.058834</td>\n",
       "      <td>0.174970</td>\n",
       "      <td>0.035824</td>\n",
       "      <td>-0.036546</td>\n",
       "      <td>0.419601</td>\n",
       "      <td>0.505553</td>\n",
       "      <td>0.487626</td>\n",
       "      <td>0.489030</td>\n",
       "      <td>0.486524</td>\n",
       "      <td>...</td>\n",
       "      <td>-0.029493</td>\n",
       "      <td>-0.060121</td>\n",
       "      <td>0.122471</td>\n",
       "      <td>0.877814</td>\n",
       "      <td>0.897682</td>\n",
       "      <td>0.917043</td>\n",
       "      <td>0.901484</td>\n",
       "      <td>0.883386</td>\n",
       "      <td>0.842931</td>\n",
       "      <td>1.000000</td>\n",
       "    </tr>\n",
       "  </tbody>\n",
       "</table>\n",
       "<p>31 rows × 31 columns</p>\n",
       "</div>"
      ],
      "text/plain": [
       "                            LIMIT_BAL       SEX  EDUCATION  MARRIAGE  \\\n",
       "LIMIT_BAL                    1.000000  0.016259  -0.247428 -0.108019   \n",
       "SEX                          0.016259  1.000000   0.009012 -0.016432   \n",
       "EDUCATION                   -0.247428  0.009012   1.000000 -0.132721   \n",
       "MARRIAGE                    -0.108019 -0.016432  -0.132721  1.000000   \n",
       "AGE                          0.145016 -0.132641   0.172016 -0.413992   \n",
       "PAY_0                       -0.263680 -0.050606   0.118907  0.012663   \n",
       "PAY_2                       -0.295251 -0.061151   0.140543  0.018712   \n",
       "PAY_3                       -0.284323 -0.059282   0.128700  0.026555   \n",
       "PAY_4                       -0.260785 -0.051407   0.122726  0.024197   \n",
       "PAY_5                       -0.242676 -0.047535   0.109836  0.029844   \n",
       "PAY_6                       -0.230691 -0.034902   0.095907  0.028583   \n",
       "BILL_AMT1                    0.284819 -0.037028   0.012017 -0.025278   \n",
       "BILL_AMT2                    0.278601 -0.035425   0.006785 -0.025533   \n",
       "BILL_AMT3                    0.286741 -0.028192   0.000944 -0.030648   \n",
       "BILL_AMT4                    0.296529 -0.022462  -0.013297 -0.029813   \n",
       "BILL_AMT5                    0.295303 -0.019601  -0.018557 -0.029726   \n",
       "BILL_AMT6                    0.291392 -0.016935  -0.015588 -0.026408   \n",
       "PAY_AMT1                     0.208238 -0.003042  -0.044481 -0.017255   \n",
       "PAY_AMT2                     0.198730 -0.008711  -0.035192 -0.019509   \n",
       "PAY_AMT3                     0.217787 -0.007847  -0.047823 -0.014783   \n",
       "PAY_AMT4                     0.206889  0.000591  -0.044452 -0.015226   \n",
       "PAY_AMT5                     0.220117 -0.001442  -0.045185  0.001265   \n",
       "PAY_AMT6                     0.225258 -0.009680  -0.047276 -0.003623   \n",
       "default payment next month  -0.148079 -0.038250   0.036193 -0.033205   \n",
       "Credit_Util_Rate_1          -0.334008 -0.065321   0.178317  0.032354   \n",
       "Credit_Util_Rate_2          -0.343777 -0.064713   0.171201  0.031268   \n",
       "Credit_Util_Rate_3          -0.340462 -0.058270   0.164000  0.031675   \n",
       "Credit_Util_Rate_4          -0.323860 -0.047808   0.148268  0.032453   \n",
       "Credit_Util_Rate_5          -0.316518 -0.041110   0.134107  0.031380   \n",
       "Credit_Util_Rate_6          -0.299338 -0.031314   0.128593  0.031581   \n",
       "Credit_Util_Avg             -0.368703 -0.058834   0.174970  0.035824   \n",
       "\n",
       "                                 AGE     PAY_0     PAY_2     PAY_3     PAY_4  \\\n",
       "LIMIT_BAL                   0.145016 -0.263680 -0.295251 -0.284323 -0.260785   \n",
       "SEX                        -0.132641 -0.050606 -0.061151 -0.059282 -0.051407   \n",
       "EDUCATION                   0.172016  0.118907  0.140543  0.128700  0.122726   \n",
       "MARRIAGE                   -0.413992  0.012663  0.018712  0.026555  0.024197   \n",
       "AGE                         1.000000 -0.034701 -0.048135 -0.050460 -0.045635   \n",
       "PAY_0                      -0.034701  1.000000  0.664267  0.562983  0.525229   \n",
       "PAY_2                      -0.048135  0.664267  1.000000  0.762511  0.659204   \n",
       "PAY_3                      -0.050460  0.562983  0.762511  1.000000  0.776793   \n",
       "PAY_4                      -0.045635  0.525229  0.659204  0.776793  1.000000   \n",
       "PAY_5                      -0.048023  0.492612  0.616761  0.684168  0.822062   \n",
       "PAY_6                      -0.040364  0.458331  0.565874  0.629369  0.716408   \n",
       "BILL_AMT1                   0.056882  0.175780  0.227934  0.197835  0.195943   \n",
       "BILL_AMT2                   0.056590  0.178284  0.228822  0.227542  0.220132   \n",
       "BILL_AMT3                   0.056135  0.167803  0.216334  0.217793  0.240498   \n",
       "BILL_AMT4                   0.053744  0.169501  0.217294  0.220119  0.244939   \n",
       "BILL_AMT5                   0.052161  0.171793  0.215984  0.217473  0.240940   \n",
       "BILL_AMT6                   0.051597  0.167463  0.212364  0.213844  0.235548   \n",
       "PAY_AMT1                    0.031701 -0.092783 -0.086095  0.001137 -0.009270   \n",
       "PAY_AMT2                    0.027489 -0.083210 -0.072100 -0.075087  0.001132   \n",
       "PAY_AMT3                    0.035613 -0.076485 -0.057204 -0.054032 -0.066621   \n",
       "PAY_AMT4                    0.023191 -0.068328 -0.052453 -0.050897 -0.045054   \n",
       "PAY_AMT5                    0.024777 -0.058065 -0.039970 -0.037703 -0.034260   \n",
       "PAY_AMT6                    0.017653 -0.063793 -0.038711 -0.041346 -0.027655   \n",
       "default payment next month  0.009450  0.324702  0.260688  0.233688  0.213800   \n",
       "Credit_Util_Rate_1         -0.019427  0.377020  0.467960  0.381507  0.367514   \n",
       "Credit_Util_Rate_2         -0.022323  0.376509  0.455378  0.459452  0.396422   \n",
       "Credit_Util_Rate_3         -0.032010  0.373832  0.447395  0.444999  0.472331   \n",
       "Credit_Util_Rate_4         -0.042561  0.372570  0.447093  0.445710  0.467346   \n",
       "Credit_Util_Rate_5         -0.042324  0.370763  0.441090  0.437993  0.460061   \n",
       "Credit_Util_Rate_6         -0.039321  0.361819  0.428726  0.429060  0.451444   \n",
       "Credit_Util_Avg            -0.036546  0.419601  0.505553  0.487626  0.489030   \n",
       "\n",
       "                               PAY_5       ...         PAY_AMT5  PAY_AMT6  \\\n",
       "LIMIT_BAL                  -0.242676       ...         0.220117  0.225258   \n",
       "SEX                        -0.047535       ...        -0.001442 -0.009680   \n",
       "EDUCATION                   0.109836       ...        -0.045185 -0.047276   \n",
       "MARRIAGE                    0.029844       ...         0.001265 -0.003623   \n",
       "AGE                        -0.048023       ...         0.024777  0.017653   \n",
       "PAY_0                       0.492612       ...        -0.058065 -0.063793   \n",
       "PAY_2                       0.616761       ...        -0.039970 -0.038711   \n",
       "PAY_3                       0.684168       ...        -0.037703 -0.041346   \n",
       "PAY_4                       0.822062       ...        -0.034260 -0.027655   \n",
       "PAY_5                       1.000000       ...        -0.035307 -0.026352   \n",
       "PAY_6                       0.809818       ...        -0.044819 -0.028335   \n",
       "BILL_AMT1                   0.199243       ...         0.171036  0.163994   \n",
       "BILL_AMT2                   0.219905       ...         0.162082  0.162615   \n",
       "BILL_AMT3                   0.238292       ...         0.189008  0.170869   \n",
       "BILL_AMT4                   0.269267       ...         0.161421  0.164551   \n",
       "BILL_AMT5                   0.266144       ...         0.146601  0.149982   \n",
       "BILL_AMT6                   0.257764       ...         0.311989  0.106183   \n",
       "PAY_AMT1                   -0.009313       ...         0.158074  0.191463   \n",
       "PAY_AMT2                   -0.004314       ...         0.207316  0.163715   \n",
       "PAY_AMT3                    0.010426       ...         0.146153  0.153741   \n",
       "PAY_AMT4                   -0.062136       ...         0.139799  0.134515   \n",
       "PAY_AMT5                   -0.035307       ...         1.000000  0.149834   \n",
       "PAY_AMT6                   -0.026352       ...         0.149834  1.000000   \n",
       "default payment next month  0.207287       ...        -0.051572 -0.055247   \n",
       "Credit_Util_Rate_1          0.354455       ...        -0.010453 -0.020861   \n",
       "Credit_Util_Rate_2          0.380879       ...        -0.021997 -0.023437   \n",
       "Credit_Util_Rate_3          0.422448       ...        -0.007432 -0.019080   \n",
       "Credit_Util_Rate_4          0.497747       ...        -0.020556 -0.020319   \n",
       "Credit_Util_Rate_5          0.484456       ...        -0.182190 -0.028132   \n",
       "Credit_Util_Rate_6          0.469580       ...         0.080040 -0.224387   \n",
       "Credit_Util_Avg             0.486524       ...        -0.029493 -0.060121   \n",
       "\n",
       "                            default payment next month  Credit_Util_Rate_1  \\\n",
       "LIMIT_BAL                                    -0.148079           -0.334008   \n",
       "SEX                                          -0.038250           -0.065321   \n",
       "EDUCATION                                     0.036193            0.178317   \n",
       "MARRIAGE                                     -0.033205            0.032354   \n",
       "AGE                                           0.009450           -0.019427   \n",
       "PAY_0                                         0.324702            0.377020   \n",
       "PAY_2                                         0.260688            0.467960   \n",
       "PAY_3                                         0.233688            0.381507   \n",
       "PAY_4                                         0.213800            0.367514   \n",
       "PAY_5                                         0.207287            0.354455   \n",
       "PAY_6                                         0.187033            0.342879   \n",
       "BILL_AMT1                                    -0.022562            0.560107   \n",
       "BILL_AMT2                                    -0.016293            0.499314   \n",
       "BILL_AMT3                                    -0.014983            0.458692   \n",
       "BILL_AMT4                                    -0.009084            0.422075   \n",
       "BILL_AMT5                                    -0.005547            0.402429   \n",
       "BILL_AMT6                                    -0.004120            0.387165   \n",
       "PAY_AMT1                                     -0.077830           -0.184165   \n",
       "PAY_AMT2                                     -0.060352           -0.041339   \n",
       "PAY_AMT3                                     -0.057625           -0.026848   \n",
       "PAY_AMT4                                     -0.058732           -0.010158   \n",
       "PAY_AMT5                                     -0.051572           -0.010453   \n",
       "PAY_AMT6                                     -0.055247           -0.020861   \n",
       "default payment next month                    1.000000            0.085921   \n",
       "Credit_Util_Rate_1                            0.085921            1.000000   \n",
       "Credit_Util_Rate_2                            0.102481            0.840110   \n",
       "Credit_Util_Rate_3                            0.104087            0.788233   \n",
       "Credit_Util_Rate_4                            0.118789            0.710770   \n",
       "Credit_Util_Rate_5                            0.122041            0.670194   \n",
       "Credit_Util_Rate_6                            0.123671            0.619458   \n",
       "Credit_Util_Avg                               0.122471            0.877814   \n",
       "\n",
       "                            Credit_Util_Rate_2  Credit_Util_Rate_3  \\\n",
       "LIMIT_BAL                            -0.343777           -0.340462   \n",
       "SEX                                  -0.064713           -0.058270   \n",
       "EDUCATION                             0.171201            0.164000   \n",
       "MARRIAGE                              0.031268            0.031675   \n",
       "AGE                                  -0.022323           -0.032010   \n",
       "PAY_0                                 0.376509            0.373832   \n",
       "PAY_2                                 0.455378            0.447395   \n",
       "PAY_3                                 0.459452            0.444999   \n",
       "PAY_4                                 0.396422            0.472331   \n",
       "PAY_5                                 0.380879            0.422448   \n",
       "PAY_6                                 0.368439            0.408212   \n",
       "BILL_AMT1                             0.502677            0.458548   \n",
       "BILL_AMT2                             0.551860            0.494784   \n",
       "BILL_AMT3                             0.454370            0.547712   \n",
       "BILL_AMT4                             0.429143            0.459604   \n",
       "BILL_AMT5                             0.409231            0.438829   \n",
       "BILL_AMT6                             0.393692            0.420219   \n",
       "PAY_AMT1                              0.069297            0.042301   \n",
       "PAY_AMT2                             -0.202791            0.078384   \n",
       "PAY_AMT3                             -0.038692           -0.176419   \n",
       "PAY_AMT4                             -0.023049           -0.023546   \n",
       "PAY_AMT5                             -0.021997           -0.007432   \n",
       "PAY_AMT6                             -0.023437           -0.019080   \n",
       "default payment next month            0.102481            0.104087   \n",
       "Credit_Util_Rate_1                    0.840110            0.788233   \n",
       "Credit_Util_Rate_2                    1.000000            0.817280   \n",
       "Credit_Util_Rate_3                    0.817280            1.000000   \n",
       "Credit_Util_Rate_4                    0.740717            0.802911   \n",
       "Credit_Util_Rate_5                    0.695179            0.754583   \n",
       "Credit_Util_Rate_6                    0.646710            0.702781   \n",
       "Credit_Util_Avg                       0.897682            0.917043   \n",
       "\n",
       "                            Credit_Util_Rate_4  Credit_Util_Rate_5  \\\n",
       "LIMIT_BAL                            -0.323860           -0.316518   \n",
       "SEX                                  -0.047808           -0.041110   \n",
       "EDUCATION                             0.148268            0.134107   \n",
       "MARRIAGE                              0.032453            0.031380   \n",
       "AGE                                  -0.042561           -0.042324   \n",
       "PAY_0                                 0.372570            0.370763   \n",
       "PAY_2                                 0.447093            0.441090   \n",
       "PAY_3                                 0.445710            0.437993   \n",
       "PAY_4                                 0.467346            0.460061   \n",
       "PAY_5                                 0.497747            0.484456   \n",
       "PAY_6                                 0.442190            0.516944   \n",
       "BILL_AMT1                             0.409036            0.391099   \n",
       "BILL_AMT2                             0.442079            0.420671   \n",
       "BILL_AMT3                             0.472718            0.444841   \n",
       "BILL_AMT4                             0.536747            0.492143   \n",
       "BILL_AMT5                             0.463817            0.542381   \n",
       "BILL_AMT6                             0.444986            0.476830   \n",
       "PAY_AMT1                              0.028838            0.014921   \n",
       "PAY_AMT2                              0.026029            0.008107   \n",
       "PAY_AMT3                              0.065566            0.033027   \n",
       "PAY_AMT4                             -0.197315            0.080084   \n",
       "PAY_AMT5                             -0.020556           -0.182190   \n",
       "PAY_AMT6                             -0.020319           -0.028132   \n",
       "default payment next month            0.118789            0.122041   \n",
       "Credit_Util_Rate_1                    0.710770            0.670194   \n",
       "Credit_Util_Rate_2                    0.740717            0.695179   \n",
       "Credit_Util_Rate_3                    0.802911            0.754583   \n",
       "Credit_Util_Rate_4                    1.000000            0.808229   \n",
       "Credit_Util_Rate_5                    0.808229            1.000000   \n",
       "Credit_Util_Rate_6                    0.751572            0.811019   \n",
       "Credit_Util_Avg                       0.901484            0.883386   \n",
       "\n",
       "                            Credit_Util_Rate_6  Credit_Util_Avg  \n",
       "LIMIT_BAL                            -0.299338        -0.368703  \n",
       "SEX                                  -0.031314        -0.058834  \n",
       "EDUCATION                             0.128593         0.174970  \n",
       "MARRIAGE                              0.031581         0.035824  \n",
       "AGE                                  -0.039321        -0.036546  \n",
       "PAY_0                                 0.361819         0.419601  \n",
       "PAY_2                                 0.428726         0.505553  \n",
       "PAY_3                                 0.429060         0.487626  \n",
       "PAY_4                                 0.451444         0.489030  \n",
       "PAY_5                                 0.469580         0.486524  \n",
       "PAY_6                                 0.495380         0.478905  \n",
       "BILL_AMT1                             0.372881         0.510648  \n",
       "BILL_AMT2                             0.399648         0.531009  \n",
       "BILL_AMT3                             0.422217         0.527053  \n",
       "BILL_AMT4                             0.461581         0.524209  \n",
       "BILL_AMT5                             0.499793         0.514250  \n",
       "BILL_AMT6                             0.552671         0.498777  \n",
       "PAY_AMT1                              0.000966        -0.007246  \n",
       "PAY_AMT2                              0.000622        -0.027817  \n",
       "PAY_AMT3                              0.019492        -0.026286  \n",
       "PAY_AMT4                              0.049543        -0.024720  \n",
       "PAY_AMT5                              0.080040        -0.029493  \n",
       "PAY_AMT6                             -0.224387        -0.060121  \n",
       "default payment next month            0.123671         0.122471  \n",
       "Credit_Util_Rate_1                    0.619458         0.877814  \n",
       "Credit_Util_Rate_2                    0.646710         0.897682  \n",
       "Credit_Util_Rate_3                    0.702781         0.917043  \n",
       "Credit_Util_Rate_4                    0.751572         0.901484  \n",
       "Credit_Util_Rate_5                    0.811019         0.883386  \n",
       "Credit_Util_Rate_6                    1.000000         0.842931  \n",
       "Credit_Util_Avg                       0.842931         1.000000  \n",
       "\n",
       "[31 rows x 31 columns]"
      ]
     },
     "execution_count": 13,
     "metadata": {},
     "output_type": "execute_result"
    }
   ],
   "source": [
    "credit_card_default.corr()"
   ]
  },
  {
   "cell_type": "code",
   "execution_count": 14,
   "metadata": {},
   "outputs": [
    {
     "data": {
      "image/png": "[encoded data removed]",
      "text/plain": [
       "<Figure size 720x720 with 2 Axes>"
      ]
     },
     "metadata": {},
     "output_type": "display_data"
    }
   ],
   "source": [
    "fig, ax = plt.subplots(figsize=(10,10))\n",
    "sns.heatmap(credit_card_default.corr(), vmin=-1, vmax=1, cmap=sns.diverging_palette(h_neg=220, h_pos=10, n=21),\n",
    "           linewidths=.5, ax=ax);\n",
    "#heatmap to identify correlation. Looks like Repayment Status and Credit Utilization Rate have a high correlation with default payment next month "
   ]
  },
  {
   "cell_type": "code",
   "execution_count": 15,
   "metadata": {},
   "outputs": [
    {
     "data": {
      "image/png": "[encoded data removed]",
      "text/plain": [
       "<Figure size 1152x576 with 4 Axes>"
      ]
     },
     "metadata": {},
     "output_type": "display_data"
    }
   ],
   "source": [
    "fig, axes = plt.subplots(2,2, figsize=(16,8))\n",
    "credit_card_default.loc[:,['LIMIT_BAL']].plot(kind='box', ax=axes[0,0])\n",
    "credit_card_default.loc[:,['AGE']].plot(kind='box', ax=axes[0,1]);\n",
    "#Identify outliers via boxplot for 'AGE' and 'LIMIT BALANCE'"
   ]
  },
  {
   "cell_type": "code",
   "execution_count": 16,
   "metadata": {},
   "outputs": [
    {
     "name": "stdout",
     "output_type": "stream",
     "text": [
      "female    13729\n",
      "male       8771\n",
      "Name: SEX, dtype: int64\n"
     ]
    },
    {
     "data": {
      "image/png": "[encoded data removed]",
      "text/plain": [
       "<Figure size 1728x1728 with 25 Axes>"
      ]
     },
     "metadata": {},
     "output_type": "display_data"
    }
   ],
   "source": [
    "credit_card_default['SEX'] = credit_card_default['SEX'].replace({1:'male', 2:'female'})\n",
    "credit_card_default['MARRIAGE'] = credit_card_default['MARRIAGE'].replace({1:'married', 2:'single', 3:'others'})\n",
    "credit_card_default['EDUCATION'] = credit_card_default['EDUCATION'].replace({1:'graduate school', 2:'university', 3:'highschool', 4:'others'})\n",
    "print(credit_card_default.loc[:,'SEX'].value_counts())\n",
    "credit_card_default.hist(column='default payment next month', by=['SEX','MARRIAGE', 'EDUCATION'], figsize=(24, 24), sharex=True, sharey=True);\n",
    "#Identify a combination of demographics (SEX, MARRIAGE, EDUCATION) to identfiy most defaults"
   ]
  },
  {
   "cell_type": "markdown",
   "metadata": {},
   "source": [
    "#### Education Analysis"
   ]
  },
  {
   "cell_type": "code",
   "execution_count": 17,
   "metadata": {},
   "outputs": [
    {
     "name": "stdout",
     "output_type": "stream",
     "text": [
      "university         10634\n",
      "graduate school     7982\n",
      "highschool          3581\n",
      "others               303\n",
      "Name: EDUCATION, dtype: int64\n",
      "Percentage of graduate defaulted: 19.731896767727385\n",
      "Percentage of high school defaulted: 25.886623848087126\n",
      "Percentage of others defaulted: 6.6006600660066\n",
      "Percentage of university defaulted: 24.13014858002633\n",
      "                                            default payment next month\n",
      "EDUCATION       default payment next month                            \n",
      "graduate school 0                                                 6407\n",
      "                1                                                 1575\n",
      "highschool      0                                                 2654\n",
      "                1                                                  927\n",
      "others          0                                                  283\n",
      "                1                                                   20\n",
      "university      0                                                 8068\n",
      "                1                                                 2566\n"
     ]
    },
    {
     "data": {
      "text/plain": [
       "<matplotlib.axes._subplots.AxesSubplot at 0x1a19385c18>"
      ]
     },
     "execution_count": 17,
     "metadata": {},
     "output_type": "execute_result"
    },
    {
     "data": {
      "image/png": "[encoded data removed]",
      "text/plain": [
       "<Figure size 432x288 with 1 Axes>"
      ]
     },
     "metadata": {},
     "output_type": "display_data"
    }
   ],
   "source": [
    "print(credit_card_default.loc[:,'EDUCATION'].value_counts())\n",
    "print('Percentage of graduate defaulted:', 1575/(7982)*100)\n",
    "print('Percentage of high school defaulted:', 927/(3581)*100)\n",
    "print('Percentage of others defaulted:', 20/(303)*100)\n",
    "print('Percentage of university defaulted:', 2566/(10634)*100)\n",
    "cd_ed = credit_card_default.groupby(['EDUCATION', 'default payment next month']).agg({'default payment next month':'count'})\n",
    "print(cd_ed)\n",
    "cd_ed.plot(kind='barh')\n",
    "#Identify percentage of every education status that defaulted\n",
    "#According to the graph, individuals with 'university' education defaulted the most but as a perentage high school defaults is higher than university "
   ]
  },
  {
   "cell_type": "markdown",
   "metadata": {},
   "source": [
    "#### Sex Analysis"
   ]
  },
  {
   "cell_type": "code",
   "execution_count": 18,
   "metadata": {},
   "outputs": [
    {
     "name": "stdout",
     "output_type": "stream",
     "text": [
      "female    13729\n",
      "male       8771\n",
      "Name: SEX, dtype: int64\n",
      "Percentage of female defaulted: 21.334401631582782\n",
      "Percentage of male defaulted: 24.61520921217649\n",
      "                                   default payment next month\n",
      "SEX    default payment next month                            \n",
      "female 0                                                10800\n",
      "       1                                                 2929\n",
      "male   0                                                 6612\n",
      "       1                                                 2159\n"
     ]
    },
    {
     "data": {
      "text/plain": [
       "<matplotlib.axes._subplots.AxesSubplot at 0x10bd35f60>"
      ]
     },
     "execution_count": 18,
     "metadata": {},
     "output_type": "execute_result"
    },
    {
     "data": {
      "image/png": "[encoded data removed]",
      "text/plain": [
       "<Figure size 432x288 with 1 Axes>"
      ]
     },
     "metadata": {},
     "output_type": "display_data"
    }
   ],
   "source": [
    "print(credit_card_default.loc[:,'SEX'].value_counts())\n",
    "print('Percentage of female defaulted:', 2929/(13729)*100)\n",
    "print('Percentage of male defaulted:', 2159/(8771)*100)\n",
    "cd_sex = credit_card_default.groupby(['SEX', 'default payment next month']).agg({'default payment next month': 'count'})\n",
    "print(cd_sex)\n",
    "cd_sex.plot(kind='barh')\n",
    "#Percentage of female and male defaults are relatively close"
   ]
  },
  {
   "cell_type": "markdown",
   "metadata": {},
   "source": [
    "#### Marriage Analysis"
   ]
  },
  {
   "cell_type": "code",
   "execution_count": 19,
   "metadata": {},
   "outputs": [
    {
     "name": "stdout",
     "output_type": "stream",
     "text": [
      "single     12219\n",
      "married     9990\n",
      "others       291\n",
      "Name: MARRIAGE, dtype: int64\n",
      "Perecentage of married defaulted: 24.254254254254253\n",
      "Perecentage of single defaulted: 21.261969064571566\n",
      "Percentage of others defaulted: 23.02405498281787\n",
      "                                     default payment next month\n",
      "MARRIAGE default payment next month                            \n",
      "married  0                                                 7567\n",
      "         1                                                 2423\n",
      "others   0                                                  224\n",
      "         1                                                   67\n",
      "single   0                                                 9621\n",
      "         1                                                 2598\n"
     ]
    },
    {
     "data": {
      "text/plain": [
       "<matplotlib.axes._subplots.AxesSubplot at 0x1a1acff908>"
      ]
     },
     "execution_count": 19,
     "metadata": {},
     "output_type": "execute_result"
    },
    {
     "data": {
      "image/png": "[encoded data removed]",
      "text/plain": [
       "<Figure size 432x288 with 1 Axes>"
      ]
     },
     "metadata": {},
     "output_type": "display_data"
    }
   ],
   "source": [
    "print(credit_card_default.loc[:,'MARRIAGE'].value_counts())\n",
    "print('Perecentage of married defaulted:', (2423/9990)*100)\n",
    "print('Perecentage of single defaulted:', (2598/12219)*100)\n",
    "print('Percentage of others defaulted:', (67/291)*100)\n",
    "cd_marriage = credit_card_default.groupby(['MARRIAGE', 'default payment next month']).agg({'default payment next month': 'count'})\n",
    "print(cd_marriage)\n",
    "cd_marriage.plot(kind='barh')\n",
    "#Percentage of marriage status defaults are relatively the same"
   ]
  },
  {
   "cell_type": "markdown",
   "metadata": {},
   "source": [
    "#### Demographics Analysis"
   ]
  },
  {
   "cell_type": "code",
   "execution_count": 20,
   "metadata": {},
   "outputs": [
    {
     "data": {
      "image/png": "[encoded data removed]",
      "text/plain": [
       "<Figure size 432x288 with 1 Axes>"
      ]
     },
     "metadata": {},
     "output_type": "display_data"
    }
   ],
   "source": [
    "cd = credit_card_default.groupby(['SEX', 'EDUCATION', 'MARRIAGE','default payment next month']).agg({'default payment next month':'count'})\n",
    "cd.plot(kind='bar');\n",
    "#Graph histogram to see which demographic combinations have the most count"
   ]
  },
  {
   "cell_type": "code",
   "execution_count": 21,
   "metadata": {},
   "outputs": [
    {
     "data": {
      "text/html": [
       "<div>\n",
       "<style scoped>\n",
       "    .dataframe tbody tr th:only-of-type {\n",
       "        vertical-align: middle;\n",
       "    }\n",
       "\n",
       "    .dataframe tbody tr th {\n",
       "        vertical-align: top;\n",
       "    }\n",
       "\n",
       "    .dataframe thead th {\n",
       "        text-align: right;\n",
       "    }\n",
       "</style>\n",
       "<table border=\"1\" class=\"dataframe\">\n",
       "  <thead>\n",
       "    <tr style=\"text-align: right;\">\n",
       "      <th></th>\n",
       "      <th>SEX</th>\n",
       "      <th>EDUCATION</th>\n",
       "      <th>MARRIAGE</th>\n",
       "      <th>default payment next month</th>\n",
       "      <th>default</th>\n",
       "    </tr>\n",
       "  </thead>\n",
       "  <tbody>\n",
       "    <tr>\n",
       "      <th>18</th>\n",
       "      <td>female</td>\n",
       "      <td>university</td>\n",
       "      <td>married</td>\n",
       "      <td>1</td>\n",
       "      <td>791</td>\n",
       "    </tr>\n",
       "    <tr>\n",
       "      <th>22</th>\n",
       "      <td>female</td>\n",
       "      <td>university</td>\n",
       "      <td>single</td>\n",
       "      <td>1</td>\n",
       "      <td>703</td>\n",
       "    </tr>\n",
       "    <tr>\n",
       "      <th>5</th>\n",
       "      <td>female</td>\n",
       "      <td>graduate school</td>\n",
       "      <td>single</td>\n",
       "      <td>1</td>\n",
       "      <td>598</td>\n",
       "    </tr>\n",
       "    <tr>\n",
       "      <th>44</th>\n",
       "      <td>male</td>\n",
       "      <td>university</td>\n",
       "      <td>single</td>\n",
       "      <td>1</td>\n",
       "      <td>559</td>\n",
       "    </tr>\n",
       "    <tr>\n",
       "      <th>40</th>\n",
       "      <td>male</td>\n",
       "      <td>university</td>\n",
       "      <td>married</td>\n",
       "      <td>1</td>\n",
       "      <td>480</td>\n",
       "    </tr>\n",
       "    <tr>\n",
       "      <th>28</th>\n",
       "      <td>male</td>\n",
       "      <td>graduate school</td>\n",
       "      <td>single</td>\n",
       "      <td>1</td>\n",
       "      <td>376</td>\n",
       "    </tr>\n",
       "    <tr>\n",
       "      <th>7</th>\n",
       "      <td>female</td>\n",
       "      <td>highschool</td>\n",
       "      <td>married</td>\n",
       "      <td>1</td>\n",
       "      <td>326</td>\n",
       "    </tr>\n",
       "    <tr>\n",
       "      <th>24</th>\n",
       "      <td>male</td>\n",
       "      <td>graduate school</td>\n",
       "      <td>married</td>\n",
       "      <td>1</td>\n",
       "      <td>304</td>\n",
       "    </tr>\n",
       "    <tr>\n",
       "      <th>1</th>\n",
       "      <td>female</td>\n",
       "      <td>graduate school</td>\n",
       "      <td>married</td>\n",
       "      <td>1</td>\n",
       "      <td>286</td>\n",
       "    </tr>\n",
       "    <tr>\n",
       "      <th>30</th>\n",
       "      <td>male</td>\n",
       "      <td>highschool</td>\n",
       "      <td>married</td>\n",
       "      <td>1</td>\n",
       "      <td>227</td>\n",
       "    </tr>\n",
       "    <tr>\n",
       "      <th>11</th>\n",
       "      <td>female</td>\n",
       "      <td>highschool</td>\n",
       "      <td>single</td>\n",
       "      <td>1</td>\n",
       "      <td>178</td>\n",
       "    </tr>\n",
       "    <tr>\n",
       "      <th>34</th>\n",
       "      <td>male</td>\n",
       "      <td>highschool</td>\n",
       "      <td>single</td>\n",
       "      <td>1</td>\n",
       "      <td>173</td>\n",
       "    </tr>\n",
       "    <tr>\n",
       "      <th>20</th>\n",
       "      <td>female</td>\n",
       "      <td>university</td>\n",
       "      <td>others</td>\n",
       "      <td>1</td>\n",
       "      <td>18</td>\n",
       "    </tr>\n",
       "    <tr>\n",
       "      <th>42</th>\n",
       "      <td>male</td>\n",
       "      <td>university</td>\n",
       "      <td>others</td>\n",
       "      <td>1</td>\n",
       "      <td>15</td>\n",
       "    </tr>\n",
       "    <tr>\n",
       "      <th>9</th>\n",
       "      <td>female</td>\n",
       "      <td>highschool</td>\n",
       "      <td>others</td>\n",
       "      <td>1</td>\n",
       "      <td>12</td>\n",
       "    </tr>\n",
       "    <tr>\n",
       "      <th>32</th>\n",
       "      <td>male</td>\n",
       "      <td>highschool</td>\n",
       "      <td>others</td>\n",
       "      <td>1</td>\n",
       "      <td>11</td>\n",
       "    </tr>\n",
       "    <tr>\n",
       "      <th>16</th>\n",
       "      <td>female</td>\n",
       "      <td>others</td>\n",
       "      <td>single</td>\n",
       "      <td>1</td>\n",
       "      <td>10</td>\n",
       "    </tr>\n",
       "    <tr>\n",
       "      <th>26</th>\n",
       "      <td>male</td>\n",
       "      <td>graduate school</td>\n",
       "      <td>others</td>\n",
       "      <td>1</td>\n",
       "      <td>8</td>\n",
       "    </tr>\n",
       "    <tr>\n",
       "      <th>36</th>\n",
       "      <td>male</td>\n",
       "      <td>others</td>\n",
       "      <td>married</td>\n",
       "      <td>1</td>\n",
       "      <td>5</td>\n",
       "    </tr>\n",
       "    <tr>\n",
       "      <th>13</th>\n",
       "      <td>female</td>\n",
       "      <td>others</td>\n",
       "      <td>married</td>\n",
       "      <td>1</td>\n",
       "      <td>4</td>\n",
       "    </tr>\n",
       "    <tr>\n",
       "      <th>3</th>\n",
       "      <td>female</td>\n",
       "      <td>graduate school</td>\n",
       "      <td>others</td>\n",
       "      <td>1</td>\n",
       "      <td>3</td>\n",
       "    </tr>\n",
       "    <tr>\n",
       "      <th>38</th>\n",
       "      <td>male</td>\n",
       "      <td>others</td>\n",
       "      <td>single</td>\n",
       "      <td>1</td>\n",
       "      <td>1</td>\n",
       "    </tr>\n",
       "    <tr>\n",
       "      <th>4</th>\n",
       "      <td>female</td>\n",
       "      <td>graduate school</td>\n",
       "      <td>single</td>\n",
       "      <td>0</td>\n",
       "      <td>2661</td>\n",
       "    </tr>\n",
       "    <tr>\n",
       "      <th>17</th>\n",
       "      <td>female</td>\n",
       "      <td>university</td>\n",
       "      <td>married</td>\n",
       "      <td>0</td>\n",
       "      <td>2544</td>\n",
       "    </tr>\n",
       "    <tr>\n",
       "      <th>21</th>\n",
       "      <td>female</td>\n",
       "      <td>university</td>\n",
       "      <td>single</td>\n",
       "      <td>0</td>\n",
       "      <td>2543</td>\n",
       "    </tr>\n",
       "    <tr>\n",
       "      <th>43</th>\n",
       "      <td>male</td>\n",
       "      <td>university</td>\n",
       "      <td>single</td>\n",
       "      <td>0</td>\n",
       "      <td>1636</td>\n",
       "    </tr>\n",
       "    <tr>\n",
       "      <th>27</th>\n",
       "      <td>male</td>\n",
       "      <td>graduate school</td>\n",
       "      <td>single</td>\n",
       "      <td>0</td>\n",
       "      <td>1563</td>\n",
       "    </tr>\n",
       "    <tr>\n",
       "      <th>39</th>\n",
       "      <td>male</td>\n",
       "      <td>university</td>\n",
       "      <td>married</td>\n",
       "      <td>0</td>\n",
       "      <td>1249</td>\n",
       "    </tr>\n",
       "    <tr>\n",
       "      <th>0</th>\n",
       "      <td>female</td>\n",
       "      <td>graduate school</td>\n",
       "      <td>married</td>\n",
       "      <td>0</td>\n",
       "      <td>1195</td>\n",
       "    </tr>\n",
       "    <tr>\n",
       "      <th>23</th>\n",
       "      <td>male</td>\n",
       "      <td>graduate school</td>\n",
       "      <td>married</td>\n",
       "      <td>0</td>\n",
       "      <td>955</td>\n",
       "    </tr>\n",
       "    <tr>\n",
       "      <th>6</th>\n",
       "      <td>female</td>\n",
       "      <td>highschool</td>\n",
       "      <td>married</td>\n",
       "      <td>0</td>\n",
       "      <td>950</td>\n",
       "    </tr>\n",
       "    <tr>\n",
       "      <th>10</th>\n",
       "      <td>female</td>\n",
       "      <td>highschool</td>\n",
       "      <td>single</td>\n",
       "      <td>0</td>\n",
       "      <td>577</td>\n",
       "    </tr>\n",
       "    <tr>\n",
       "      <th>29</th>\n",
       "      <td>male</td>\n",
       "      <td>highschool</td>\n",
       "      <td>married</td>\n",
       "      <td>0</td>\n",
       "      <td>546</td>\n",
       "    </tr>\n",
       "    <tr>\n",
       "      <th>33</th>\n",
       "      <td>male</td>\n",
       "      <td>highschool</td>\n",
       "      <td>single</td>\n",
       "      <td>0</td>\n",
       "      <td>489</td>\n",
       "    </tr>\n",
       "    <tr>\n",
       "      <th>15</th>\n",
       "      <td>female</td>\n",
       "      <td>others</td>\n",
       "      <td>single</td>\n",
       "      <td>0</td>\n",
       "      <td>95</td>\n",
       "    </tr>\n",
       "    <tr>\n",
       "      <th>12</th>\n",
       "      <td>female</td>\n",
       "      <td>others</td>\n",
       "      <td>married</td>\n",
       "      <td>0</td>\n",
       "      <td>92</td>\n",
       "    </tr>\n",
       "    <tr>\n",
       "      <th>8</th>\n",
       "      <td>female</td>\n",
       "      <td>highschool</td>\n",
       "      <td>others</td>\n",
       "      <td>0</td>\n",
       "      <td>63</td>\n",
       "    </tr>\n",
       "    <tr>\n",
       "      <th>19</th>\n",
       "      <td>female</td>\n",
       "      <td>university</td>\n",
       "      <td>others</td>\n",
       "      <td>0</td>\n",
       "      <td>63</td>\n",
       "    </tr>\n",
       "    <tr>\n",
       "      <th>37</th>\n",
       "      <td>male</td>\n",
       "      <td>others</td>\n",
       "      <td>single</td>\n",
       "      <td>0</td>\n",
       "      <td>57</td>\n",
       "    </tr>\n",
       "    <tr>\n",
       "      <th>35</th>\n",
       "      <td>male</td>\n",
       "      <td>others</td>\n",
       "      <td>married</td>\n",
       "      <td>0</td>\n",
       "      <td>36</td>\n",
       "    </tr>\n",
       "    <tr>\n",
       "      <th>41</th>\n",
       "      <td>male</td>\n",
       "      <td>university</td>\n",
       "      <td>others</td>\n",
       "      <td>0</td>\n",
       "      <td>33</td>\n",
       "    </tr>\n",
       "    <tr>\n",
       "      <th>31</th>\n",
       "      <td>male</td>\n",
       "      <td>highschool</td>\n",
       "      <td>others</td>\n",
       "      <td>0</td>\n",
       "      <td>29</td>\n",
       "    </tr>\n",
       "    <tr>\n",
       "      <th>25</th>\n",
       "      <td>male</td>\n",
       "      <td>graduate school</td>\n",
       "      <td>others</td>\n",
       "      <td>0</td>\n",
       "      <td>19</td>\n",
       "    </tr>\n",
       "    <tr>\n",
       "      <th>2</th>\n",
       "      <td>female</td>\n",
       "      <td>graduate school</td>\n",
       "      <td>others</td>\n",
       "      <td>0</td>\n",
       "      <td>14</td>\n",
       "    </tr>\n",
       "    <tr>\n",
       "      <th>14</th>\n",
       "      <td>female</td>\n",
       "      <td>others</td>\n",
       "      <td>others</td>\n",
       "      <td>0</td>\n",
       "      <td>3</td>\n",
       "    </tr>\n",
       "  </tbody>\n",
       "</table>\n",
       "</div>"
      ],
      "text/plain": [
       "       SEX        EDUCATION MARRIAGE  default payment next month  default\n",
       "18  female       university  married                           1      791\n",
       "22  female       university   single                           1      703\n",
       "5   female  graduate school   single                           1      598\n",
       "44    male       university   single                           1      559\n",
       "40    male       university  married                           1      480\n",
       "28    male  graduate school   single                           1      376\n",
       "7   female       highschool  married                           1      326\n",
       "24    male  graduate school  married                           1      304\n",
       "1   female  graduate school  married                           1      286\n",
       "30    male       highschool  married                           1      227\n",
       "11  female       highschool   single                           1      178\n",
       "34    male       highschool   single                           1      173\n",
       "20  female       university   others                           1       18\n",
       "42    male       university   others                           1       15\n",
       "9   female       highschool   others                           1       12\n",
       "32    male       highschool   others                           1       11\n",
       "16  female           others   single                           1       10\n",
       "26    male  graduate school   others                           1        8\n",
       "36    male           others  married                           1        5\n",
       "13  female           others  married                           1        4\n",
       "3   female  graduate school   others                           1        3\n",
       "38    male           others   single                           1        1\n",
       "4   female  graduate school   single                           0     2661\n",
       "17  female       university  married                           0     2544\n",
       "21  female       university   single                           0     2543\n",
       "43    male       university   single                           0     1636\n",
       "27    male  graduate school   single                           0     1563\n",
       "39    male       university  married                           0     1249\n",
       "0   female  graduate school  married                           0     1195\n",
       "23    male  graduate school  married                           0      955\n",
       "6   female       highschool  married                           0      950\n",
       "10  female       highschool   single                           0      577\n",
       "29    male       highschool  married                           0      546\n",
       "33    male       highschool   single                           0      489\n",
       "15  female           others   single                           0       95\n",
       "12  female           others  married                           0       92\n",
       "8   female       highschool   others                           0       63\n",
       "19  female       university   others                           0       63\n",
       "37    male           others   single                           0       57\n",
       "35    male           others  married                           0       36\n",
       "41    male       university   others                           0       33\n",
       "31    male       highschool   others                           0       29\n",
       "25    male  graduate school   others                           0       19\n",
       "2   female  graduate school   others                           0       14\n",
       "14  female           others   others                           0        3"
      ]
     },
     "execution_count": 21,
     "metadata": {},
     "output_type": "execute_result"
    }
   ],
   "source": [
    "cd.columns = ['default']\n",
    "cd = cd.reset_index()\n",
    "cd.sort_values(by=['default payment next month', 'default'], ascending = False)\n",
    "#majority of the population is female,graduate, single (2661). The highest combination defaulted is female, university, married (791). However not the best representation because majority of the data population is females, unveristy, and single "
   ]
  },
  {
   "cell_type": "markdown",
   "metadata": {},
   "source": [
    "#### Credit Utilization Rate Analysis"
   ]
  },
  {
   "cell_type": "code",
   "execution_count": 22,
   "metadata": {},
   "outputs": [
    {
     "name": "stdout",
     "output_type": "stream",
     "text": [
      "0.7779555555555555\n",
      "0.7722074074074075\n",
      "0    0.777956\n",
      "1    0.222044\n",
      "Name: default payment next month, dtype: float64\n"
     ]
    },
    {
     "data": {
      "image/png": "[encoded data removed]",
      "text/plain": [
       "<Figure size 432x288 with 1 Axes>"
      ]
     },
     "metadata": {},
     "output_type": "display_data"
    }
   ],
   "source": [
    "feature_cols = ['Credit_Util_Avg']\n",
    "target_col = 'default payment next month'\n",
    "\n",
    "X = credit_card_default.loc[:, feature_cols]\n",
    "y= credit_card_default.loc[:, target_col]\n",
    "\n",
    "from sklearn.model_selection import train_test_split\n",
    "X_train, X_test, y_train, y_test = train_test_split(X,y)\n",
    "\n",
    "from sklearn.linear_model import LogisticRegression\n",
    "lr = LogisticRegression()\n",
    "\n",
    "lr.fit(X_train, y_train)\n",
    "lr.fit(X_train, y_train)\n",
    "print(lr.score(X_test, y_test))\n",
    "print(lr.score(X_train, y_train))\n",
    "print(y_test.value_counts(normalize=True))\n",
    "y_pred_prob = lr.predict_proba(X_test)\n",
    "\n",
    "x_grid = np.linspace(start=credit_card_default.loc[:, 'Credit_Util_Avg'].min(), \n",
    "                     stop=credit_card_default.loc[:, 'Credit_Util_Avg'].max(), num=100)\n",
    "pred_probs = lr.predict_proba(x_grid.reshape(-1, 1))[:, 1]\n",
    "preds = lr.predict(x_grid.reshape(-1, 1))\n",
    "ax = credit_card_default.plot(kind='scatter', x='Credit_Util_Avg', y='default payment next month', alpha=.2)\n",
    "ax.plot(x_grid, pred_probs, c='r')\n",
    "ax.plot(x_grid, preds, c='g');\n",
    "\n",
    "#Performing train/test/split on only Credit Utilization Avg \n",
    "# Predicting pretty well but I think it could be better if added Payment Status"
   ]
  },
  {
   "cell_type": "code",
   "execution_count": 23,
   "metadata": {},
   "outputs": [
    {
     "data": {
      "text/plain": [
       "<matplotlib.axes._subplots.AxesSubplot at 0x1a1b006390>"
      ]
     },
     "execution_count": 23,
     "metadata": {},
     "output_type": "execute_result"
    },
    {
     "data": {
      "image/png": "[encoded data removed]",
      "text/plain": [
       "<Figure size 432x288 with 1 Axes>"
      ]
     },
     "metadata": {},
     "output_type": "display_data"
    }
   ],
   "source": [
    "credit_card_default.plot(kind='scatter', x='Credit_Util_Avg', y='default payment next month')\n",
    "#Want to dig a little deeper to see outlier"
   ]
  },
  {
   "cell_type": "code",
   "execution_count": 24,
   "metadata": {},
   "outputs": [
    {
     "data": {
      "text/html": [
       "<div>\n",
       "<style scoped>\n",
       "    .dataframe tbody tr th:only-of-type {\n",
       "        vertical-align: middle;\n",
       "    }\n",
       "\n",
       "    .dataframe tbody tr th {\n",
       "        vertical-align: top;\n",
       "    }\n",
       "\n",
       "    .dataframe thead th {\n",
       "        text-align: right;\n",
       "    }\n",
       "</style>\n",
       "<table border=\"1\" class=\"dataframe\">\n",
       "  <thead>\n",
       "    <tr style=\"text-align: right;\">\n",
       "      <th></th>\n",
       "      <th>LIMIT_BAL</th>\n",
       "      <th>SEX</th>\n",
       "      <th>EDUCATION</th>\n",
       "      <th>MARRIAGE</th>\n",
       "      <th>AGE</th>\n",
       "      <th>PAY_0</th>\n",
       "      <th>PAY_2</th>\n",
       "      <th>PAY_3</th>\n",
       "      <th>PAY_4</th>\n",
       "      <th>PAY_5</th>\n",
       "      <th>...</th>\n",
       "      <th>PAY_AMT5</th>\n",
       "      <th>PAY_AMT6</th>\n",
       "      <th>default payment next month</th>\n",
       "      <th>Credit_Util_Rate_1</th>\n",
       "      <th>Credit_Util_Rate_2</th>\n",
       "      <th>Credit_Util_Rate_3</th>\n",
       "      <th>Credit_Util_Rate_4</th>\n",
       "      <th>Credit_Util_Rate_5</th>\n",
       "      <th>Credit_Util_Rate_6</th>\n",
       "      <th>Credit_Util_Avg</th>\n",
       "    </tr>\n",
       "    <tr>\n",
       "      <th>ID</th>\n",
       "      <th></th>\n",
       "      <th></th>\n",
       "      <th></th>\n",
       "      <th></th>\n",
       "      <th></th>\n",
       "      <th></th>\n",
       "      <th></th>\n",
       "      <th></th>\n",
       "      <th></th>\n",
       "      <th></th>\n",
       "      <th></th>\n",
       "      <th></th>\n",
       "      <th></th>\n",
       "      <th></th>\n",
       "      <th></th>\n",
       "      <th></th>\n",
       "      <th></th>\n",
       "      <th></th>\n",
       "      <th></th>\n",
       "      <th></th>\n",
       "      <th></th>\n",
       "    </tr>\n",
       "  </thead>\n",
       "  <tbody>\n",
       "    <tr>\n",
       "      <th>3797</th>\n",
       "      <td>20000</td>\n",
       "      <td>female</td>\n",
       "      <td>university</td>\n",
       "      <td>single</td>\n",
       "      <td>32</td>\n",
       "      <td>0</td>\n",
       "      <td>0</td>\n",
       "      <td>0</td>\n",
       "      <td>0</td>\n",
       "      <td>0</td>\n",
       "      <td>...</td>\n",
       "      <td>2900</td>\n",
       "      <td>2000</td>\n",
       "      <td>0</td>\n",
       "      <td>6.2343</td>\n",
       "      <td>6.198</td>\n",
       "      <td>5.2354</td>\n",
       "      <td>4.98685</td>\n",
       "      <td>4.78125</td>\n",
       "      <td>3.78555</td>\n",
       "      <td>5.203558</td>\n",
       "    </tr>\n",
       "  </tbody>\n",
       "</table>\n",
       "<p>1 rows × 31 columns</p>\n",
       "</div>"
      ],
      "text/plain": [
       "      LIMIT_BAL     SEX   EDUCATION MARRIAGE  AGE  PAY_0  PAY_2  PAY_3  PAY_4  \\\n",
       "ID                                                                              \n",
       "3797      20000  female  university   single   32      0      0      0      0   \n",
       "\n",
       "      PAY_5       ...         PAY_AMT5  PAY_AMT6  default payment next month  \\\n",
       "ID                ...                                                          \n",
       "3797      0       ...             2900      2000                           0   \n",
       "\n",
       "      Credit_Util_Rate_1  Credit_Util_Rate_2  Credit_Util_Rate_3  \\\n",
       "ID                                                                 \n",
       "3797              6.2343               6.198              5.2354   \n",
       "\n",
       "      Credit_Util_Rate_4  Credit_Util_Rate_5  Credit_Util_Rate_6  \\\n",
       "ID                                                                 \n",
       "3797             4.98685             4.78125             3.78555   \n",
       "\n",
       "      Credit_Util_Avg  \n",
       "ID                     \n",
       "3797         5.203558  \n",
       "\n",
       "[1 rows x 31 columns]"
      ]
     },
     "execution_count": 24,
     "metadata": {},
     "output_type": "execute_result"
    }
   ],
   "source": [
    "credit_card_default.loc[credit_card_default.loc[:, 'Credit_Util_Avg'] > 5,:]\n",
    "#This person is an outlier with a high Credit Utilization Rate because her payment status per month are all zeros"
   ]
  },
  {
   "cell_type": "code",
   "execution_count": 25,
   "metadata": {},
   "outputs": [
    {
     "data": {
      "text/html": [
       "<div>\n",
       "<style scoped>\n",
       "    .dataframe tbody tr th:only-of-type {\n",
       "        vertical-align: middle;\n",
       "    }\n",
       "\n",
       "    .dataframe tbody tr th {\n",
       "        vertical-align: top;\n",
       "    }\n",
       "\n",
       "    .dataframe thead th {\n",
       "        text-align: right;\n",
       "    }\n",
       "</style>\n",
       "<table border=\"1\" class=\"dataframe\">\n",
       "  <thead>\n",
       "    <tr style=\"text-align: right;\">\n",
       "      <th></th>\n",
       "      <th>LIMIT_BAL</th>\n",
       "      <th>SEX</th>\n",
       "      <th>EDUCATION</th>\n",
       "      <th>MARRIAGE</th>\n",
       "      <th>AGE</th>\n",
       "      <th>PAY_0</th>\n",
       "      <th>PAY_2</th>\n",
       "      <th>PAY_3</th>\n",
       "      <th>PAY_4</th>\n",
       "      <th>PAY_5</th>\n",
       "      <th>...</th>\n",
       "      <th>PAY_AMT5</th>\n",
       "      <th>PAY_AMT6</th>\n",
       "      <th>default payment next month</th>\n",
       "      <th>Credit_Util_Rate_1</th>\n",
       "      <th>Credit_Util_Rate_2</th>\n",
       "      <th>Credit_Util_Rate_3</th>\n",
       "      <th>Credit_Util_Rate_4</th>\n",
       "      <th>Credit_Util_Rate_5</th>\n",
       "      <th>Credit_Util_Rate_6</th>\n",
       "      <th>Credit_Util_Avg</th>\n",
       "    </tr>\n",
       "    <tr>\n",
       "      <th>ID</th>\n",
       "      <th></th>\n",
       "      <th></th>\n",
       "      <th></th>\n",
       "      <th></th>\n",
       "      <th></th>\n",
       "      <th></th>\n",
       "      <th></th>\n",
       "      <th></th>\n",
       "      <th></th>\n",
       "      <th></th>\n",
       "      <th></th>\n",
       "      <th></th>\n",
       "      <th></th>\n",
       "      <th></th>\n",
       "      <th></th>\n",
       "      <th></th>\n",
       "      <th></th>\n",
       "      <th></th>\n",
       "      <th></th>\n",
       "      <th></th>\n",
       "      <th></th>\n",
       "    </tr>\n",
       "  </thead>\n",
       "  <tbody>\n",
       "    <tr>\n",
       "      <th>2899</th>\n",
       "      <td>20000</td>\n",
       "      <td>male</td>\n",
       "      <td>graduate school</td>\n",
       "      <td>single</td>\n",
       "      <td>37</td>\n",
       "      <td>0</td>\n",
       "      <td>0</td>\n",
       "      <td>0</td>\n",
       "      <td>0</td>\n",
       "      <td>0</td>\n",
       "      <td>...</td>\n",
       "      <td>649</td>\n",
       "      <td>623</td>\n",
       "      <td>1</td>\n",
       "      <td>3.214100</td>\n",
       "      <td>3.234000</td>\n",
       "      <td>3.445750</td>\n",
       "      <td>0.817100</td>\n",
       "      <td>0.833850</td>\n",
       "      <td>0.853250</td>\n",
       "      <td>2.066342</td>\n",
       "    </tr>\n",
       "    <tr>\n",
       "      <th>20440</th>\n",
       "      <td>80000</td>\n",
       "      <td>male</td>\n",
       "      <td>university</td>\n",
       "      <td>single</td>\n",
       "      <td>24</td>\n",
       "      <td>1</td>\n",
       "      <td>2</td>\n",
       "      <td>2</td>\n",
       "      <td>2</td>\n",
       "      <td>0</td>\n",
       "      <td>...</td>\n",
       "      <td>5800</td>\n",
       "      <td>6500</td>\n",
       "      <td>1</td>\n",
       "      <td>2.231762</td>\n",
       "      <td>2.028612</td>\n",
       "      <td>2.208712</td>\n",
       "      <td>2.139263</td>\n",
       "      <td>1.800075</td>\n",
       "      <td>1.690075</td>\n",
       "      <td>2.016417</td>\n",
       "    </tr>\n",
       "  </tbody>\n",
       "</table>\n",
       "<p>2 rows × 31 columns</p>\n",
       "</div>"
      ],
      "text/plain": [
       "       LIMIT_BAL   SEX        EDUCATION MARRIAGE  AGE  PAY_0  PAY_2  PAY_3  \\\n",
       "ID                                                                           \n",
       "2899       20000  male  graduate school   single   37      0      0      0   \n",
       "20440      80000  male       university   single   24      1      2      2   \n",
       "\n",
       "       PAY_4  PAY_5       ...         PAY_AMT5  PAY_AMT6  \\\n",
       "ID                        ...                              \n",
       "2899       0      0       ...              649       623   \n",
       "20440      2      0       ...             5800      6500   \n",
       "\n",
       "       default payment next month  Credit_Util_Rate_1  Credit_Util_Rate_2  \\\n",
       "ID                                                                          \n",
       "2899                            1            3.214100            3.234000   \n",
       "20440                           1            2.231762            2.028612   \n",
       "\n",
       "       Credit_Util_Rate_3  Credit_Util_Rate_4  Credit_Util_Rate_5  \\\n",
       "ID                                                                  \n",
       "2899             3.445750            0.817100            0.833850   \n",
       "20440            2.208712            2.139263            1.800075   \n",
       "\n",
       "       Credit_Util_Rate_6  Credit_Util_Avg  \n",
       "ID                                          \n",
       "2899             0.853250         2.066342  \n",
       "20440            1.690075         2.016417  \n",
       "\n",
       "[2 rows x 31 columns]"
      ]
     },
     "execution_count": 25,
     "metadata": {},
     "output_type": "execute_result"
    }
   ],
   "source": [
    "ccd = credit_card_default.loc[credit_card_default.loc[:, 'default payment next month'] ==1,:]\n",
    "ccd.loc[ccd.loc[:, 'Credit_Util_Avg'] > 2,:]\n",
    "#These people defaulted and have the highest credit utilization rate. "
   ]
  },
  {
   "cell_type": "markdown",
   "metadata": {},
   "source": [
    "$\\blacksquare$"
   ]
  },
  {
   "cell_type": "markdown",
   "metadata": {},
   "source": [
    "## Model types, Hyperparameter settings, Combinations of features"
   ]
  },
  {
   "cell_type": "code",
   "execution_count": 26,
   "metadata": {},
   "outputs": [],
   "source": [
    "credit_card_default['SEX'] = credit_card_default['SEX'].replace({'male':1,'female':2})\n",
    "credit_card_default['MARRIAGE'] = credit_card_default['MARRIAGE'].replace({'married':1,'single':2, 'others':3})\n",
    "credit_card_default['EDUCATION'] = credit_card_default['EDUCATION'].replace({'graduate school':1,'university':2, 'highschool':3,'others':4})\n",
    "#Changing it back to all numerical data types"
   ]
  },
  {
   "cell_type": "markdown",
   "metadata": {},
   "source": [
    "### Logistic Regression"
   ]
  },
  {
   "cell_type": "markdown",
   "metadata": {},
   "source": [
    "#### I. Logistic Regression Fit"
   ]
  },
  {
   "cell_type": "code",
   "execution_count": 27,
   "metadata": {},
   "outputs": [
    {
     "data": {
      "text/plain": [
       "LogisticRegression(C=1.0, class_weight=None, dual=False, fit_intercept=True,\n",
       "          intercept_scaling=1, max_iter=100, multi_class='ovr', n_jobs=1,\n",
       "          penalty='l2', random_state=None, solver='liblinear', tol=0.0001,\n",
       "          verbose=0, warm_start=False)"
      ]
     },
     "execution_count": 27,
     "metadata": {},
     "output_type": "execute_result"
    }
   ],
   "source": [
    "target_col = 'default payment next month'\n",
    "feature_cols = ['LIMIT_BAL', 'SEX', 'EDUCATION', 'MARRIAGE', 'AGE', 'PAY_0', 'PAY_2',\n",
    "       'PAY_3', 'PAY_4', 'PAY_5', 'PAY_6', 'Credit_Util_Avg']\n",
    " \n",
    "X = credit_card_default.loc[:, feature_cols]\n",
    "y = credit_card_default.loc[:, target_col]\n",
    "\n",
    "from sklearn.model_selection import train_test_split\n",
    "X_train, X_test, y_train, y_test = train_test_split(X, y, random_state=24)\n",
    "\n",
    "from sklearn.linear_model import LogisticRegression\n",
    "lr = LogisticRegression()\n",
    "lr.fit(X_train, y_train)\n",
    "#Perform a Train/Test/Split  "
   ]
  },
  {
   "cell_type": "code",
   "execution_count": 28,
   "metadata": {},
   "outputs": [
    {
     "name": "stdout",
     "output_type": "stream",
     "text": [
      "0.7744\n",
      "0.7722666666666667\n"
     ]
    }
   ],
   "source": [
    "print(lr.score(X_train, y_train))\n",
    "print(lr.score(X_test, y_test))\n",
    "#Score the accuracy score for test and train data. Does not look overfitting or underfitting."
   ]
  },
  {
   "cell_type": "code",
   "execution_count": 29,
   "metadata": {},
   "outputs": [
    {
     "data": {
      "text/plain": [
       "0    0.773867\n",
       "1    0.226133\n",
       "Name: default payment next month, dtype: float64"
      ]
     },
     "execution_count": 29,
     "metadata": {},
     "output_type": "execute_result"
    }
   ],
   "source": [
    "y.value_counts(normalize=True)\n",
    "#Not much better than saying yes everytime, definitely a bias problem"
   ]
  },
  {
   "cell_type": "markdown",
   "metadata": {},
   "source": [
    "#### II. Logistic Regression Metric"
   ]
  },
  {
   "cell_type": "code",
   "execution_count": 30,
   "metadata": {},
   "outputs": [
    {
     "data": {
      "text/plain": [
       "array([[4344,    0],\n",
       "       [1281,    0]])"
      ]
     },
     "execution_count": 30,
     "metadata": {},
     "output_type": "execute_result"
    }
   ],
   "source": [
    "y_pred = lr.predict(X_test)\n",
    "metrics.confusion_matrix(y_test, y_pred)\n",
    "#Get the confusion matrix. There are no false positives or true negatives"
   ]
  },
  {
   "cell_type": "code",
   "execution_count": 31,
   "metadata": {},
   "outputs": [
    {
     "data": {
      "text/plain": [
       "array([0.04400353, 0.21092419, 0.08453606, ..., 0.08223236, 0.34479853,\n",
       "       0.28739112])"
      ]
     },
     "execution_count": 31,
     "metadata": {},
     "output_type": "execute_result"
    }
   ],
   "source": [
    "y_pred_prob = lr.predict_proba(X_test)[:, 1]\n",
    "y_pred_prob\n",
    "#Identifty probability for test data set "
   ]
  },
  {
   "cell_type": "code",
   "execution_count": 32,
   "metadata": {},
   "outputs": [
    {
     "data": {
      "text/plain": [
       "array([[2655, 1689],\n",
       "       [ 589,  692]])"
      ]
     },
     "execution_count": 32,
     "metadata": {},
     "output_type": "execute_result"
    }
   ],
   "source": [
    "y_pred_low_thresh = y_pred_prob > .3\n",
    "metrics.confusion_matrix(y_test, y_pred_low_thresh)\n",
    "#Setting threshold to .3 to get some false positives and true negatives"
   ]
  },
  {
   "cell_type": "code",
   "execution_count": 33,
   "metadata": {},
   "outputs": [
    {
     "name": "stdout",
     "output_type": "stream",
     "text": [
      "0.5970432145564821 0.0524390327046559\n"
     ]
    },
    {
     "name": "stderr",
     "output_type": "stream",
     "text": [
      "/Users/AnnaHuang/anaconda3/lib/python3.6/site-packages/sklearn/metrics/classification.py:1135: UndefinedMetricWarning: F-score is ill-defined and being set to 0.0 due to no predicted samples.\n",
      "  'precision', 'predicted', average, warn_for)\n"
     ]
    }
   ],
   "source": [
    "from sklearn import metrics\n",
    "\n",
    "best_score = -1\n",
    "best_threshold = -1\n",
    "\n",
    "for threshold in sorted(y_pred_prob):\n",
    "    y_pred_thresh = y_pred_prob > threshold\n",
    "    score = metrics.fbeta_score(y_test, y_pred_thresh,beta=2)\n",
    "    if score > best_score:\n",
    "        best_score = score\n",
    "        best_threshold = threshold\n",
    "print(best_score, best_threshold)\n",
    "#identifying the best score and threshold for F2\n",
    "#The best score = 59.70% with a threshold of 5.24%"
   ]
  },
  {
   "cell_type": "code",
   "execution_count": 34,
   "metadata": {},
   "outputs": [
    {
     "data": {
      "text/plain": [
       "array([[ 176, 4168],\n",
       "       [  21, 1260]])"
      ]
     },
     "execution_count": 34,
     "metadata": {},
     "output_type": "execute_result"
    }
   ],
   "source": [
    "y_pred_thresh = y_pred_prob > best_threshold\n",
    "metrics.confusion_matrix(y_test, y_pred_thresh)\n",
    "#Confusion matrix for F2 beta at threshold of 5.24%"
   ]
  },
  {
   "cell_type": "code",
   "execution_count": 35,
   "metadata": {},
   "outputs": [
    {
     "name": "stdout",
     "output_type": "stream",
     "text": [
      "accuracy score: 0.2552888888888889\n",
      "precision score: 0.23212969786293294\n",
      "recall score: 0.9836065573770492\n",
      "f2 score: 0.5970432145564821\n"
     ]
    }
   ],
   "source": [
    "print('accuracy score:', metrics.accuracy_score(y_test, y_pred_thresh))\n",
    "print('precision score:', metrics.precision_score(y_test, y_pred_thresh))\n",
    "print('recall score:', metrics.recall_score(y_test, y_pred_thresh))\n",
    "print('f2 score:', metrics.fbeta_score(y_test, y_pred_thresh,beta=2))\n",
    "#Calculating metrics for Fbeta 2\n",
    "#Accuracy became very low but with a high recall "
   ]
  },
  {
   "cell_type": "markdown",
   "metadata": {},
   "source": [
    "#### I. Decision Tree Fit"
   ]
  },
  {
   "cell_type": "markdown",
   "metadata": {},
   "source": [
    "##### Finding best max_depth for decision tree"
   ]
  },
  {
   "cell_type": "code",
   "execution_count": 36,
   "metadata": {},
   "outputs": [
    {
     "data": {
      "text/plain": [
       "[0.8147111111111112,\n",
       " 0.8160888888888888,\n",
       " 0.8154222222222222,\n",
       " 0.8152444444444444,\n",
       " 0.8164888888888889,\n",
       " 0.8143111111111111,\n",
       " 0.8142222222222222,\n",
       " 0.8132444444444443,\n",
       " 0.8100888888888889,\n",
       " 0.8073777777777777,\n",
       " 0.8024888888888888,\n",
       " 0.8009777777777778,\n",
       " 0.7976888888888889,\n",
       " 0.7914666666666667,\n",
       " 0.7866222222222222,\n",
       " 0.7819999999999999,\n",
       " 0.7770222222222223,\n",
       " 0.768,\n",
       " 0.7657333333333334,\n",
       " 0.7556]"
      ]
     },
     "execution_count": 36,
     "metadata": {},
     "output_type": "execute_result"
    }
   ],
   "source": [
    "from sklearn.tree import DecisionTreeClassifier\n",
    "max_depth_range = range(1,21)\n",
    "from sklearn.model_selection import cross_val_score, KFold\n",
    "\n",
    "scores = []\n",
    "\n",
    "kf = KFold(n_splits=10, shuffle=True)\n",
    "\n",
    "for depth in max_depth_range:\n",
    "    dtc = DecisionTreeClassifier(max_depth=depth, random_state=1)\n",
    "    scores.append(cross_val_score(dtc, X, y, cv=kf).mean())\n",
    "    \n",
    "scores"
   ]
  },
  {
   "cell_type": "code",
   "execution_count": 37,
   "metadata": {},
   "outputs": [
    {
     "data": {
      "image/png": "[encoded data removed]",
      "text/plain": [
       "<Figure size 432x288 with 1 Axes>"
      ]
     },
     "metadata": {},
     "output_type": "display_data"
    }
   ],
   "source": [
    "fig, ax = plt.subplots()\n",
    "ax.plot(max_depth_range, scores)\n",
    "ax.set_xlabel('max_depth')\n",
    "ax.set_ylabel('R^2 (higher is better)');"
   ]
  },
  {
   "cell_type": "code",
   "execution_count": 38,
   "metadata": {},
   "outputs": [
    {
     "data": {
      "text/plain": [
       "[(0.8164888888888889, 5),\n",
       " (0.8160888888888888, 2),\n",
       " (0.8154222222222222, 3),\n",
       " (0.8152444444444444, 4),\n",
       " (0.8147111111111112, 1),\n",
       " (0.8143111111111111, 6),\n",
       " (0.8142222222222222, 7),\n",
       " (0.8132444444444443, 8),\n",
       " (0.8100888888888889, 9),\n",
       " (0.8073777777777777, 10),\n",
       " (0.8024888888888888, 11),\n",
       " (0.8009777777777778, 12),\n",
       " (0.7976888888888889, 13),\n",
       " (0.7914666666666667, 14),\n",
       " (0.7866222222222222, 15),\n",
       " (0.7819999999999999, 16),\n",
       " (0.7770222222222223, 17),\n",
       " (0.768, 18),\n",
       " (0.7657333333333334, 19),\n",
       " (0.7556, 20)]"
      ]
     },
     "execution_count": 38,
     "metadata": {},
     "output_type": "execute_result"
    }
   ],
   "source": [
    "sorted(zip(scores, max_depth_range))[::-1]\n",
    "#Best Max_Depth is 5"
   ]
  },
  {
   "cell_type": "code",
   "execution_count": 39,
   "metadata": {},
   "outputs": [
    {
     "data": {
      "text/plain": [
       "DecisionTreeClassifier(class_weight=None, criterion='gini', max_depth=5,\n",
       "            max_features=None, max_leaf_nodes=None,\n",
       "            min_impurity_decrease=0.0, min_impurity_split=None,\n",
       "            min_samples_leaf=1, min_samples_split=2,\n",
       "            min_weight_fraction_leaf=0.0, presort=False, random_state=1,\n",
       "            splitter='best')"
      ]
     },
     "execution_count": 39,
     "metadata": {},
     "output_type": "execute_result"
    }
   ],
   "source": [
    "dtc = DecisionTreeClassifier(max_depth=5, random_state=1)\n",
    "dtc.fit(X,y)"
   ]
  },
  {
   "cell_type": "markdown",
   "metadata": {},
   "source": [
    "##### Identifying feature importances for decision tree"
   ]
  },
  {
   "cell_type": "code",
   "execution_count": 40,
   "metadata": {},
   "outputs": [
    {
     "data": {
      "text/plain": [
       "[(0.7245137867126886, 'PAY_0'),\n",
       " (0.14186643646865046, 'PAY_2'),\n",
       " (0.029677950357625615, 'PAY_5'),\n",
       " (0.02768126670518073, 'PAY_4'),\n",
       " (0.02619720154087717, 'LIMIT_BAL'),\n",
       " (0.018055956781666393, 'Credit_Util_Avg'),\n",
       " (0.017158215006800506, 'PAY_3'),\n",
       " (0.00863574535347611, 'AGE'),\n",
       " (0.002873030270183063, 'EDUCATION'),\n",
       " (0.0019467441233936241, 'SEX'),\n",
       " (0.0013936666794574465, 'PAY_6'),\n",
       " (0.0, 'MARRIAGE')]"
      ]
     },
     "execution_count": 40,
     "metadata": {},
     "output_type": "execute_result"
    }
   ],
   "source": [
    "sorted(zip(dtc.feature_importances_, feature_cols))[::-1]\n",
    "#Identify feature importance with Pay_0 (Payment Status) as the most important feature"
   ]
  },
  {
   "cell_type": "markdown",
   "metadata": {},
   "source": [
    "##### Fitting decision tree with max_depth of 5"
   ]
  },
  {
   "cell_type": "code",
   "execution_count": 41,
   "metadata": {},
   "outputs": [
    {
     "data": {
      "text/plain": [
       "DecisionTreeClassifier(class_weight=None, criterion='gini', max_depth=5,\n",
       "            max_features=None, max_leaf_nodes=None,\n",
       "            min_impurity_decrease=0.0, min_impurity_split=None,\n",
       "            min_samples_leaf=1, min_samples_split=2,\n",
       "            min_weight_fraction_leaf=0.0, presort=False, random_state=None,\n",
       "            splitter='best')"
      ]
     },
     "execution_count": 41,
     "metadata": {},
     "output_type": "execute_result"
    }
   ],
   "source": [
    "target_col = 'default payment next month'\n",
    "feature_cols = ['LIMIT_BAL', 'SEX', 'EDUCATION', 'MARRIAGE', 'AGE', 'PAY_0', 'PAY_2',\n",
    "       'PAY_3', 'PAY_4', 'PAY_5', 'PAY_6', 'Credit_Util_Avg']\n",
    "                 \n",
    "X = credit_card_default.loc[:, feature_cols]\n",
    "y = credit_card_default.loc[:, target_col]\n",
    "\n",
    "from sklearn.model_selection import train_test_split\n",
    "\n",
    "X_train, X_test, y_train, y_test = train_test_split(X, y)\n",
    "\n",
    "from sklearn.tree import DecisionTreeClassifier\n",
    "\n",
    "dtc = DecisionTreeClassifier(max_depth=5)\n",
    "dtc.fit(X_train, y_train)\n",
    "#Perform Decision Tree and Fit it"
   ]
  },
  {
   "cell_type": "code",
   "execution_count": 42,
   "metadata": {},
   "outputs": [
    {
     "name": "stdout",
     "output_type": "stream",
     "text": [
      "0.8209777777777778\n",
      "0.8161777777777778\n"
     ]
    }
   ],
   "source": [
    "print(dtc.score(X_train, y_train))\n",
    "print(dtc.score(X_test, y_test))\n",
    "#Scores are doing better than guessing everytime"
   ]
  },
  {
   "cell_type": "markdown",
   "metadata": {},
   "source": [
    "#### II. Decision Tree Metric"
   ]
  },
  {
   "cell_type": "code",
   "execution_count": 43,
   "metadata": {},
   "outputs": [
    {
     "data": {
      "text/plain": [
       "array([[4185,  195],\n",
       "       [ 839,  406]])"
      ]
     },
     "execution_count": 43,
     "metadata": {},
     "output_type": "execute_result"
    }
   ],
   "source": [
    "y_pred = dtc.predict(X_test)\n",
    "metrics.confusion_matrix(y_test, y_pred)"
   ]
  },
  {
   "cell_type": "code",
   "execution_count": 44,
   "metadata": {},
   "outputs": [
    {
     "data": {
      "text/plain": [
       "array([0.3523622 , 0.17962289, 0.11256661, ..., 0.11256661, 0.11256661,\n",
       "       0.11256661])"
      ]
     },
     "execution_count": 44,
     "metadata": {},
     "output_type": "execute_result"
    }
   ],
   "source": [
    "y_pred_prob = dtc.predict_proba(X_test)[:, 1]\n",
    "y_pred_prob"
   ]
  },
  {
   "cell_type": "code",
   "execution_count": 45,
   "metadata": {},
   "outputs": [
    {
     "name": "stdout",
     "output_type": "stream",
     "text": [
      "0.602672664726118 0.11256660746003552\n"
     ]
    },
    {
     "name": "stderr",
     "output_type": "stream",
     "text": [
      "/Users/AnnaHuang/anaconda3/lib/python3.6/site-packages/sklearn/metrics/classification.py:1135: UndefinedMetricWarning: F-score is ill-defined and being set to 0.0 due to no predicted samples.\n",
      "  'precision', 'predicted', average, warn_for)\n",
      "/Users/AnnaHuang/anaconda3/lib/python3.6/site-packages/sklearn/metrics/classification.py:1135: UndefinedMetricWarning: F-score is ill-defined and being set to 0.0 due to no predicted samples.\n",
      "  'precision', 'predicted', average, warn_for)\n"
     ]
    }
   ],
   "source": [
    "from sklearn import metrics\n",
    "\n",
    "best_score = -1\n",
    "best_threshold = -1\n",
    "\n",
    "for threshold in sorted(y_pred_prob):\n",
    "    y_pred_thresh = y_pred_prob > threshold\n",
    "    score = metrics.fbeta_score(y_test, y_pred_thresh,beta=2)\n",
    "    if score > best_score:\n",
    "        best_score = score\n",
    "        best_threshold = threshold\n",
    "print(best_score, best_threshold)\n",
    "#identifying the best score and threshold for F2\n",
    "#The best score = 60.94% with a threshold of 11.13%"
   ]
  },
  {
   "cell_type": "code",
   "execution_count": 46,
   "metadata": {},
   "outputs": [
    {
     "data": {
      "text/plain": [
       "array([[2713, 1667],\n",
       "       [ 334,  911]])"
      ]
     },
     "execution_count": 46,
     "metadata": {},
     "output_type": "execute_result"
    }
   ],
   "source": [
    "y_pred_thresh = y_pred_prob > best_threshold\n",
    "metrics.confusion_matrix(y_test, y_pred_thresh)\n",
    "#Calculate the confusion matrix for the best threshold for f2"
   ]
  },
  {
   "cell_type": "code",
   "execution_count": 47,
   "metadata": {},
   "outputs": [
    {
     "name": "stdout",
     "output_type": "stream",
     "text": [
      "accuracy score: 0.6442666666666667\n",
      "precision score: 0.35337470907680374\n",
      "recall score: 0.7317269076305221\n",
      "f2 score: 0.602672664726118\n"
     ]
    }
   ],
   "source": [
    "print('accuracy score:', metrics.accuracy_score(y_test, y_pred_thresh))\n",
    "print('precision score:', metrics.precision_score(y_test, y_pred_thresh))\n",
    "print('recall score:', metrics.recall_score(y_test, y_pred_thresh))\n",
    "print('f2 score:', metrics.fbeta_score(y_test, y_pred_thresh,beta=2))\n",
    "#Calculate the test-set accuracy, precision, recall and F2 score for model "
   ]
  },
  {
   "cell_type": "markdown",
   "metadata": {},
   "source": [
    "#### I. Random Classifier Fit"
   ]
  },
  {
   "cell_type": "code",
   "execution_count": 48,
   "metadata": {},
   "outputs": [
    {
     "data": {
      "text/plain": [
       "RandomForestClassifier(bootstrap=True, class_weight=None, criterion='gini',\n",
       "            max_depth=5, max_features='auto', max_leaf_nodes=None,\n",
       "            min_impurity_decrease=0.0, min_impurity_split=None,\n",
       "            min_samples_leaf=1, min_samples_split=2,\n",
       "            min_weight_fraction_leaf=0.0, n_estimators=200, n_jobs=1,\n",
       "            oob_score=True, random_state=None, verbose=0, warm_start=False)"
      ]
     },
     "execution_count": 48,
     "metadata": {},
     "output_type": "execute_result"
    }
   ],
   "source": [
    "target_col = 'default payment next month'\n",
    "feature_cols = ['LIMIT_BAL', 'SEX', 'EDUCATION', 'MARRIAGE', 'AGE', 'PAY_0', 'PAY_2',\n",
    "       'PAY_3', 'PAY_4', 'PAY_5', 'PAY_6', 'Credit_Util_Avg']\n",
    "                 \n",
    "X = credit_card_default.loc[:, feature_cols]\n",
    "y = credit_card_default.loc[:, target_col]\n",
    "\n",
    "from sklearn.model_selection import train_test_split\n",
    "\n",
    "X_train, X_test, y_train, y_test = train_test_split(X, y, random_state=5)\n",
    "\n",
    "from sklearn.ensemble import RandomForestClassifier\n",
    "\n",
    "rfc = RandomForestClassifier(n_estimators=200, oob_score=True, max_depth=5) \n",
    "\n",
    "rfc.fit(X_train, y_train)"
   ]
  },
  {
   "cell_type": "code",
   "execution_count": 49,
   "metadata": {},
   "outputs": [
    {
     "name": "stdout",
     "output_type": "stream",
     "text": [
      "0.8214518518518519\n",
      "0.8119111111111111\n"
     ]
    }
   ],
   "source": [
    "print(rfc.score(X_train, y_train))\n",
    "print(rfc.score(X_test, y_test))"
   ]
  },
  {
   "cell_type": "markdown",
   "metadata": {},
   "source": [
    "#### II. Random Classifier Metric"
   ]
  },
  {
   "cell_type": "code",
   "execution_count": 50,
   "metadata": {},
   "outputs": [
    {
     "data": {
      "text/plain": [
       "array([[4098,  223],\n",
       "       [ 835,  469]])"
      ]
     },
     "execution_count": 50,
     "metadata": {},
     "output_type": "execute_result"
    }
   ],
   "source": [
    "y_pred = rfc.predict(X_test)\n",
    "metrics.confusion_matrix(y_test, y_pred)"
   ]
  },
  {
   "cell_type": "code",
   "execution_count": 51,
   "metadata": {},
   "outputs": [
    {
     "data": {
      "text/plain": [
       "array([0.1578339 , 0.6351623 , 0.11737713, ..., 0.55277516, 0.15037882,\n",
       "       0.1465879 ])"
      ]
     },
     "execution_count": 51,
     "metadata": {},
     "output_type": "execute_result"
    }
   ],
   "source": [
    "y_pred_prob = rfc.predict_proba(X_test)[:, 1]\n",
    "y_pred_prob"
   ]
  },
  {
   "cell_type": "code",
   "execution_count": 52,
   "metadata": {},
   "outputs": [
    {
     "name": "stdout",
     "output_type": "stream",
     "text": [
      "0.6331006979062811 0.13173295936086377\n"
     ]
    },
    {
     "name": "stderr",
     "output_type": "stream",
     "text": [
      "/Users/AnnaHuang/anaconda3/lib/python3.6/site-packages/sklearn/metrics/classification.py:1135: UndefinedMetricWarning: F-score is ill-defined and being set to 0.0 due to no predicted samples.\n",
      "  'precision', 'predicted', average, warn_for)\n"
     ]
    }
   ],
   "source": [
    "#identifying the best score and threshold for F2\n",
    "from sklearn import metrics\n",
    "\n",
    "best_score = -1\n",
    "best_threshold = -1\n",
    "\n",
    "for threshold in sorted(y_pred_prob):\n",
    "    y_pred_thresh = y_pred_prob > threshold\n",
    "    score = metrics.fbeta_score(y_test, y_pred_thresh,beta=2)\n",
    "    if score > best_score:\n",
    "        best_score = score\n",
    "        best_threshold = threshold\n",
    "print(best_score, best_threshold)"
   ]
  },
  {
   "cell_type": "code",
   "execution_count": 53,
   "metadata": {},
   "outputs": [
    {
     "data": {
      "text/plain": [
       "array([[1653, 2668],\n",
       "       [ 161, 1143]])"
      ]
     },
     "execution_count": 53,
     "metadata": {},
     "output_type": "execute_result"
    }
   ],
   "source": [
    "y_pred_thresh = y_pred_prob > best_threshold\n",
    "metrics.confusion_matrix(y_test, y_pred_thresh)\n",
    "#Calculate the confusion matrix for the best threshold for f2"
   ]
  },
  {
   "cell_type": "code",
   "execution_count": 54,
   "metadata": {},
   "outputs": [
    {
     "name": "stdout",
     "output_type": "stream",
     "text": [
      "accuracy score: 0.49706666666666666\n",
      "precision score: 0.2999212805038048\n",
      "recall score: 0.8765337423312883\n",
      "f1 score: 0.6331006979062811\n"
     ]
    }
   ],
   "source": [
    "print('accuracy score:', metrics.accuracy_score(y_test, y_pred_thresh))\n",
    "print('precision score:', metrics.precision_score(y_test, y_pred_thresh))\n",
    "print('recall score:', metrics.recall_score(y_test, y_pred_thresh))\n",
    "print('f1 score:', metrics.fbeta_score(y_test, y_pred_thresh,beta=2))\n",
    "#Calculate the test-set accuracy, precision, recall and F2 score for model "
   ]
  },
  {
   "cell_type": "markdown",
   "metadata": {},
   "source": [
    "##### Identifying feature importances"
   ]
  },
  {
   "cell_type": "code",
   "execution_count": 55,
   "metadata": {},
   "outputs": [
    {
     "data": {
      "text/plain": [
       "RandomForestClassifier(bootstrap=True, class_weight=None, criterion='gini',\n",
       "            max_depth=None, max_features='auto', max_leaf_nodes=None,\n",
       "            min_impurity_decrease=0.0, min_impurity_split=None,\n",
       "            min_samples_leaf=1, min_samples_split=2,\n",
       "            min_weight_fraction_leaf=0.0, n_estimators=150, n_jobs=1,\n",
       "            oob_score=True, random_state=1, verbose=0, warm_start=False)"
      ]
     },
     "execution_count": 55,
     "metadata": {},
     "output_type": "execute_result"
    }
   ],
   "source": [
    "rfc = RandomForestClassifier(n_estimators=150, oob_score=True, random_state=1)\n",
    "rfc.fit(X,y)"
   ]
  },
  {
   "cell_type": "code",
   "execution_count": 56,
   "metadata": {},
   "outputs": [
    {
     "data": {
      "text/plain": [
       "[(0.2540201027666378, 'Credit_Util_Avg'),\n",
       " (0.17589868668234226, 'AGE'),\n",
       " (0.14935179302042376, 'LIMIT_BAL'),\n",
       " (0.11140050058457156, 'PAY_0'),\n",
       " (0.0577655303064744, 'PAY_2'),\n",
       " (0.045968051676010833, 'EDUCATION'),\n",
       " (0.041649479590784445, 'PAY_3'),\n",
       " (0.038424822955210824, 'PAY_4'),\n",
       " (0.036198838763234736, 'PAY_5'),\n",
       " (0.03523416450507336, 'PAY_6'),\n",
       " (0.02785829517003498, 'MARRIAGE'),\n",
       " (0.026229733979201055, 'SEX')]"
      ]
     },
     "execution_count": 56,
     "metadata": {},
     "output_type": "execute_result"
    }
   ],
   "source": [
    "sorted(zip(rfc.feature_importances_, feature_cols))[::-1]\n",
    "#Identified Credit_Util_Avg as the most important feature "
   ]
  },
  {
   "cell_type": "code",
   "execution_count": 57,
   "metadata": {},
   "outputs": [
    {
     "data": {
      "text/plain": [
       "0.8049777777777778"
      ]
     },
     "execution_count": 57,
     "metadata": {},
     "output_type": "execute_result"
    }
   ],
   "source": [
    "rfc.oob_score_ \n",
    "#Out of Bag Score is 80.5% which is pretty good"
   ]
  }
 ],
 "metadata": {
  "kernelspec": {
   "display_name": "Python 3",
   "language": "python",
   "name": "python3"
  },
  "language_info": {
   "codemirror_mode": {
    "name": "ipython",
    "version": 3
   },
   "file_extension": ".py",
   "mimetype": "text/x-python",
   "name": "python",
   "nbconvert_exporter": "python",
   "pygments_lexer": "ipython3",
   "version": "3.6.5"
  }
 },
 "nbformat": 4,
 "nbformat_minor": 2
}
