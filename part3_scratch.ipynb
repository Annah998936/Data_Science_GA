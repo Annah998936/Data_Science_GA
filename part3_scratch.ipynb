{
 "cells": [
  {
   "cell_type": "markdown",
   "metadata": {},
   "source": [
    "# Final Project Part 1 - Proposal 1: Credit Default Prediction"
   ]
  },
  {
   "cell_type": "markdown",
   "metadata": {},
   "source": [
    "### The target variable you want to predict"
   ]
  },
  {
   "cell_type": "markdown",
   "metadata": {},
   "source": [
    "The target variable that I want to predict is if the customer will default next month. "
   ]
  },
  {
   "cell_type": "markdown",
   "metadata": {},
   "source": [
    "### How predicting that target variable could help with some kind of decision"
   ]
  },
  {
   "cell_type": "markdown",
   "metadata": {},
   "source": [
    "Predicting this variable will help the bank determine whether or not to provide a credit line increase or potentially a credit line decrease to customers to either maximize revenue or minimize loss. My assumption is if the customer is paying consistently every month, the probability of defaulting in the next payment is very unlikely. "
   ]
  },
  {
   "cell_type": "markdown",
   "metadata": {},
   "source": [
    "### The features you want to use to predict that target variable"
   ]
  },
  {
   "cell_type": "markdown",
   "metadata": {},
   "source": [
    "o\tThe features used to predict this variable from the data are: \n",
    "- Amount of given credit \n",
    "- Gender\n",
    "- Education\n",
    "- Marital Status\n",
    "- Age \n",
    "- History of Repayment Status from April – September 2015 (each month is a separate column)\n",
    "- Amount of bill statement from April – September 2015\n",
    "- Amount of previous payment from April – September 2015\n"
   ]
  },
  {
   "cell_type": "markdown",
   "metadata": {},
   "source": [
    "### Goals and success metrics"
   ]
  },
  {
   "cell_type": "markdown",
   "metadata": {},
   "source": [
    "The goal is to be able to predict if the customer is going to default the next month (October 2015). "
   ]
  },
  {
   "cell_type": "markdown",
   "metadata": {},
   "source": [
    "### Risks or limitations"
   ]
  },
  {
   "cell_type": "markdown",
   "metadata": {},
   "source": [
    "The main limitation is there is only data from April – September 2015 and may not be sufficient enough to predict if the customer is going to default. Using only 6 months of data to predict if a customer is going to default is limited because the entire life cycle of the card could provide better insights. "
   ]
  },
  {
   "cell_type": "code",
   "execution_count": 43,
   "metadata": {},
   "outputs": [
    {
     "data": {
      "text/html": [
       "<div>\n",
       "<style scoped>\n",
       "    .dataframe tbody tr th:only-of-type {\n",
       "        vertical-align: middle;\n",
       "    }\n",
       "\n",
       "    .dataframe tbody tr th {\n",
       "        vertical-align: top;\n",
       "    }\n",
       "\n",
       "    .dataframe thead th {\n",
       "        text-align: right;\n",
       "    }\n",
       "</style>\n",
       "<table border=\"1\" class=\"dataframe\">\n",
       "  <thead>\n",
       "    <tr style=\"text-align: right;\">\n",
       "      <th></th>\n",
       "      <th>LIMIT_BAL</th>\n",
       "      <th>SEX</th>\n",
       "      <th>EDUCATION</th>\n",
       "      <th>MARRIAGE</th>\n",
       "      <th>AGE</th>\n",
       "      <th>PAY_0</th>\n",
       "      <th>PAY_2</th>\n",
       "      <th>PAY_3</th>\n",
       "      <th>PAY_4</th>\n",
       "      <th>PAY_5</th>\n",
       "      <th>...</th>\n",
       "      <th>BILL_AMT4</th>\n",
       "      <th>BILL_AMT5</th>\n",
       "      <th>BILL_AMT6</th>\n",
       "      <th>PAY_AMT1</th>\n",
       "      <th>PAY_AMT2</th>\n",
       "      <th>PAY_AMT3</th>\n",
       "      <th>PAY_AMT4</th>\n",
       "      <th>PAY_AMT5</th>\n",
       "      <th>PAY_AMT6</th>\n",
       "      <th>default payment next month</th>\n",
       "    </tr>\n",
       "    <tr>\n",
       "      <th>ID</th>\n",
       "      <th></th>\n",
       "      <th></th>\n",
       "      <th></th>\n",
       "      <th></th>\n",
       "      <th></th>\n",
       "      <th></th>\n",
       "      <th></th>\n",
       "      <th></th>\n",
       "      <th></th>\n",
       "      <th></th>\n",
       "      <th></th>\n",
       "      <th></th>\n",
       "      <th></th>\n",
       "      <th></th>\n",
       "      <th></th>\n",
       "      <th></th>\n",
       "      <th></th>\n",
       "      <th></th>\n",
       "      <th></th>\n",
       "      <th></th>\n",
       "      <th></th>\n",
       "    </tr>\n",
       "  </thead>\n",
       "  <tbody>\n",
       "    <tr>\n",
       "      <th>1</th>\n",
       "      <td>20000</td>\n",
       "      <td>2</td>\n",
       "      <td>2</td>\n",
       "      <td>1</td>\n",
       "      <td>24</td>\n",
       "      <td>2</td>\n",
       "      <td>2</td>\n",
       "      <td>-1</td>\n",
       "      <td>-1</td>\n",
       "      <td>-2</td>\n",
       "      <td>...</td>\n",
       "      <td>0</td>\n",
       "      <td>0</td>\n",
       "      <td>0</td>\n",
       "      <td>0</td>\n",
       "      <td>689</td>\n",
       "      <td>0</td>\n",
       "      <td>0</td>\n",
       "      <td>0</td>\n",
       "      <td>0</td>\n",
       "      <td>1</td>\n",
       "    </tr>\n",
       "    <tr>\n",
       "      <th>2</th>\n",
       "      <td>120000</td>\n",
       "      <td>2</td>\n",
       "      <td>2</td>\n",
       "      <td>2</td>\n",
       "      <td>26</td>\n",
       "      <td>-1</td>\n",
       "      <td>2</td>\n",
       "      <td>0</td>\n",
       "      <td>0</td>\n",
       "      <td>0</td>\n",
       "      <td>...</td>\n",
       "      <td>3272</td>\n",
       "      <td>3455</td>\n",
       "      <td>3261</td>\n",
       "      <td>0</td>\n",
       "      <td>1000</td>\n",
       "      <td>1000</td>\n",
       "      <td>1000</td>\n",
       "      <td>0</td>\n",
       "      <td>2000</td>\n",
       "      <td>1</td>\n",
       "    </tr>\n",
       "    <tr>\n",
       "      <th>3</th>\n",
       "      <td>90000</td>\n",
       "      <td>2</td>\n",
       "      <td>2</td>\n",
       "      <td>2</td>\n",
       "      <td>34</td>\n",
       "      <td>0</td>\n",
       "      <td>0</td>\n",
       "      <td>0</td>\n",
       "      <td>0</td>\n",
       "      <td>0</td>\n",
       "      <td>...</td>\n",
       "      <td>14331</td>\n",
       "      <td>14948</td>\n",
       "      <td>15549</td>\n",
       "      <td>1518</td>\n",
       "      <td>1500</td>\n",
       "      <td>1000</td>\n",
       "      <td>1000</td>\n",
       "      <td>1000</td>\n",
       "      <td>5000</td>\n",
       "      <td>0</td>\n",
       "    </tr>\n",
       "    <tr>\n",
       "      <th>4</th>\n",
       "      <td>50000</td>\n",
       "      <td>2</td>\n",
       "      <td>2</td>\n",
       "      <td>1</td>\n",
       "      <td>37</td>\n",
       "      <td>0</td>\n",
       "      <td>0</td>\n",
       "      <td>0</td>\n",
       "      <td>0</td>\n",
       "      <td>0</td>\n",
       "      <td>...</td>\n",
       "      <td>28314</td>\n",
       "      <td>28959</td>\n",
       "      <td>29547</td>\n",
       "      <td>2000</td>\n",
       "      <td>2019</td>\n",
       "      <td>1200</td>\n",
       "      <td>1100</td>\n",
       "      <td>1069</td>\n",
       "      <td>1000</td>\n",
       "      <td>0</td>\n",
       "    </tr>\n",
       "    <tr>\n",
       "      <th>5</th>\n",
       "      <td>50000</td>\n",
       "      <td>1</td>\n",
       "      <td>2</td>\n",
       "      <td>1</td>\n",
       "      <td>57</td>\n",
       "      <td>-1</td>\n",
       "      <td>0</td>\n",
       "      <td>-1</td>\n",
       "      <td>0</td>\n",
       "      <td>0</td>\n",
       "      <td>...</td>\n",
       "      <td>20940</td>\n",
       "      <td>19146</td>\n",
       "      <td>19131</td>\n",
       "      <td>2000</td>\n",
       "      <td>36681</td>\n",
       "      <td>10000</td>\n",
       "      <td>9000</td>\n",
       "      <td>689</td>\n",
       "      <td>679</td>\n",
       "      <td>0</td>\n",
       "    </tr>\n",
       "  </tbody>\n",
       "</table>\n",
       "<p>5 rows × 24 columns</p>\n",
       "</div>"
      ],
      "text/plain": [
       "    LIMIT_BAL  SEX  EDUCATION  MARRIAGE  AGE  PAY_0  PAY_2  PAY_3  PAY_4  \\\n",
       "ID                                                                         \n",
       "1       20000    2          2         1   24      2      2     -1     -1   \n",
       "2      120000    2          2         2   26     -1      2      0      0   \n",
       "3       90000    2          2         2   34      0      0      0      0   \n",
       "4       50000    2          2         1   37      0      0      0      0   \n",
       "5       50000    1          2         1   57     -1      0     -1      0   \n",
       "\n",
       "    PAY_5             ...              BILL_AMT4  BILL_AMT5  BILL_AMT6  \\\n",
       "ID                    ...                                                \n",
       "1      -2             ...                      0          0          0   \n",
       "2       0             ...                   3272       3455       3261   \n",
       "3       0             ...                  14331      14948      15549   \n",
       "4       0             ...                  28314      28959      29547   \n",
       "5       0             ...                  20940      19146      19131   \n",
       "\n",
       "    PAY_AMT1  PAY_AMT2  PAY_AMT3  PAY_AMT4  PAY_AMT5  PAY_AMT6  \\\n",
       "ID                                                               \n",
       "1          0       689         0         0         0         0   \n",
       "2          0      1000      1000      1000         0      2000   \n",
       "3       1518      1500      1000      1000      1000      5000   \n",
       "4       2000      2019      1200      1100      1069      1000   \n",
       "5       2000     36681     10000      9000       689       679   \n",
       "\n",
       "    default payment next month  \n",
       "ID                              \n",
       "1                            1  \n",
       "2                            1  \n",
       "3                            0  \n",
       "4                            0  \n",
       "5                            0  \n",
       "\n",
       "[5 rows x 24 columns]"
      ]
     },
     "execution_count": 43,
     "metadata": {},
     "output_type": "execute_result"
    }
   ],
   "source": [
    "import pandas as pd\n",
    "credit_card_default = pd.read_csv('./data/credit_card_default.csv')\n",
    "credit_card_default.head()\n",
    "credit_card_default = credit_card_default.set_index('ID')\n",
    "credit_card_default.head()"
   ]
  },
  {
   "cell_type": "code",
   "execution_count": 44,
   "metadata": {},
   "outputs": [
    {
     "data": {
      "text/plain": [
       "(22500, 24)"
      ]
     },
     "execution_count": 44,
     "metadata": {},
     "output_type": "execute_result"
    }
   ],
   "source": [
    "credit_card_default.shape\n",
    "\n",
    "#22,500 rows and 24 columns"
   ]
  },
  {
   "cell_type": "code",
   "execution_count": 45,
   "metadata": {},
   "outputs": [
    {
     "data": {
      "text/plain": [
       "LIMIT_BAL                     0\n",
       "SEX                           0\n",
       "EDUCATION                     0\n",
       "MARRIAGE                      0\n",
       "AGE                           0\n",
       "PAY_0                         0\n",
       "PAY_2                         0\n",
       "PAY_3                         0\n",
       "PAY_4                         0\n",
       "PAY_5                         0\n",
       "PAY_6                         0\n",
       "BILL_AMT1                     0\n",
       "BILL_AMT2                     0\n",
       "BILL_AMT3                     0\n",
       "BILL_AMT4                     0\n",
       "BILL_AMT5                     0\n",
       "BILL_AMT6                     0\n",
       "PAY_AMT1                      0\n",
       "PAY_AMT2                      0\n",
       "PAY_AMT3                      0\n",
       "PAY_AMT4                      0\n",
       "PAY_AMT5                      0\n",
       "PAY_AMT6                      0\n",
       "default payment next month    0\n",
       "dtype: int64"
      ]
     },
     "execution_count": 45,
     "metadata": {},
     "output_type": "execute_result"
    }
   ],
   "source": [
    "credit_card_default.isnull().sum()\n",
    "\n",
    "#no missing data \n",
    "#data is cleaned up but there are missing data "
   ]
  },
  {
   "cell_type": "code",
   "execution_count": 46,
   "metadata": {},
   "outputs": [],
   "source": [
    "#Education had 5,6,0 and changed it to 4 \n",
    "credit_card_default.loc[:,'EDUCATION'].value_counts()\n",
    "credit_card_default.loc[:,'EDUCATION'] = credit_card_default.loc[:, 'EDUCATION'].replace({5: 4, 6: 4, 0: 4})"
   ]
  },
  {
   "cell_type": "code",
   "execution_count": 47,
   "metadata": {},
   "outputs": [
    {
     "data": {
      "text/plain": [
       "2    12219\n",
       "1     9990\n",
       "3      291\n",
       "Name: MARRIAGE, dtype: int64"
      ]
     },
     "execution_count": 47,
     "metadata": {},
     "output_type": "execute_result"
    }
   ],
   "source": [
    "#Marriage had 0 so changing it to 3 for 'others'\n",
    "credit_card_default.loc[:,'MARRIAGE'].value_counts()\n",
    "credit_card_default.loc[:,'MARRIAGE'] = credit_card_default.loc[:, 'MARRIAGE'].replace({0: 3})\n",
    "credit_card_default.loc[:,'MARRIAGE'].value_counts()"
   ]
  },
  {
   "cell_type": "code",
   "execution_count": 48,
   "metadata": {},
   "outputs": [
    {
     "data": {
      "text/html": [
       "<div>\n",
       "<style scoped>\n",
       "    .dataframe tbody tr th:only-of-type {\n",
       "        vertical-align: middle;\n",
       "    }\n",
       "\n",
       "    .dataframe tbody tr th {\n",
       "        vertical-align: top;\n",
       "    }\n",
       "\n",
       "    .dataframe thead th {\n",
       "        text-align: right;\n",
       "    }\n",
       "</style>\n",
       "<table border=\"1\" class=\"dataframe\">\n",
       "  <thead>\n",
       "    <tr style=\"text-align: right;\">\n",
       "      <th></th>\n",
       "      <th>LIMIT_BAL</th>\n",
       "      <th>SEX</th>\n",
       "      <th>EDUCATION</th>\n",
       "      <th>MARRIAGE</th>\n",
       "      <th>AGE</th>\n",
       "      <th>PAY_0</th>\n",
       "      <th>PAY_2</th>\n",
       "      <th>PAY_3</th>\n",
       "      <th>PAY_4</th>\n",
       "      <th>PAY_5</th>\n",
       "      <th>...</th>\n",
       "      <th>BILL_AMT4</th>\n",
       "      <th>BILL_AMT5</th>\n",
       "      <th>BILL_AMT6</th>\n",
       "      <th>PAY_AMT1</th>\n",
       "      <th>PAY_AMT2</th>\n",
       "      <th>PAY_AMT3</th>\n",
       "      <th>PAY_AMT4</th>\n",
       "      <th>PAY_AMT5</th>\n",
       "      <th>PAY_AMT6</th>\n",
       "      <th>default payment next month</th>\n",
       "    </tr>\n",
       "    <tr>\n",
       "      <th>ID</th>\n",
       "      <th></th>\n",
       "      <th></th>\n",
       "      <th></th>\n",
       "      <th></th>\n",
       "      <th></th>\n",
       "      <th></th>\n",
       "      <th></th>\n",
       "      <th></th>\n",
       "      <th></th>\n",
       "      <th></th>\n",
       "      <th></th>\n",
       "      <th></th>\n",
       "      <th></th>\n",
       "      <th></th>\n",
       "      <th></th>\n",
       "      <th></th>\n",
       "      <th></th>\n",
       "      <th></th>\n",
       "      <th></th>\n",
       "      <th></th>\n",
       "      <th></th>\n",
       "    </tr>\n",
       "  </thead>\n",
       "  <tbody>\n",
       "  </tbody>\n",
       "</table>\n",
       "<p>0 rows × 24 columns</p>\n",
       "</div>"
      ],
      "text/plain": [
       "Empty DataFrame\n",
       "Columns: [LIMIT_BAL, SEX, EDUCATION, MARRIAGE, AGE, PAY_0, PAY_2, PAY_3, PAY_4, PAY_5, PAY_6, BILL_AMT1, BILL_AMT2, BILL_AMT3, BILL_AMT4, BILL_AMT5, BILL_AMT6, PAY_AMT1, PAY_AMT2, PAY_AMT3, PAY_AMT4, PAY_AMT5, PAY_AMT6, default payment next month]\n",
       "Index: []\n",
       "\n",
       "[0 rows x 24 columns]"
      ]
     },
     "execution_count": 48,
     "metadata": {},
     "output_type": "execute_result"
    }
   ],
   "source": [
    "credit_card_default.loc[credit_card_default.loc[:,'AGE'] <= 0,:]\n",
    "#no accounts with age less than or equal to 0 "
   ]
  },
  {
   "cell_type": "code",
   "execution_count": 49,
   "metadata": {},
   "outputs": [
    {
     "data": {
      "text/plain": [
       "0    0.773867\n",
       "1    0.226133\n",
       "Name: default payment next month, dtype: float64"
      ]
     },
     "execution_count": 49,
     "metadata": {},
     "output_type": "execute_result"
    }
   ],
   "source": [
    "credit_card_default.loc[:,'default payment next month'].value_counts(normalize=True)"
   ]
  },
  {
   "cell_type": "markdown",
   "metadata": {},
   "source": [
    "# Final Project Part 2 - Exploratory Data Analysis"
   ]
  },
  {
   "cell_type": "markdown",
   "metadata": {},
   "source": [
    "Variable descriptions: This research employed a binary variable, default payment (Yes = 1, No = 0), as the response variable.\n",
    "\n",
    "This study reviewed the literature and used the following 23 variables as explanatory variables:\n",
    "\n",
    "- X1: Amount of the given credit (NT dollar): it includes both the individual consumer credit and his/her family (supplementary) credit.\n",
    "- X2: Gender (1 = male; 2 = female).\n",
    "- X3: Education (1 = graduate school; 2 = university; 3 = high school; 4 = others).\n",
    "- X4: Marital status (1 = married; 2 = single; 3 = others).\n",
    "- X5: Age (year).\n",
    "- X6 - X11: History of past payment. We tracked the past monthly payment records (from April to September, 2005) as follows:\n",
    "- X6 = the repayment status in September, 2005;\n",
    "- X7 = the repayment status in August, 2005; . . .;\n",
    "- X11 = the repayment status in April, 2005. The measurement scale for the repayment status is:\n",
    "- -1 = pay duly;\n",
    "- 1 = payment delay for one month;\n",
    "- 2 = payment delay for two months; . . .;\n",
    "- 8 = payment delay for eight months;\n",
    "- 9 = payment delay for nine months and above.\n",
    "- -2 = indicates no consumption in the month, and a value of\n",
    "- 0 = indicates the use of revolving credit (equivalent to prepayment)\n",
    "- X12-X17: Amount of bill statement (NT dollar).\n",
    "- X12 = amount of bill statement in September, 2005;\n",
    "- X13 = amount of bill statement in August, 2005; . . .;\n",
    "- X17 = amount of bill statement in April, 2005.\n",
    "- X18-X23: Amount of previous payment (NT dollar).\n",
    "- X18 = amount paid in September, 2005;\n",
    "- X19 = amount paid in August, 2005; . . .;\n",
    "- X23 = amount paid in April, 2005."
   ]
  },
  {
   "cell_type": "markdown",
   "metadata": {},
   "source": [
    "# Build a first-pass model on your data:\n",
    "\n",
    "- Load in your data set.\n",
    "- Separate your target column from potential feature columns.\n",
    "- Get those columns in a clean enough state that you can build a model with them. It is OK to be fast and loose at this stage, e.g. by simply dropping rows or columns that have missing values or have string values that would take some work to make usable.\n",
    "- Do a train/test split.\n",
    "- Fit some kind of regression or classification model on your training set. Be sure to choose the correct type: regression if your target variable is a number, classification if it is a category.\n",
    "- Use an appropriate metric to evaluate your model on both the training set and the test set. Be sure to choose a regression metric for a regression problem (e.g. MSE, RMSE, MAE, R-squared) or a classification metric for a classification problem (e.g. accuracy, $F_1$).\n",
    "- Compare your model's performance to that of a null model, e.g. by calculating R^2 for a regression model, comparing accuracy for a classification model to the frequency of the most common class, or calculating the same metric for your model and for a set of predictions that is simply the average value of the target variable for a regression model or the most common class for a classification model.\n",
    "- State whether this first-pass model appears to be overfitting or underfitting."
   ]
  },
  {
   "cell_type": "code",
   "execution_count": 51,
   "metadata": {},
   "outputs": [],
   "source": [
    "import matplotlib.pyplot as plt\n",
    "import numpy as np\n",
    "import seaborn as sns\n",
    "import pandas as pd\n",
    "from sklearn import metrics\n",
    "\n",
    "plt.style.use('fivethirtyeight')\n",
    "%matplotlib inline"
   ]
  },
  {
   "cell_type": "markdown",
   "metadata": {},
   "source": [
    "$\\blacksquare$ Feature Engineering"
   ]
  },
  {
   "cell_type": "code",
   "execution_count": 52,
   "metadata": {},
   "outputs": [],
   "source": [
    "#Credit_Utilization_Rate = Your Total Debt / Your Total Avaliable Credit\n",
    "#https://www.experian.com/blogs/ask-experian/credit-education/score-basics/credit-utilization-rate/\n",
    "\n",
    "credit_card_default['Credit_Util_Rate_1'] = (credit_card_default['BILL_AMT1'] - credit_card_default['PAY_AMT1'])/credit_card_default['LIMIT_BAL']\n",
    "credit_card_default['Credit_Util_Rate_2'] = (credit_card_default['BILL_AMT2'] - credit_card_default['PAY_AMT2'])/credit_card_default['LIMIT_BAL']\n",
    "credit_card_default['Credit_Util_Rate_3'] = (credit_card_default['BILL_AMT3'] - credit_card_default['PAY_AMT3'])/credit_card_default['LIMIT_BAL']\n",
    "credit_card_default['Credit_Util_Rate_4'] = (credit_card_default['BILL_AMT4'] - credit_card_default['PAY_AMT4'])/credit_card_default['LIMIT_BAL']\n",
    "credit_card_default['Credit_Util_Rate_5'] = (credit_card_default['BILL_AMT5'] - credit_card_default['PAY_AMT5'])/credit_card_default['LIMIT_BAL']\n",
    "credit_card_default['Credit_Util_Rate_6'] = (credit_card_default['BILL_AMT6'] - credit_card_default['PAY_AMT6'])/credit_card_default['LIMIT_BAL']\n",
    "\n",
    "credit_card_default['Credit_Util_Avg'] = (credit_card_default['Credit_Util_Rate_1'] +\n",
    "                                        credit_card_default['Credit_Util_Rate_2'] +\n",
    "                                        credit_card_default['Credit_Util_Rate_3'] +\n",
    "                                        credit_card_default['Credit_Util_Rate_4'] +\n",
    "                                        credit_card_default['Credit_Util_Rate_5'] +\n",
    "                                        credit_card_default['Credit_Util_Rate_6'])/6                         "
   ]
  },
  {
   "cell_type": "code",
   "execution_count": 11,
   "metadata": {},
   "outputs": [],
   "source": [
    "#Adding the repayment status to the calcuation. \n",
    "#If <0 which is good, >0 is bad\n",
    "credit_card_default['Credit_Pay_Status_Avg'] = (credit_card_default['PAY_0'] +\n",
    "                                        credit_card_default['PAY_2'] +\n",
    "                                        credit_card_default['PAY_3'] +\n",
    "                                        credit_card_default['PAY_4'] +\n",
    "                                        credit_card_default['PAY_5'] +\n",
    "                                        credit_card_default['PAY_6'])/6\n",
    "\n",
    "credit_card_default['Credit_Util_Pay_Status_Avg'] = (credit_card_default['Credit_Util_Avg'] * credit_card_default['Credit_Pay_Status_Avg'])"
   ]
  },
  {
   "cell_type": "code",
   "execution_count": 53,
   "metadata": {},
   "outputs": [
    {
     "data": {
      "text/plain": [
       "Index(['LIMIT_BAL', 'SEX', 'EDUCATION', 'MARRIAGE', 'AGE', 'PAY_0', 'PAY_2',\n",
       "       'PAY_3', 'PAY_4', 'PAY_5', 'PAY_6', 'BILL_AMT1', 'BILL_AMT2',\n",
       "       'BILL_AMT3', 'BILL_AMT4', 'BILL_AMT5', 'BILL_AMT6', 'PAY_AMT1',\n",
       "       'PAY_AMT2', 'PAY_AMT3', 'PAY_AMT4', 'PAY_AMT5', 'PAY_AMT6',\n",
       "       'default payment next month', 'Credit_Util_Rate_1',\n",
       "       'Credit_Util_Rate_2', 'Credit_Util_Rate_3', 'Credit_Util_Rate_4',\n",
       "       'Credit_Util_Rate_5', 'Credit_Util_Rate_6', 'Credit_Util_Avg'],\n",
       "      dtype='object')"
      ]
     },
     "execution_count": 53,
     "metadata": {},
     "output_type": "execute_result"
    }
   ],
   "source": [
    "credit_card_default.columns"
   ]
  },
  {
   "cell_type": "code",
   "execution_count": 14,
   "metadata": {},
   "outputs": [],
   "source": [
    "#calculate R^2 through cross validation"
   ]
  },
  {
   "cell_type": "markdown",
   "metadata": {},
   "source": [
    "# Explore your data, looking for insights that might help you improve your model."
   ]
  },
  {
   "cell_type": "code",
   "execution_count": 54,
   "metadata": {},
   "outputs": [
    {
     "data": {
      "text/plain": [
       "LIMIT_BAL                       int64\n",
       "SEX                             int64\n",
       "EDUCATION                       int64\n",
       "MARRIAGE                        int64\n",
       "AGE                             int64\n",
       "PAY_0                           int64\n",
       "PAY_2                           int64\n",
       "PAY_3                           int64\n",
       "PAY_4                           int64\n",
       "PAY_5                           int64\n",
       "PAY_6                           int64\n",
       "BILL_AMT1                       int64\n",
       "BILL_AMT2                       int64\n",
       "BILL_AMT3                       int64\n",
       "BILL_AMT4                       int64\n",
       "BILL_AMT5                       int64\n",
       "BILL_AMT6                       int64\n",
       "PAY_AMT1                        int64\n",
       "PAY_AMT2                        int64\n",
       "PAY_AMT3                        int64\n",
       "PAY_AMT4                        int64\n",
       "PAY_AMT5                        int64\n",
       "PAY_AMT6                        int64\n",
       "default payment next month      int64\n",
       "Credit_Util_Rate_1            float64\n",
       "Credit_Util_Rate_2            float64\n",
       "Credit_Util_Rate_3            float64\n",
       "Credit_Util_Rate_4            float64\n",
       "Credit_Util_Rate_5            float64\n",
       "Credit_Util_Rate_6            float64\n",
       "Credit_Util_Avg               float64\n",
       "dtype: object"
      ]
     },
     "execution_count": 54,
     "metadata": {},
     "output_type": "execute_result"
    }
   ],
   "source": [
    "credit_card_default.dtypes"
   ]
  },
  {
   "cell_type": "code",
   "execution_count": 14,
   "metadata": {},
   "outputs": [
    {
     "data": {
      "text/html": [
       "<div>\n",
       "<style scoped>\n",
       "    .dataframe tbody tr th:only-of-type {\n",
       "        vertical-align: middle;\n",
       "    }\n",
       "\n",
       "    .dataframe tbody tr th {\n",
       "        vertical-align: top;\n",
       "    }\n",
       "\n",
       "    .dataframe thead th {\n",
       "        text-align: right;\n",
       "    }\n",
       "</style>\n",
       "<table border=\"1\" class=\"dataframe\">\n",
       "  <thead>\n",
       "    <tr style=\"text-align: right;\">\n",
       "      <th></th>\n",
       "      <th>LIMIT_BAL</th>\n",
       "      <th>SEX</th>\n",
       "      <th>EDUCATION</th>\n",
       "      <th>MARRIAGE</th>\n",
       "      <th>AGE</th>\n",
       "      <th>PAY_0</th>\n",
       "      <th>PAY_2</th>\n",
       "      <th>PAY_3</th>\n",
       "      <th>PAY_4</th>\n",
       "      <th>PAY_5</th>\n",
       "      <th>...</th>\n",
       "      <th>default payment next month</th>\n",
       "      <th>Credit_Util_Rate_1</th>\n",
       "      <th>Credit_Util_Rate_2</th>\n",
       "      <th>Credit_Util_Rate_3</th>\n",
       "      <th>Credit_Util_Rate_4</th>\n",
       "      <th>Credit_Util_Rate_5</th>\n",
       "      <th>Credit_Util_Rate_6</th>\n",
       "      <th>Credit_Util_Avg</th>\n",
       "      <th>Credit_Pay_Status_Avg</th>\n",
       "      <th>Credit_Util_Pay_Status_Avg</th>\n",
       "    </tr>\n",
       "  </thead>\n",
       "  <tbody>\n",
       "    <tr>\n",
       "      <th>count</th>\n",
       "      <td>22500.000000</td>\n",
       "      <td>22500.000000</td>\n",
       "      <td>22500.000000</td>\n",
       "      <td>22500.000000</td>\n",
       "      <td>22500.000000</td>\n",
       "      <td>22500.000000</td>\n",
       "      <td>22500.000000</td>\n",
       "      <td>22500.000000</td>\n",
       "      <td>22500.000000</td>\n",
       "      <td>22500.000000</td>\n",
       "      <td>...</td>\n",
       "      <td>22500.000000</td>\n",
       "      <td>22500.000000</td>\n",
       "      <td>22500.000000</td>\n",
       "      <td>22500.000000</td>\n",
       "      <td>22500.000000</td>\n",
       "      <td>22500.000000</td>\n",
       "      <td>22500.000000</td>\n",
       "      <td>22500.000000</td>\n",
       "      <td>22500.000000</td>\n",
       "      <td>22500.000000</td>\n",
       "    </tr>\n",
       "    <tr>\n",
       "      <th>mean</th>\n",
       "      <td>163424.608000</td>\n",
       "      <td>1.610178</td>\n",
       "      <td>1.831333</td>\n",
       "      <td>1.568933</td>\n",
       "      <td>35.212889</td>\n",
       "      <td>0.015067</td>\n",
       "      <td>-0.106978</td>\n",
       "      <td>-0.137422</td>\n",
       "      <td>-0.197333</td>\n",
       "      <td>-0.237067</td>\n",
       "      <td>...</td>\n",
       "      <td>0.226133</td>\n",
       "      <td>0.383564</td>\n",
       "      <td>0.371962</td>\n",
       "      <td>0.358169</td>\n",
       "      <td>0.323337</td>\n",
       "      <td>0.302965</td>\n",
       "      <td>0.287063</td>\n",
       "      <td>0.337843</td>\n",
       "      <td>-0.154467</td>\n",
       "      <td>0.137721</td>\n",
       "    </tr>\n",
       "    <tr>\n",
       "      <th>std</th>\n",
       "      <td>128515.245979</td>\n",
       "      <td>0.487721</td>\n",
       "      <td>0.734407</td>\n",
       "      <td>0.520698</td>\n",
       "      <td>9.307266</td>\n",
       "      <td>1.119824</td>\n",
       "      <td>1.197125</td>\n",
       "      <td>1.202637</td>\n",
       "      <td>1.164344</td>\n",
       "      <td>1.137459</td>\n",
       "      <td>...</td>\n",
       "      <td>0.418336</td>\n",
       "      <td>0.415597</td>\n",
       "      <td>0.412199</td>\n",
       "      <td>0.395713</td>\n",
       "      <td>0.373015</td>\n",
       "      <td>0.355392</td>\n",
       "      <td>0.354784</td>\n",
       "      <td>0.341167</td>\n",
       "      <td>0.980098</td>\n",
       "      <td>0.431845</td>\n",
       "    </tr>\n",
       "    <tr>\n",
       "      <th>min</th>\n",
       "      <td>10000.000000</td>\n",
       "      <td>1.000000</td>\n",
       "      <td>1.000000</td>\n",
       "      <td>1.000000</td>\n",
       "      <td>21.000000</td>\n",
       "      <td>-2.000000</td>\n",
       "      <td>-2.000000</td>\n",
       "      <td>-2.000000</td>\n",
       "      <td>-2.000000</td>\n",
       "      <td>-2.000000</td>\n",
       "      <td>...</td>\n",
       "      <td>0.000000</td>\n",
       "      <td>-2.664750</td>\n",
       "      <td>-3.404694</td>\n",
       "      <td>-2.882782</td>\n",
       "      <td>-3.086000</td>\n",
       "      <td>-2.530600</td>\n",
       "      <td>-3.013530</td>\n",
       "      <td>-0.746872</td>\n",
       "      <td>-2.000000</td>\n",
       "      <td>-2.219445</td>\n",
       "    </tr>\n",
       "    <tr>\n",
       "      <th>25%</th>\n",
       "      <td>50000.000000</td>\n",
       "      <td>1.000000</td>\n",
       "      <td>1.000000</td>\n",
       "      <td>1.000000</td>\n",
       "      <td>28.000000</td>\n",
       "      <td>-1.000000</td>\n",
       "      <td>-1.000000</td>\n",
       "      <td>-1.000000</td>\n",
       "      <td>-1.000000</td>\n",
       "      <td>-1.000000</td>\n",
       "      <td>...</td>\n",
       "      <td>0.000000</td>\n",
       "      <td>0.005234</td>\n",
       "      <td>0.002642</td>\n",
       "      <td>0.002531</td>\n",
       "      <td>0.001632</td>\n",
       "      <td>0.000000</td>\n",
       "      <td>0.000000</td>\n",
       "      <td>0.005748</td>\n",
       "      <td>-0.833333</td>\n",
       "      <td>-0.000492</td>\n",
       "    </tr>\n",
       "    <tr>\n",
       "      <th>50%</th>\n",
       "      <td>135000.000000</td>\n",
       "      <td>2.000000</td>\n",
       "      <td>2.000000</td>\n",
       "      <td>2.000000</td>\n",
       "      <td>33.000000</td>\n",
       "      <td>0.000000</td>\n",
       "      <td>0.000000</td>\n",
       "      <td>0.000000</td>\n",
       "      <td>0.000000</td>\n",
       "      <td>0.000000</td>\n",
       "      <td>...</td>\n",
       "      <td>0.000000</td>\n",
       "      <td>0.285607</td>\n",
       "      <td>0.271033</td>\n",
       "      <td>0.252927</td>\n",
       "      <td>0.219094</td>\n",
       "      <td>0.190837</td>\n",
       "      <td>0.163778</td>\n",
       "      <td>0.245906</td>\n",
       "      <td>0.000000</td>\n",
       "      <td>0.000000</td>\n",
       "    </tr>\n",
       "    <tr>\n",
       "      <th>75%</th>\n",
       "      <td>230000.000000</td>\n",
       "      <td>2.000000</td>\n",
       "      <td>2.000000</td>\n",
       "      <td>2.000000</td>\n",
       "      <td>41.000000</td>\n",
       "      <td>0.000000</td>\n",
       "      <td>0.000000</td>\n",
       "      <td>0.000000</td>\n",
       "      <td>0.000000</td>\n",
       "      <td>0.000000</td>\n",
       "      <td>...</td>\n",
       "      <td>0.000000</td>\n",
       "      <td>0.772794</td>\n",
       "      <td>0.751924</td>\n",
       "      <td>0.707582</td>\n",
       "      <td>0.620643</td>\n",
       "      <td>0.572435</td>\n",
       "      <td>0.553923</td>\n",
       "      <td>0.637818</td>\n",
       "      <td>0.000000</td>\n",
       "      <td>0.015881</td>\n",
       "    </tr>\n",
       "    <tr>\n",
       "      <th>max</th>\n",
       "      <td>1000000.000000</td>\n",
       "      <td>2.000000</td>\n",
       "      <td>4.000000</td>\n",
       "      <td>3.000000</td>\n",
       "      <td>79.000000</td>\n",
       "      <td>8.000000</td>\n",
       "      <td>8.000000</td>\n",
       "      <td>8.000000</td>\n",
       "      <td>8.000000</td>\n",
       "      <td>8.000000</td>\n",
       "      <td>...</td>\n",
       "      <td>1.000000</td>\n",
       "      <td>6.234300</td>\n",
       "      <td>6.198000</td>\n",
       "      <td>5.235400</td>\n",
       "      <td>4.986850</td>\n",
       "      <td>4.928000</td>\n",
       "      <td>3.785550</td>\n",
       "      <td>5.203558</td>\n",
       "      <td>6.000000</td>\n",
       "      <td>9.329604</td>\n",
       "    </tr>\n",
       "  </tbody>\n",
       "</table>\n",
       "<p>8 rows × 33 columns</p>\n",
       "</div>"
      ],
      "text/plain": [
       "            LIMIT_BAL           SEX     EDUCATION      MARRIAGE           AGE  \\\n",
       "count    22500.000000  22500.000000  22500.000000  22500.000000  22500.000000   \n",
       "mean    163424.608000      1.610178      1.831333      1.568933     35.212889   \n",
       "std     128515.245979      0.487721      0.734407      0.520698      9.307266   \n",
       "min      10000.000000      1.000000      1.000000      1.000000     21.000000   \n",
       "25%      50000.000000      1.000000      1.000000      1.000000     28.000000   \n",
       "50%     135000.000000      2.000000      2.000000      2.000000     33.000000   \n",
       "75%     230000.000000      2.000000      2.000000      2.000000     41.000000   \n",
       "max    1000000.000000      2.000000      4.000000      3.000000     79.000000   \n",
       "\n",
       "              PAY_0         PAY_2         PAY_3         PAY_4         PAY_5  \\\n",
       "count  22500.000000  22500.000000  22500.000000  22500.000000  22500.000000   \n",
       "mean       0.015067     -0.106978     -0.137422     -0.197333     -0.237067   \n",
       "std        1.119824      1.197125      1.202637      1.164344      1.137459   \n",
       "min       -2.000000     -2.000000     -2.000000     -2.000000     -2.000000   \n",
       "25%       -1.000000     -1.000000     -1.000000     -1.000000     -1.000000   \n",
       "50%        0.000000      0.000000      0.000000      0.000000      0.000000   \n",
       "75%        0.000000      0.000000      0.000000      0.000000      0.000000   \n",
       "max        8.000000      8.000000      8.000000      8.000000      8.000000   \n",
       "\n",
       "                  ...              default payment next month  \\\n",
       "count             ...                            22500.000000   \n",
       "mean              ...                                0.226133   \n",
       "std               ...                                0.418336   \n",
       "min               ...                                0.000000   \n",
       "25%               ...                                0.000000   \n",
       "50%               ...                                0.000000   \n",
       "75%               ...                                0.000000   \n",
       "max               ...                                1.000000   \n",
       "\n",
       "       Credit_Util_Rate_1  Credit_Util_Rate_2  Credit_Util_Rate_3  \\\n",
       "count        22500.000000        22500.000000        22500.000000   \n",
       "mean             0.383564            0.371962            0.358169   \n",
       "std              0.415597            0.412199            0.395713   \n",
       "min             -2.664750           -3.404694           -2.882782   \n",
       "25%              0.005234            0.002642            0.002531   \n",
       "50%              0.285607            0.271033            0.252927   \n",
       "75%              0.772794            0.751924            0.707582   \n",
       "max              6.234300            6.198000            5.235400   \n",
       "\n",
       "       Credit_Util_Rate_4  Credit_Util_Rate_5  Credit_Util_Rate_6  \\\n",
       "count        22500.000000        22500.000000        22500.000000   \n",
       "mean             0.323337            0.302965            0.287063   \n",
       "std              0.373015            0.355392            0.354784   \n",
       "min             -3.086000           -2.530600           -3.013530   \n",
       "25%              0.001632            0.000000            0.000000   \n",
       "50%              0.219094            0.190837            0.163778   \n",
       "75%              0.620643            0.572435            0.553923   \n",
       "max              4.986850            4.928000            3.785550   \n",
       "\n",
       "       Credit_Util_Avg  Credit_Pay_Status_Avg  Credit_Util_Pay_Status_Avg  \n",
       "count     22500.000000           22500.000000                22500.000000  \n",
       "mean          0.337843              -0.154467                    0.137721  \n",
       "std           0.341167               0.980098                    0.431845  \n",
       "min          -0.746872              -2.000000                   -2.219445  \n",
       "25%           0.005748              -0.833333                   -0.000492  \n",
       "50%           0.245906               0.000000                    0.000000  \n",
       "75%           0.637818               0.000000                    0.015881  \n",
       "max           5.203558               6.000000                    9.329604  \n",
       "\n",
       "[8 rows x 33 columns]"
      ]
     },
     "execution_count": 14,
     "metadata": {},
     "output_type": "execute_result"
    }
   ],
   "source": [
    "credit_card_default.describe()\n",
    "#Describe does not apply to 'ID', SEX', 'EDUCATION', and 'MARRIAGE'"
   ]
  },
  {
   "cell_type": "code",
   "execution_count": 15,
   "metadata": {},
   "outputs": [
    {
     "data": {
      "text/html": [
       "<div>\n",
       "<style scoped>\n",
       "    .dataframe tbody tr th:only-of-type {\n",
       "        vertical-align: middle;\n",
       "    }\n",
       "\n",
       "    .dataframe tbody tr th {\n",
       "        vertical-align: top;\n",
       "    }\n",
       "\n",
       "    .dataframe thead th {\n",
       "        text-align: right;\n",
       "    }\n",
       "</style>\n",
       "<table border=\"1\" class=\"dataframe\">\n",
       "  <thead>\n",
       "    <tr style=\"text-align: right;\">\n",
       "      <th></th>\n",
       "      <th>LIMIT_BAL</th>\n",
       "      <th>SEX</th>\n",
       "      <th>EDUCATION</th>\n",
       "      <th>MARRIAGE</th>\n",
       "      <th>AGE</th>\n",
       "      <th>PAY_0</th>\n",
       "      <th>PAY_2</th>\n",
       "      <th>PAY_3</th>\n",
       "      <th>PAY_4</th>\n",
       "      <th>PAY_5</th>\n",
       "      <th>...</th>\n",
       "      <th>default payment next month</th>\n",
       "      <th>Credit_Util_Rate_1</th>\n",
       "      <th>Credit_Util_Rate_2</th>\n",
       "      <th>Credit_Util_Rate_3</th>\n",
       "      <th>Credit_Util_Rate_4</th>\n",
       "      <th>Credit_Util_Rate_5</th>\n",
       "      <th>Credit_Util_Rate_6</th>\n",
       "      <th>Credit_Util_Avg</th>\n",
       "      <th>Credit_Pay_Status_Avg</th>\n",
       "      <th>Credit_Util_Pay_Status_Avg</th>\n",
       "    </tr>\n",
       "  </thead>\n",
       "  <tbody>\n",
       "    <tr>\n",
       "      <th>LIMIT_BAL</th>\n",
       "      <td>1.000000</td>\n",
       "      <td>0.016259</td>\n",
       "      <td>-0.247428</td>\n",
       "      <td>-0.108019</td>\n",
       "      <td>0.145016</td>\n",
       "      <td>-0.263680</td>\n",
       "      <td>-0.295251</td>\n",
       "      <td>-0.284323</td>\n",
       "      <td>-0.260785</td>\n",
       "      <td>-0.242676</td>\n",
       "      <td>...</td>\n",
       "      <td>-0.148079</td>\n",
       "      <td>-0.334008</td>\n",
       "      <td>-0.343777</td>\n",
       "      <td>-0.340462</td>\n",
       "      <td>-0.323860</td>\n",
       "      <td>-0.316518</td>\n",
       "      <td>-0.299338</td>\n",
       "      <td>-0.368703</td>\n",
       "      <td>-0.312555</td>\n",
       "      <td>-0.200447</td>\n",
       "    </tr>\n",
       "    <tr>\n",
       "      <th>SEX</th>\n",
       "      <td>0.016259</td>\n",
       "      <td>1.000000</td>\n",
       "      <td>0.009012</td>\n",
       "      <td>-0.016432</td>\n",
       "      <td>-0.132641</td>\n",
       "      <td>-0.050606</td>\n",
       "      <td>-0.061151</td>\n",
       "      <td>-0.059282</td>\n",
       "      <td>-0.051407</td>\n",
       "      <td>-0.047535</td>\n",
       "      <td>...</td>\n",
       "      <td>-0.038250</td>\n",
       "      <td>-0.065321</td>\n",
       "      <td>-0.064713</td>\n",
       "      <td>-0.058270</td>\n",
       "      <td>-0.047808</td>\n",
       "      <td>-0.041110</td>\n",
       "      <td>-0.031314</td>\n",
       "      <td>-0.058834</td>\n",
       "      <td>-0.060468</td>\n",
       "      <td>-0.036023</td>\n",
       "    </tr>\n",
       "    <tr>\n",
       "      <th>EDUCATION</th>\n",
       "      <td>-0.247428</td>\n",
       "      <td>0.009012</td>\n",
       "      <td>1.000000</td>\n",
       "      <td>-0.132721</td>\n",
       "      <td>0.172016</td>\n",
       "      <td>0.118907</td>\n",
       "      <td>0.140543</td>\n",
       "      <td>0.128700</td>\n",
       "      <td>0.122726</td>\n",
       "      <td>0.109836</td>\n",
       "      <td>...</td>\n",
       "      <td>0.036193</td>\n",
       "      <td>0.178317</td>\n",
       "      <td>0.171201</td>\n",
       "      <td>0.164000</td>\n",
       "      <td>0.148268</td>\n",
       "      <td>0.134107</td>\n",
       "      <td>0.128593</td>\n",
       "      <td>0.174970</td>\n",
       "      <td>0.142041</td>\n",
       "      <td>0.071783</td>\n",
       "    </tr>\n",
       "    <tr>\n",
       "      <th>MARRIAGE</th>\n",
       "      <td>-0.108019</td>\n",
       "      <td>-0.016432</td>\n",
       "      <td>-0.132721</td>\n",
       "      <td>1.000000</td>\n",
       "      <td>-0.413992</td>\n",
       "      <td>0.012663</td>\n",
       "      <td>0.018712</td>\n",
       "      <td>0.026555</td>\n",
       "      <td>0.024197</td>\n",
       "      <td>0.029844</td>\n",
       "      <td>...</td>\n",
       "      <td>-0.033205</td>\n",
       "      <td>0.032354</td>\n",
       "      <td>0.031268</td>\n",
       "      <td>0.031675</td>\n",
       "      <td>0.032453</td>\n",
       "      <td>0.031380</td>\n",
       "      <td>0.031581</td>\n",
       "      <td>0.035824</td>\n",
       "      <td>0.027855</td>\n",
       "      <td>-0.009823</td>\n",
       "    </tr>\n",
       "    <tr>\n",
       "      <th>AGE</th>\n",
       "      <td>0.145016</td>\n",
       "      <td>-0.132641</td>\n",
       "      <td>0.172016</td>\n",
       "      <td>-0.413992</td>\n",
       "      <td>1.000000</td>\n",
       "      <td>-0.034701</td>\n",
       "      <td>-0.048135</td>\n",
       "      <td>-0.050460</td>\n",
       "      <td>-0.045635</td>\n",
       "      <td>-0.048023</td>\n",
       "      <td>...</td>\n",
       "      <td>0.009450</td>\n",
       "      <td>-0.019427</td>\n",
       "      <td>-0.022323</td>\n",
       "      <td>-0.032010</td>\n",
       "      <td>-0.042561</td>\n",
       "      <td>-0.042324</td>\n",
       "      <td>-0.039321</td>\n",
       "      <td>-0.036546</td>\n",
       "      <td>-0.053015</td>\n",
       "      <td>-0.019474</td>\n",
       "    </tr>\n",
       "    <tr>\n",
       "      <th>PAY_0</th>\n",
       "      <td>-0.263680</td>\n",
       "      <td>-0.050606</td>\n",
       "      <td>0.118907</td>\n",
       "      <td>0.012663</td>\n",
       "      <td>-0.034701</td>\n",
       "      <td>1.000000</td>\n",
       "      <td>0.664267</td>\n",
       "      <td>0.562983</td>\n",
       "      <td>0.525229</td>\n",
       "      <td>0.492612</td>\n",
       "      <td>...</td>\n",
       "      <td>0.324702</td>\n",
       "      <td>0.377020</td>\n",
       "      <td>0.376509</td>\n",
       "      <td>0.373832</td>\n",
       "      <td>0.372570</td>\n",
       "      <td>0.370763</td>\n",
       "      <td>0.361819</td>\n",
       "      <td>0.419601</td>\n",
       "      <td>0.730497</td>\n",
       "      <td>0.569197</td>\n",
       "    </tr>\n",
       "    <tr>\n",
       "      <th>PAY_2</th>\n",
       "      <td>-0.295251</td>\n",
       "      <td>-0.061151</td>\n",
       "      <td>0.140543</td>\n",
       "      <td>0.018712</td>\n",
       "      <td>-0.048135</td>\n",
       "      <td>0.664267</td>\n",
       "      <td>1.000000</td>\n",
       "      <td>0.762511</td>\n",
       "      <td>0.659204</td>\n",
       "      <td>0.616761</td>\n",
       "      <td>...</td>\n",
       "      <td>0.260688</td>\n",
       "      <td>0.467960</td>\n",
       "      <td>0.455378</td>\n",
       "      <td>0.447395</td>\n",
       "      <td>0.447093</td>\n",
       "      <td>0.441090</td>\n",
       "      <td>0.428726</td>\n",
       "      <td>0.505553</td>\n",
       "      <td>0.847475</td>\n",
       "      <td>0.612282</td>\n",
       "    </tr>\n",
       "    <tr>\n",
       "      <th>PAY_3</th>\n",
       "      <td>-0.284323</td>\n",
       "      <td>-0.059282</td>\n",
       "      <td>0.128700</td>\n",
       "      <td>0.026555</td>\n",
       "      <td>-0.050460</td>\n",
       "      <td>0.562983</td>\n",
       "      <td>0.762511</td>\n",
       "      <td>1.000000</td>\n",
       "      <td>0.776793</td>\n",
       "      <td>0.684168</td>\n",
       "      <td>...</td>\n",
       "      <td>0.233688</td>\n",
       "      <td>0.381507</td>\n",
       "      <td>0.459452</td>\n",
       "      <td>0.444999</td>\n",
       "      <td>0.445710</td>\n",
       "      <td>0.437993</td>\n",
       "      <td>0.429060</td>\n",
       "      <td>0.487626</td>\n",
       "      <td>0.877259</td>\n",
       "      <td>0.584156</td>\n",
       "    </tr>\n",
       "    <tr>\n",
       "      <th>PAY_4</th>\n",
       "      <td>-0.260785</td>\n",
       "      <td>-0.051407</td>\n",
       "      <td>0.122726</td>\n",
       "      <td>0.024197</td>\n",
       "      <td>-0.045635</td>\n",
       "      <td>0.525229</td>\n",
       "      <td>0.659204</td>\n",
       "      <td>0.776793</td>\n",
       "      <td>1.000000</td>\n",
       "      <td>0.822062</td>\n",
       "      <td>...</td>\n",
       "      <td>0.213800</td>\n",
       "      <td>0.367514</td>\n",
       "      <td>0.396422</td>\n",
       "      <td>0.472331</td>\n",
       "      <td>0.467346</td>\n",
       "      <td>0.460061</td>\n",
       "      <td>0.451444</td>\n",
       "      <td>0.489030</td>\n",
       "      <td>0.891431</td>\n",
       "      <td>0.573847</td>\n",
       "    </tr>\n",
       "    <tr>\n",
       "      <th>PAY_5</th>\n",
       "      <td>-0.242676</td>\n",
       "      <td>-0.047535</td>\n",
       "      <td>0.109836</td>\n",
       "      <td>0.029844</td>\n",
       "      <td>-0.048023</td>\n",
       "      <td>0.492612</td>\n",
       "      <td>0.616761</td>\n",
       "      <td>0.684168</td>\n",
       "      <td>0.822062</td>\n",
       "      <td>1.000000</td>\n",
       "      <td>...</td>\n",
       "      <td>0.207287</td>\n",
       "      <td>0.354455</td>\n",
       "      <td>0.380879</td>\n",
       "      <td>0.422448</td>\n",
       "      <td>0.497747</td>\n",
       "      <td>0.484456</td>\n",
       "      <td>0.469580</td>\n",
       "      <td>0.486524</td>\n",
       "      <td>0.875253</td>\n",
       "      <td>0.553075</td>\n",
       "    </tr>\n",
       "    <tr>\n",
       "      <th>PAY_6</th>\n",
       "      <td>-0.230691</td>\n",
       "      <td>-0.034902</td>\n",
       "      <td>0.095907</td>\n",
       "      <td>0.028583</td>\n",
       "      <td>-0.040364</td>\n",
       "      <td>0.458331</td>\n",
       "      <td>0.565874</td>\n",
       "      <td>0.629369</td>\n",
       "      <td>0.716408</td>\n",
       "      <td>0.809818</td>\n",
       "      <td>...</td>\n",
       "      <td>0.187033</td>\n",
       "      <td>0.342879</td>\n",
       "      <td>0.368439</td>\n",
       "      <td>0.408212</td>\n",
       "      <td>0.442190</td>\n",
       "      <td>0.516944</td>\n",
       "      <td>0.495380</td>\n",
       "      <td>0.478905</td>\n",
       "      <td>0.826977</td>\n",
       "      <td>0.505326</td>\n",
       "    </tr>\n",
       "    <tr>\n",
       "      <th>BILL_AMT1</th>\n",
       "      <td>0.284819</td>\n",
       "      <td>-0.037028</td>\n",
       "      <td>0.012017</td>\n",
       "      <td>-0.025278</td>\n",
       "      <td>0.056882</td>\n",
       "      <td>0.175780</td>\n",
       "      <td>0.227934</td>\n",
       "      <td>0.197835</td>\n",
       "      <td>0.195943</td>\n",
       "      <td>0.199243</td>\n",
       "      <td>...</td>\n",
       "      <td>-0.022562</td>\n",
       "      <td>0.560107</td>\n",
       "      <td>0.502677</td>\n",
       "      <td>0.458548</td>\n",
       "      <td>0.409036</td>\n",
       "      <td>0.391099</td>\n",
       "      <td>0.372881</td>\n",
       "      <td>0.510648</td>\n",
       "      <td>0.237584</td>\n",
       "      <td>0.076365</td>\n",
       "    </tr>\n",
       "    <tr>\n",
       "      <th>BILL_AMT2</th>\n",
       "      <td>0.278601</td>\n",
       "      <td>-0.035425</td>\n",
       "      <td>0.006785</td>\n",
       "      <td>-0.025533</td>\n",
       "      <td>0.056590</td>\n",
       "      <td>0.178284</td>\n",
       "      <td>0.228822</td>\n",
       "      <td>0.227542</td>\n",
       "      <td>0.220132</td>\n",
       "      <td>0.219905</td>\n",
       "      <td>...</td>\n",
       "      <td>-0.016293</td>\n",
       "      <td>0.499314</td>\n",
       "      <td>0.551860</td>\n",
       "      <td>0.494784</td>\n",
       "      <td>0.442079</td>\n",
       "      <td>0.420671</td>\n",
       "      <td>0.399648</td>\n",
       "      <td>0.531009</td>\n",
       "      <td>0.256912</td>\n",
       "      <td>0.094768</td>\n",
       "    </tr>\n",
       "    <tr>\n",
       "      <th>BILL_AMT3</th>\n",
       "      <td>0.286741</td>\n",
       "      <td>-0.028192</td>\n",
       "      <td>0.000944</td>\n",
       "      <td>-0.030648</td>\n",
       "      <td>0.056135</td>\n",
       "      <td>0.167803</td>\n",
       "      <td>0.216334</td>\n",
       "      <td>0.217793</td>\n",
       "      <td>0.240498</td>\n",
       "      <td>0.238292</td>\n",
       "      <td>...</td>\n",
       "      <td>-0.014983</td>\n",
       "      <td>0.458692</td>\n",
       "      <td>0.454370</td>\n",
       "      <td>0.547712</td>\n",
       "      <td>0.472718</td>\n",
       "      <td>0.444841</td>\n",
       "      <td>0.422217</td>\n",
       "      <td>0.527053</td>\n",
       "      <td>0.261100</td>\n",
       "      <td>0.110055</td>\n",
       "    </tr>\n",
       "    <tr>\n",
       "      <th>BILL_AMT4</th>\n",
       "      <td>0.296529</td>\n",
       "      <td>-0.022462</td>\n",
       "      <td>-0.013297</td>\n",
       "      <td>-0.029813</td>\n",
       "      <td>0.053744</td>\n",
       "      <td>0.169501</td>\n",
       "      <td>0.217294</td>\n",
       "      <td>0.220119</td>\n",
       "      <td>0.244939</td>\n",
       "      <td>0.269267</td>\n",
       "      <td>...</td>\n",
       "      <td>-0.009084</td>\n",
       "      <td>0.422075</td>\n",
       "      <td>0.429143</td>\n",
       "      <td>0.459604</td>\n",
       "      <td>0.536747</td>\n",
       "      <td>0.492143</td>\n",
       "      <td>0.461581</td>\n",
       "      <td>0.524209</td>\n",
       "      <td>0.274130</td>\n",
       "      <td>0.136719</td>\n",
       "    </tr>\n",
       "    <tr>\n",
       "      <th>BILL_AMT5</th>\n",
       "      <td>0.295303</td>\n",
       "      <td>-0.019601</td>\n",
       "      <td>-0.018557</td>\n",
       "      <td>-0.029726</td>\n",
       "      <td>0.052161</td>\n",
       "      <td>0.171793</td>\n",
       "      <td>0.215984</td>\n",
       "      <td>0.217473</td>\n",
       "      <td>0.240940</td>\n",
       "      <td>0.266144</td>\n",
       "      <td>...</td>\n",
       "      <td>-0.005547</td>\n",
       "      <td>0.402429</td>\n",
       "      <td>0.409231</td>\n",
       "      <td>0.438829</td>\n",
       "      <td>0.463817</td>\n",
       "      <td>0.542381</td>\n",
       "      <td>0.499793</td>\n",
       "      <td>0.514250</td>\n",
       "      <td>0.277124</td>\n",
       "      <td>0.148146</td>\n",
       "    </tr>\n",
       "    <tr>\n",
       "      <th>BILL_AMT6</th>\n",
       "      <td>0.291392</td>\n",
       "      <td>-0.016935</td>\n",
       "      <td>-0.015588</td>\n",
       "      <td>-0.026408</td>\n",
       "      <td>0.051597</td>\n",
       "      <td>0.167463</td>\n",
       "      <td>0.212364</td>\n",
       "      <td>0.213844</td>\n",
       "      <td>0.235548</td>\n",
       "      <td>0.257764</td>\n",
       "      <td>...</td>\n",
       "      <td>-0.004120</td>\n",
       "      <td>0.387165</td>\n",
       "      <td>0.393692</td>\n",
       "      <td>0.420219</td>\n",
       "      <td>0.444986</td>\n",
       "      <td>0.476830</td>\n",
       "      <td>0.552671</td>\n",
       "      <td>0.498777</td>\n",
       "      <td>0.271053</td>\n",
       "      <td>0.149095</td>\n",
       "    </tr>\n",
       "    <tr>\n",
       "      <th>PAY_AMT1</th>\n",
       "      <td>0.208238</td>\n",
       "      <td>-0.003042</td>\n",
       "      <td>-0.044481</td>\n",
       "      <td>-0.017255</td>\n",
       "      <td>0.031701</td>\n",
       "      <td>-0.092783</td>\n",
       "      <td>-0.086095</td>\n",
       "      <td>0.001137</td>\n",
       "      <td>-0.009270</td>\n",
       "      <td>-0.009313</td>\n",
       "      <td>...</td>\n",
       "      <td>-0.077830</td>\n",
       "      <td>-0.184165</td>\n",
       "      <td>0.069297</td>\n",
       "      <td>0.042301</td>\n",
       "      <td>0.028838</td>\n",
       "      <td>0.014921</td>\n",
       "      <td>0.000966</td>\n",
       "      <td>-0.007246</td>\n",
       "      <td>-0.039407</td>\n",
       "      <td>-0.063045</td>\n",
       "    </tr>\n",
       "    <tr>\n",
       "      <th>PAY_AMT2</th>\n",
       "      <td>0.198730</td>\n",
       "      <td>-0.008711</td>\n",
       "      <td>-0.035192</td>\n",
       "      <td>-0.019509</td>\n",
       "      <td>0.027489</td>\n",
       "      <td>-0.083210</td>\n",
       "      <td>-0.072100</td>\n",
       "      <td>-0.075087</td>\n",
       "      <td>0.001132</td>\n",
       "      <td>-0.004314</td>\n",
       "      <td>...</td>\n",
       "      <td>-0.060352</td>\n",
       "      <td>-0.041339</td>\n",
       "      <td>-0.202791</td>\n",
       "      <td>0.078384</td>\n",
       "      <td>0.026029</td>\n",
       "      <td>0.008107</td>\n",
       "      <td>0.000622</td>\n",
       "      <td>-0.027817</td>\n",
       "      <td>-0.048423</td>\n",
       "      <td>-0.052572</td>\n",
       "    </tr>\n",
       "    <tr>\n",
       "      <th>PAY_AMT3</th>\n",
       "      <td>0.217787</td>\n",
       "      <td>-0.007847</td>\n",
       "      <td>-0.047823</td>\n",
       "      <td>-0.014783</td>\n",
       "      <td>0.035613</td>\n",
       "      <td>-0.076485</td>\n",
       "      <td>-0.057204</td>\n",
       "      <td>-0.054032</td>\n",
       "      <td>-0.066621</td>\n",
       "      <td>0.010426</td>\n",
       "      <td>...</td>\n",
       "      <td>-0.057625</td>\n",
       "      <td>-0.026848</td>\n",
       "      <td>-0.038692</td>\n",
       "      <td>-0.176419</td>\n",
       "      <td>0.065566</td>\n",
       "      <td>0.033027</td>\n",
       "      <td>0.019492</td>\n",
       "      <td>-0.026286</td>\n",
       "      <td>-0.047544</td>\n",
       "      <td>-0.055778</td>\n",
       "    </tr>\n",
       "    <tr>\n",
       "      <th>PAY_AMT4</th>\n",
       "      <td>0.206889</td>\n",
       "      <td>0.000591</td>\n",
       "      <td>-0.044452</td>\n",
       "      <td>-0.015226</td>\n",
       "      <td>0.023191</td>\n",
       "      <td>-0.068328</td>\n",
       "      <td>-0.052453</td>\n",
       "      <td>-0.050897</td>\n",
       "      <td>-0.045054</td>\n",
       "      <td>-0.062136</td>\n",
       "      <td>...</td>\n",
       "      <td>-0.058732</td>\n",
       "      <td>-0.010158</td>\n",
       "      <td>-0.023049</td>\n",
       "      <td>-0.023546</td>\n",
       "      <td>-0.197315</td>\n",
       "      <td>0.080084</td>\n",
       "      <td>0.049543</td>\n",
       "      <td>-0.024720</td>\n",
       "      <td>-0.050691</td>\n",
       "      <td>-0.056809</td>\n",
       "    </tr>\n",
       "    <tr>\n",
       "      <th>PAY_AMT5</th>\n",
       "      <td>0.220117</td>\n",
       "      <td>-0.001442</td>\n",
       "      <td>-0.045185</td>\n",
       "      <td>0.001265</td>\n",
       "      <td>0.024777</td>\n",
       "      <td>-0.058065</td>\n",
       "      <td>-0.039970</td>\n",
       "      <td>-0.037703</td>\n",
       "      <td>-0.034260</td>\n",
       "      <td>-0.035307</td>\n",
       "      <td>...</td>\n",
       "      <td>-0.051572</td>\n",
       "      <td>-0.010453</td>\n",
       "      <td>-0.021997</td>\n",
       "      <td>-0.007432</td>\n",
       "      <td>-0.020556</td>\n",
       "      <td>-0.182190</td>\n",
       "      <td>0.080040</td>\n",
       "      <td>-0.029493</td>\n",
       "      <td>-0.049360</td>\n",
       "      <td>-0.048170</td>\n",
       "    </tr>\n",
       "    <tr>\n",
       "      <th>PAY_AMT6</th>\n",
       "      <td>0.225258</td>\n",
       "      <td>-0.009680</td>\n",
       "      <td>-0.047276</td>\n",
       "      <td>-0.003623</td>\n",
       "      <td>0.017653</td>\n",
       "      <td>-0.063793</td>\n",
       "      <td>-0.038711</td>\n",
       "      <td>-0.041346</td>\n",
       "      <td>-0.027655</td>\n",
       "      <td>-0.026352</td>\n",
       "      <td>...</td>\n",
       "      <td>-0.055247</td>\n",
       "      <td>-0.020861</td>\n",
       "      <td>-0.023437</td>\n",
       "      <td>-0.019080</td>\n",
       "      <td>-0.020319</td>\n",
       "      <td>-0.028132</td>\n",
       "      <td>-0.224387</td>\n",
       "      <td>-0.060121</td>\n",
       "      <td>-0.044647</td>\n",
       "      <td>-0.033413</td>\n",
       "    </tr>\n",
       "    <tr>\n",
       "      <th>default payment next month</th>\n",
       "      <td>-0.148079</td>\n",
       "      <td>-0.038250</td>\n",
       "      <td>0.036193</td>\n",
       "      <td>-0.033205</td>\n",
       "      <td>0.009450</td>\n",
       "      <td>0.324702</td>\n",
       "      <td>0.260688</td>\n",
       "      <td>0.233688</td>\n",
       "      <td>0.213800</td>\n",
       "      <td>0.207287</td>\n",
       "      <td>...</td>\n",
       "      <td>1.000000</td>\n",
       "      <td>0.085921</td>\n",
       "      <td>0.102481</td>\n",
       "      <td>0.104087</td>\n",
       "      <td>0.118789</td>\n",
       "      <td>0.122041</td>\n",
       "      <td>0.123671</td>\n",
       "      <td>0.122471</td>\n",
       "      <td>0.282021</td>\n",
       "      <td>0.293863</td>\n",
       "    </tr>\n",
       "    <tr>\n",
       "      <th>Credit_Util_Rate_1</th>\n",
       "      <td>-0.334008</td>\n",
       "      <td>-0.065321</td>\n",
       "      <td>0.178317</td>\n",
       "      <td>0.032354</td>\n",
       "      <td>-0.019427</td>\n",
       "      <td>0.377020</td>\n",
       "      <td>0.467960</td>\n",
       "      <td>0.381507</td>\n",
       "      <td>0.367514</td>\n",
       "      <td>0.354455</td>\n",
       "      <td>...</td>\n",
       "      <td>0.085921</td>\n",
       "      <td>1.000000</td>\n",
       "      <td>0.840110</td>\n",
       "      <td>0.788233</td>\n",
       "      <td>0.710770</td>\n",
       "      <td>0.670194</td>\n",
       "      <td>0.619458</td>\n",
       "      <td>0.877814</td>\n",
       "      <td>0.454059</td>\n",
       "      <td>0.292140</td>\n",
       "    </tr>\n",
       "    <tr>\n",
       "      <th>Credit_Util_Rate_2</th>\n",
       "      <td>-0.343777</td>\n",
       "      <td>-0.064713</td>\n",
       "      <td>0.171201</td>\n",
       "      <td>0.031268</td>\n",
       "      <td>-0.022323</td>\n",
       "      <td>0.376509</td>\n",
       "      <td>0.455378</td>\n",
       "      <td>0.459452</td>\n",
       "      <td>0.396422</td>\n",
       "      <td>0.380879</td>\n",
       "      <td>...</td>\n",
       "      <td>0.102481</td>\n",
       "      <td>0.840110</td>\n",
       "      <td>1.000000</td>\n",
       "      <td>0.817280</td>\n",
       "      <td>0.740717</td>\n",
       "      <td>0.695179</td>\n",
       "      <td>0.646710</td>\n",
       "      <td>0.897682</td>\n",
       "      <td>0.483219</td>\n",
       "      <td>0.320013</td>\n",
       "    </tr>\n",
       "    <tr>\n",
       "      <th>Credit_Util_Rate_3</th>\n",
       "      <td>-0.340462</td>\n",
       "      <td>-0.058270</td>\n",
       "      <td>0.164000</td>\n",
       "      <td>0.031675</td>\n",
       "      <td>-0.032010</td>\n",
       "      <td>0.373832</td>\n",
       "      <td>0.447395</td>\n",
       "      <td>0.444999</td>\n",
       "      <td>0.472331</td>\n",
       "      <td>0.422448</td>\n",
       "      <td>...</td>\n",
       "      <td>0.104087</td>\n",
       "      <td>0.788233</td>\n",
       "      <td>0.817280</td>\n",
       "      <td>1.000000</td>\n",
       "      <td>0.802911</td>\n",
       "      <td>0.754583</td>\n",
       "      <td>0.702781</td>\n",
       "      <td>0.917043</td>\n",
       "      <td>0.509046</td>\n",
       "      <td>0.359747</td>\n",
       "    </tr>\n",
       "    <tr>\n",
       "      <th>Credit_Util_Rate_4</th>\n",
       "      <td>-0.323860</td>\n",
       "      <td>-0.047808</td>\n",
       "      <td>0.148268</td>\n",
       "      <td>0.032453</td>\n",
       "      <td>-0.042561</td>\n",
       "      <td>0.372570</td>\n",
       "      <td>0.447093</td>\n",
       "      <td>0.445710</td>\n",
       "      <td>0.467346</td>\n",
       "      <td>0.497747</td>\n",
       "      <td>...</td>\n",
       "      <td>0.118789</td>\n",
       "      <td>0.710770</td>\n",
       "      <td>0.740717</td>\n",
       "      <td>0.802911</td>\n",
       "      <td>1.000000</td>\n",
       "      <td>0.808229</td>\n",
       "      <td>0.751572</td>\n",
       "      <td>0.901484</td>\n",
       "      <td>0.529171</td>\n",
       "      <td>0.408290</td>\n",
       "    </tr>\n",
       "    <tr>\n",
       "      <th>Credit_Util_Rate_5</th>\n",
       "      <td>-0.316518</td>\n",
       "      <td>-0.041110</td>\n",
       "      <td>0.134107</td>\n",
       "      <td>0.031380</td>\n",
       "      <td>-0.042324</td>\n",
       "      <td>0.370763</td>\n",
       "      <td>0.441090</td>\n",
       "      <td>0.437993</td>\n",
       "      <td>0.460061</td>\n",
       "      <td>0.484456</td>\n",
       "      <td>...</td>\n",
       "      <td>0.122041</td>\n",
       "      <td>0.670194</td>\n",
       "      <td>0.695179</td>\n",
       "      <td>0.754583</td>\n",
       "      <td>0.808229</td>\n",
       "      <td>1.000000</td>\n",
       "      <td>0.811019</td>\n",
       "      <td>0.883386</td>\n",
       "      <td>0.536763</td>\n",
       "      <td>0.431403</td>\n",
       "    </tr>\n",
       "    <tr>\n",
       "      <th>Credit_Util_Rate_6</th>\n",
       "      <td>-0.299338</td>\n",
       "      <td>-0.031314</td>\n",
       "      <td>0.128593</td>\n",
       "      <td>0.031581</td>\n",
       "      <td>-0.039321</td>\n",
       "      <td>0.361819</td>\n",
       "      <td>0.428726</td>\n",
       "      <td>0.429060</td>\n",
       "      <td>0.451444</td>\n",
       "      <td>0.469580</td>\n",
       "      <td>...</td>\n",
       "      <td>0.123671</td>\n",
       "      <td>0.619458</td>\n",
       "      <td>0.646710</td>\n",
       "      <td>0.702781</td>\n",
       "      <td>0.751572</td>\n",
       "      <td>0.811019</td>\n",
       "      <td>1.000000</td>\n",
       "      <td>0.842931</td>\n",
       "      <td>0.521878</td>\n",
       "      <td>0.428092</td>\n",
       "    </tr>\n",
       "    <tr>\n",
       "      <th>Credit_Util_Avg</th>\n",
       "      <td>-0.368703</td>\n",
       "      <td>-0.058834</td>\n",
       "      <td>0.174970</td>\n",
       "      <td>0.035824</td>\n",
       "      <td>-0.036546</td>\n",
       "      <td>0.419601</td>\n",
       "      <td>0.505553</td>\n",
       "      <td>0.487626</td>\n",
       "      <td>0.489030</td>\n",
       "      <td>0.486524</td>\n",
       "      <td>...</td>\n",
       "      <td>0.122471</td>\n",
       "      <td>0.877814</td>\n",
       "      <td>0.897682</td>\n",
       "      <td>0.917043</td>\n",
       "      <td>0.901484</td>\n",
       "      <td>0.883386</td>\n",
       "      <td>0.842931</td>\n",
       "      <td>1.000000</td>\n",
       "      <td>0.567967</td>\n",
       "      <td>0.416792</td>\n",
       "    </tr>\n",
       "    <tr>\n",
       "      <th>Credit_Pay_Status_Avg</th>\n",
       "      <td>-0.312555</td>\n",
       "      <td>-0.060468</td>\n",
       "      <td>0.142041</td>\n",
       "      <td>0.027855</td>\n",
       "      <td>-0.053015</td>\n",
       "      <td>0.730497</td>\n",
       "      <td>0.847475</td>\n",
       "      <td>0.877259</td>\n",
       "      <td>0.891431</td>\n",
       "      <td>0.875253</td>\n",
       "      <td>...</td>\n",
       "      <td>0.282021</td>\n",
       "      <td>0.454059</td>\n",
       "      <td>0.483219</td>\n",
       "      <td>0.509046</td>\n",
       "      <td>0.529171</td>\n",
       "      <td>0.536763</td>\n",
       "      <td>0.521878</td>\n",
       "      <td>0.567967</td>\n",
       "      <td>1.000000</td>\n",
       "      <td>0.672802</td>\n",
       "    </tr>\n",
       "    <tr>\n",
       "      <th>Credit_Util_Pay_Status_Avg</th>\n",
       "      <td>-0.200447</td>\n",
       "      <td>-0.036023</td>\n",
       "      <td>0.071783</td>\n",
       "      <td>-0.009823</td>\n",
       "      <td>-0.019474</td>\n",
       "      <td>0.569197</td>\n",
       "      <td>0.612282</td>\n",
       "      <td>0.584156</td>\n",
       "      <td>0.573847</td>\n",
       "      <td>0.553075</td>\n",
       "      <td>...</td>\n",
       "      <td>0.293863</td>\n",
       "      <td>0.292140</td>\n",
       "      <td>0.320013</td>\n",
       "      <td>0.359747</td>\n",
       "      <td>0.408290</td>\n",
       "      <td>0.431403</td>\n",
       "      <td>0.428092</td>\n",
       "      <td>0.416792</td>\n",
       "      <td>0.672802</td>\n",
       "      <td>1.000000</td>\n",
       "    </tr>\n",
       "  </tbody>\n",
       "</table>\n",
       "<p>33 rows × 33 columns</p>\n",
       "</div>"
      ],
      "text/plain": [
       "                            LIMIT_BAL       SEX  EDUCATION  MARRIAGE  \\\n",
       "LIMIT_BAL                    1.000000  0.016259  -0.247428 -0.108019   \n",
       "SEX                          0.016259  1.000000   0.009012 -0.016432   \n",
       "EDUCATION                   -0.247428  0.009012   1.000000 -0.132721   \n",
       "MARRIAGE                    -0.108019 -0.016432  -0.132721  1.000000   \n",
       "AGE                          0.145016 -0.132641   0.172016 -0.413992   \n",
       "PAY_0                       -0.263680 -0.050606   0.118907  0.012663   \n",
       "PAY_2                       -0.295251 -0.061151   0.140543  0.018712   \n",
       "PAY_3                       -0.284323 -0.059282   0.128700  0.026555   \n",
       "PAY_4                       -0.260785 -0.051407   0.122726  0.024197   \n",
       "PAY_5                       -0.242676 -0.047535   0.109836  0.029844   \n",
       "PAY_6                       -0.230691 -0.034902   0.095907  0.028583   \n",
       "BILL_AMT1                    0.284819 -0.037028   0.012017 -0.025278   \n",
       "BILL_AMT2                    0.278601 -0.035425   0.006785 -0.025533   \n",
       "BILL_AMT3                    0.286741 -0.028192   0.000944 -0.030648   \n",
       "BILL_AMT4                    0.296529 -0.022462  -0.013297 -0.029813   \n",
       "BILL_AMT5                    0.295303 -0.019601  -0.018557 -0.029726   \n",
       "BILL_AMT6                    0.291392 -0.016935  -0.015588 -0.026408   \n",
       "PAY_AMT1                     0.208238 -0.003042  -0.044481 -0.017255   \n",
       "PAY_AMT2                     0.198730 -0.008711  -0.035192 -0.019509   \n",
       "PAY_AMT3                     0.217787 -0.007847  -0.047823 -0.014783   \n",
       "PAY_AMT4                     0.206889  0.000591  -0.044452 -0.015226   \n",
       "PAY_AMT5                     0.220117 -0.001442  -0.045185  0.001265   \n",
       "PAY_AMT6                     0.225258 -0.009680  -0.047276 -0.003623   \n",
       "default payment next month  -0.148079 -0.038250   0.036193 -0.033205   \n",
       "Credit_Util_Rate_1          -0.334008 -0.065321   0.178317  0.032354   \n",
       "Credit_Util_Rate_2          -0.343777 -0.064713   0.171201  0.031268   \n",
       "Credit_Util_Rate_3          -0.340462 -0.058270   0.164000  0.031675   \n",
       "Credit_Util_Rate_4          -0.323860 -0.047808   0.148268  0.032453   \n",
       "Credit_Util_Rate_5          -0.316518 -0.041110   0.134107  0.031380   \n",
       "Credit_Util_Rate_6          -0.299338 -0.031314   0.128593  0.031581   \n",
       "Credit_Util_Avg             -0.368703 -0.058834   0.174970  0.035824   \n",
       "Credit_Pay_Status_Avg       -0.312555 -0.060468   0.142041  0.027855   \n",
       "Credit_Util_Pay_Status_Avg  -0.200447 -0.036023   0.071783 -0.009823   \n",
       "\n",
       "                                 AGE     PAY_0     PAY_2     PAY_3     PAY_4  \\\n",
       "LIMIT_BAL                   0.145016 -0.263680 -0.295251 -0.284323 -0.260785   \n",
       "SEX                        -0.132641 -0.050606 -0.061151 -0.059282 -0.051407   \n",
       "EDUCATION                   0.172016  0.118907  0.140543  0.128700  0.122726   \n",
       "MARRIAGE                   -0.413992  0.012663  0.018712  0.026555  0.024197   \n",
       "AGE                         1.000000 -0.034701 -0.048135 -0.050460 -0.045635   \n",
       "PAY_0                      -0.034701  1.000000  0.664267  0.562983  0.525229   \n",
       "PAY_2                      -0.048135  0.664267  1.000000  0.762511  0.659204   \n",
       "PAY_3                      -0.050460  0.562983  0.762511  1.000000  0.776793   \n",
       "PAY_4                      -0.045635  0.525229  0.659204  0.776793  1.000000   \n",
       "PAY_5                      -0.048023  0.492612  0.616761  0.684168  0.822062   \n",
       "PAY_6                      -0.040364  0.458331  0.565874  0.629369  0.716408   \n",
       "BILL_AMT1                   0.056882  0.175780  0.227934  0.197835  0.195943   \n",
       "BILL_AMT2                   0.056590  0.178284  0.228822  0.227542  0.220132   \n",
       "BILL_AMT3                   0.056135  0.167803  0.216334  0.217793  0.240498   \n",
       "BILL_AMT4                   0.053744  0.169501  0.217294  0.220119  0.244939   \n",
       "BILL_AMT5                   0.052161  0.171793  0.215984  0.217473  0.240940   \n",
       "BILL_AMT6                   0.051597  0.167463  0.212364  0.213844  0.235548   \n",
       "PAY_AMT1                    0.031701 -0.092783 -0.086095  0.001137 -0.009270   \n",
       "PAY_AMT2                    0.027489 -0.083210 -0.072100 -0.075087  0.001132   \n",
       "PAY_AMT3                    0.035613 -0.076485 -0.057204 -0.054032 -0.066621   \n",
       "PAY_AMT4                    0.023191 -0.068328 -0.052453 -0.050897 -0.045054   \n",
       "PAY_AMT5                    0.024777 -0.058065 -0.039970 -0.037703 -0.034260   \n",
       "PAY_AMT6                    0.017653 -0.063793 -0.038711 -0.041346 -0.027655   \n",
       "default payment next month  0.009450  0.324702  0.260688  0.233688  0.213800   \n",
       "Credit_Util_Rate_1         -0.019427  0.377020  0.467960  0.381507  0.367514   \n",
       "Credit_Util_Rate_2         -0.022323  0.376509  0.455378  0.459452  0.396422   \n",
       "Credit_Util_Rate_3         -0.032010  0.373832  0.447395  0.444999  0.472331   \n",
       "Credit_Util_Rate_4         -0.042561  0.372570  0.447093  0.445710  0.467346   \n",
       "Credit_Util_Rate_5         -0.042324  0.370763  0.441090  0.437993  0.460061   \n",
       "Credit_Util_Rate_6         -0.039321  0.361819  0.428726  0.429060  0.451444   \n",
       "Credit_Util_Avg            -0.036546  0.419601  0.505553  0.487626  0.489030   \n",
       "Credit_Pay_Status_Avg      -0.053015  0.730497  0.847475  0.877259  0.891431   \n",
       "Credit_Util_Pay_Status_Avg -0.019474  0.569197  0.612282  0.584156  0.573847   \n",
       "\n",
       "                               PAY_5             ...              \\\n",
       "LIMIT_BAL                  -0.242676             ...               \n",
       "SEX                        -0.047535             ...               \n",
       "EDUCATION                   0.109836             ...               \n",
       "MARRIAGE                    0.029844             ...               \n",
       "AGE                        -0.048023             ...               \n",
       "PAY_0                       0.492612             ...               \n",
       "PAY_2                       0.616761             ...               \n",
       "PAY_3                       0.684168             ...               \n",
       "PAY_4                       0.822062             ...               \n",
       "PAY_5                       1.000000             ...               \n",
       "PAY_6                       0.809818             ...               \n",
       "BILL_AMT1                   0.199243             ...               \n",
       "BILL_AMT2                   0.219905             ...               \n",
       "BILL_AMT3                   0.238292             ...               \n",
       "BILL_AMT4                   0.269267             ...               \n",
       "BILL_AMT5                   0.266144             ...               \n",
       "BILL_AMT6                   0.257764             ...               \n",
       "PAY_AMT1                   -0.009313             ...               \n",
       "PAY_AMT2                   -0.004314             ...               \n",
       "PAY_AMT3                    0.010426             ...               \n",
       "PAY_AMT4                   -0.062136             ...               \n",
       "PAY_AMT5                   -0.035307             ...               \n",
       "PAY_AMT6                   -0.026352             ...               \n",
       "default payment next month  0.207287             ...               \n",
       "Credit_Util_Rate_1          0.354455             ...               \n",
       "Credit_Util_Rate_2          0.380879             ...               \n",
       "Credit_Util_Rate_3          0.422448             ...               \n",
       "Credit_Util_Rate_4          0.497747             ...               \n",
       "Credit_Util_Rate_5          0.484456             ...               \n",
       "Credit_Util_Rate_6          0.469580             ...               \n",
       "Credit_Util_Avg             0.486524             ...               \n",
       "Credit_Pay_Status_Avg       0.875253             ...               \n",
       "Credit_Util_Pay_Status_Avg  0.553075             ...               \n",
       "\n",
       "                            default payment next month  Credit_Util_Rate_1  \\\n",
       "LIMIT_BAL                                    -0.148079           -0.334008   \n",
       "SEX                                          -0.038250           -0.065321   \n",
       "EDUCATION                                     0.036193            0.178317   \n",
       "MARRIAGE                                     -0.033205            0.032354   \n",
       "AGE                                           0.009450           -0.019427   \n",
       "PAY_0                                         0.324702            0.377020   \n",
       "PAY_2                                         0.260688            0.467960   \n",
       "PAY_3                                         0.233688            0.381507   \n",
       "PAY_4                                         0.213800            0.367514   \n",
       "PAY_5                                         0.207287            0.354455   \n",
       "PAY_6                                         0.187033            0.342879   \n",
       "BILL_AMT1                                    -0.022562            0.560107   \n",
       "BILL_AMT2                                    -0.016293            0.499314   \n",
       "BILL_AMT3                                    -0.014983            0.458692   \n",
       "BILL_AMT4                                    -0.009084            0.422075   \n",
       "BILL_AMT5                                    -0.005547            0.402429   \n",
       "BILL_AMT6                                    -0.004120            0.387165   \n",
       "PAY_AMT1                                     -0.077830           -0.184165   \n",
       "PAY_AMT2                                     -0.060352           -0.041339   \n",
       "PAY_AMT3                                     -0.057625           -0.026848   \n",
       "PAY_AMT4                                     -0.058732           -0.010158   \n",
       "PAY_AMT5                                     -0.051572           -0.010453   \n",
       "PAY_AMT6                                     -0.055247           -0.020861   \n",
       "default payment next month                    1.000000            0.085921   \n",
       "Credit_Util_Rate_1                            0.085921            1.000000   \n",
       "Credit_Util_Rate_2                            0.102481            0.840110   \n",
       "Credit_Util_Rate_3                            0.104087            0.788233   \n",
       "Credit_Util_Rate_4                            0.118789            0.710770   \n",
       "Credit_Util_Rate_5                            0.122041            0.670194   \n",
       "Credit_Util_Rate_6                            0.123671            0.619458   \n",
       "Credit_Util_Avg                               0.122471            0.877814   \n",
       "Credit_Pay_Status_Avg                         0.282021            0.454059   \n",
       "Credit_Util_Pay_Status_Avg                    0.293863            0.292140   \n",
       "\n",
       "                            Credit_Util_Rate_2  Credit_Util_Rate_3  \\\n",
       "LIMIT_BAL                            -0.343777           -0.340462   \n",
       "SEX                                  -0.064713           -0.058270   \n",
       "EDUCATION                             0.171201            0.164000   \n",
       "MARRIAGE                              0.031268            0.031675   \n",
       "AGE                                  -0.022323           -0.032010   \n",
       "PAY_0                                 0.376509            0.373832   \n",
       "PAY_2                                 0.455378            0.447395   \n",
       "PAY_3                                 0.459452            0.444999   \n",
       "PAY_4                                 0.396422            0.472331   \n",
       "PAY_5                                 0.380879            0.422448   \n",
       "PAY_6                                 0.368439            0.408212   \n",
       "BILL_AMT1                             0.502677            0.458548   \n",
       "BILL_AMT2                             0.551860            0.494784   \n",
       "BILL_AMT3                             0.454370            0.547712   \n",
       "BILL_AMT4                             0.429143            0.459604   \n",
       "BILL_AMT5                             0.409231            0.438829   \n",
       "BILL_AMT6                             0.393692            0.420219   \n",
       "PAY_AMT1                              0.069297            0.042301   \n",
       "PAY_AMT2                             -0.202791            0.078384   \n",
       "PAY_AMT3                             -0.038692           -0.176419   \n",
       "PAY_AMT4                             -0.023049           -0.023546   \n",
       "PAY_AMT5                             -0.021997           -0.007432   \n",
       "PAY_AMT6                             -0.023437           -0.019080   \n",
       "default payment next month            0.102481            0.104087   \n",
       "Credit_Util_Rate_1                    0.840110            0.788233   \n",
       "Credit_Util_Rate_2                    1.000000            0.817280   \n",
       "Credit_Util_Rate_3                    0.817280            1.000000   \n",
       "Credit_Util_Rate_4                    0.740717            0.802911   \n",
       "Credit_Util_Rate_5                    0.695179            0.754583   \n",
       "Credit_Util_Rate_6                    0.646710            0.702781   \n",
       "Credit_Util_Avg                       0.897682            0.917043   \n",
       "Credit_Pay_Status_Avg                 0.483219            0.509046   \n",
       "Credit_Util_Pay_Status_Avg            0.320013            0.359747   \n",
       "\n",
       "                            Credit_Util_Rate_4  Credit_Util_Rate_5  \\\n",
       "LIMIT_BAL                            -0.323860           -0.316518   \n",
       "SEX                                  -0.047808           -0.041110   \n",
       "EDUCATION                             0.148268            0.134107   \n",
       "MARRIAGE                              0.032453            0.031380   \n",
       "AGE                                  -0.042561           -0.042324   \n",
       "PAY_0                                 0.372570            0.370763   \n",
       "PAY_2                                 0.447093            0.441090   \n",
       "PAY_3                                 0.445710            0.437993   \n",
       "PAY_4                                 0.467346            0.460061   \n",
       "PAY_5                                 0.497747            0.484456   \n",
       "PAY_6                                 0.442190            0.516944   \n",
       "BILL_AMT1                             0.409036            0.391099   \n",
       "BILL_AMT2                             0.442079            0.420671   \n",
       "BILL_AMT3                             0.472718            0.444841   \n",
       "BILL_AMT4                             0.536747            0.492143   \n",
       "BILL_AMT5                             0.463817            0.542381   \n",
       "BILL_AMT6                             0.444986            0.476830   \n",
       "PAY_AMT1                              0.028838            0.014921   \n",
       "PAY_AMT2                              0.026029            0.008107   \n",
       "PAY_AMT3                              0.065566            0.033027   \n",
       "PAY_AMT4                             -0.197315            0.080084   \n",
       "PAY_AMT5                             -0.020556           -0.182190   \n",
       "PAY_AMT6                             -0.020319           -0.028132   \n",
       "default payment next month            0.118789            0.122041   \n",
       "Credit_Util_Rate_1                    0.710770            0.670194   \n",
       "Credit_Util_Rate_2                    0.740717            0.695179   \n",
       "Credit_Util_Rate_3                    0.802911            0.754583   \n",
       "Credit_Util_Rate_4                    1.000000            0.808229   \n",
       "Credit_Util_Rate_5                    0.808229            1.000000   \n",
       "Credit_Util_Rate_6                    0.751572            0.811019   \n",
       "Credit_Util_Avg                       0.901484            0.883386   \n",
       "Credit_Pay_Status_Avg                 0.529171            0.536763   \n",
       "Credit_Util_Pay_Status_Avg            0.408290            0.431403   \n",
       "\n",
       "                            Credit_Util_Rate_6  Credit_Util_Avg  \\\n",
       "LIMIT_BAL                            -0.299338        -0.368703   \n",
       "SEX                                  -0.031314        -0.058834   \n",
       "EDUCATION                             0.128593         0.174970   \n",
       "MARRIAGE                              0.031581         0.035824   \n",
       "AGE                                  -0.039321        -0.036546   \n",
       "PAY_0                                 0.361819         0.419601   \n",
       "PAY_2                                 0.428726         0.505553   \n",
       "PAY_3                                 0.429060         0.487626   \n",
       "PAY_4                                 0.451444         0.489030   \n",
       "PAY_5                                 0.469580         0.486524   \n",
       "PAY_6                                 0.495380         0.478905   \n",
       "BILL_AMT1                             0.372881         0.510648   \n",
       "BILL_AMT2                             0.399648         0.531009   \n",
       "BILL_AMT3                             0.422217         0.527053   \n",
       "BILL_AMT4                             0.461581         0.524209   \n",
       "BILL_AMT5                             0.499793         0.514250   \n",
       "BILL_AMT6                             0.552671         0.498777   \n",
       "PAY_AMT1                              0.000966        -0.007246   \n",
       "PAY_AMT2                              0.000622        -0.027817   \n",
       "PAY_AMT3                              0.019492        -0.026286   \n",
       "PAY_AMT4                              0.049543        -0.024720   \n",
       "PAY_AMT5                              0.080040        -0.029493   \n",
       "PAY_AMT6                             -0.224387        -0.060121   \n",
       "default payment next month            0.123671         0.122471   \n",
       "Credit_Util_Rate_1                    0.619458         0.877814   \n",
       "Credit_Util_Rate_2                    0.646710         0.897682   \n",
       "Credit_Util_Rate_3                    0.702781         0.917043   \n",
       "Credit_Util_Rate_4                    0.751572         0.901484   \n",
       "Credit_Util_Rate_5                    0.811019         0.883386   \n",
       "Credit_Util_Rate_6                    1.000000         0.842931   \n",
       "Credit_Util_Avg                       0.842931         1.000000   \n",
       "Credit_Pay_Status_Avg                 0.521878         0.567967   \n",
       "Credit_Util_Pay_Status_Avg            0.428092         0.416792   \n",
       "\n",
       "                            Credit_Pay_Status_Avg  Credit_Util_Pay_Status_Avg  \n",
       "LIMIT_BAL                               -0.312555                   -0.200447  \n",
       "SEX                                     -0.060468                   -0.036023  \n",
       "EDUCATION                                0.142041                    0.071783  \n",
       "MARRIAGE                                 0.027855                   -0.009823  \n",
       "AGE                                     -0.053015                   -0.019474  \n",
       "PAY_0                                    0.730497                    0.569197  \n",
       "PAY_2                                    0.847475                    0.612282  \n",
       "PAY_3                                    0.877259                    0.584156  \n",
       "PAY_4                                    0.891431                    0.573847  \n",
       "PAY_5                                    0.875253                    0.553075  \n",
       "PAY_6                                    0.826977                    0.505326  \n",
       "BILL_AMT1                                0.237584                    0.076365  \n",
       "BILL_AMT2                                0.256912                    0.094768  \n",
       "BILL_AMT3                                0.261100                    0.110055  \n",
       "BILL_AMT4                                0.274130                    0.136719  \n",
       "BILL_AMT5                                0.277124                    0.148146  \n",
       "BILL_AMT6                                0.271053                    0.149095  \n",
       "PAY_AMT1                                -0.039407                   -0.063045  \n",
       "PAY_AMT2                                -0.048423                   -0.052572  \n",
       "PAY_AMT3                                -0.047544                   -0.055778  \n",
       "PAY_AMT4                                -0.050691                   -0.056809  \n",
       "PAY_AMT5                                -0.049360                   -0.048170  \n",
       "PAY_AMT6                                -0.044647                   -0.033413  \n",
       "default payment next month               0.282021                    0.293863  \n",
       "Credit_Util_Rate_1                       0.454059                    0.292140  \n",
       "Credit_Util_Rate_2                       0.483219                    0.320013  \n",
       "Credit_Util_Rate_3                       0.509046                    0.359747  \n",
       "Credit_Util_Rate_4                       0.529171                    0.408290  \n",
       "Credit_Util_Rate_5                       0.536763                    0.431403  \n",
       "Credit_Util_Rate_6                       0.521878                    0.428092  \n",
       "Credit_Util_Avg                          0.567967                    0.416792  \n",
       "Credit_Pay_Status_Avg                    1.000000                    0.672802  \n",
       "Credit_Util_Pay_Status_Avg               0.672802                    1.000000  \n",
       "\n",
       "[33 rows x 33 columns]"
      ]
     },
     "execution_count": 15,
     "metadata": {},
     "output_type": "execute_result"
    }
   ],
   "source": [
    "credit_card_default.corr()"
   ]
  },
  {
   "cell_type": "code",
   "execution_count": 10,
   "metadata": {},
   "outputs": [
    {
     "data": {
      "image/png": "[encoded data removed]",
      "text/plain": [
       "<Figure size 720x720 with 2 Axes>"
      ]
     },
     "metadata": {},
     "output_type": "display_data"
    }
   ],
   "source": [
    "#heatmap to identify correlation. Looks like Repayment Status (Pay_0, Pay_2, etc) have a high correlation with default payment next month \n",
    "fig, ax = plt.subplots(figsize=(10,10))\n",
    "sns.heatmap(credit_card_default.corr(), vmin=-1, vmax=1, cmap=sns.diverging_palette(h_neg=220, h_pos=10, n=21),\n",
    "           linewidths=.5, ax=ax);"
   ]
  },
  {
   "cell_type": "code",
   "execution_count": 16,
   "metadata": {},
   "outputs": [
    {
     "data": {
      "image/png": "[encoded data removed]",
      "text/plain": [
       "<Figure size 1152x576 with 4 Axes>"
      ]
     },
     "metadata": {},
     "output_type": "display_data"
    }
   ],
   "source": [
    "#check for outliers via a boxplot for 'AGE' and 'LIMIT BALANCE'\n",
    "fig, axes = plt.subplots(2,2, figsize=(16,8))\n",
    "credit_card_default.loc[:,['LIMIT_BAL']].plot(kind='box', ax=axes[0,0])\n",
    "credit_card_default.loc[:,['AGE']].plot(kind='box', ax=axes[0,1]);"
   ]
  },
  {
   "cell_type": "code",
   "execution_count": 20,
   "metadata": {},
   "outputs": [
    {
     "name": "stdout",
     "output_type": "stream",
     "text": [
      "female    13729\n",
      "male       8771\n",
      "Name: SEX, dtype: int64\n"
     ]
    },
    {
     "data": {
      "image/png": "[encoded data removed]",
      "text/plain": [
       "<Figure size 1728x1728 with 25 Axes>"
      ]
     },
     "metadata": {},
     "output_type": "display_data"
    }
   ],
   "source": [
    "credit_card_default['SEX'] = credit_card_default['SEX'].replace({1:'male', 2:'female'})\n",
    "credit_card_default['MARRIAGE'] = credit_card_default['MARRIAGE'].replace({1:'married', 2:'single', 3:'others'})\n",
    "credit_card_default['EDUCATION'] = credit_card_default['EDUCATION'].replace({1:'graduate school', 2:'university', 3:'highschool', 4:'others'})\n",
    "print(credit_card_default.loc[:,'SEX'].value_counts())\n",
    "credit_card_default.hist(column='default payment next month', by=['SEX','MARRIAGE', 'EDUCATION'], figsize=(24, 24), sharex=True, sharey=True);"
   ]
  },
  {
   "cell_type": "code",
   "execution_count": 21,
   "metadata": {},
   "outputs": [
    {
     "name": "stdout",
     "output_type": "stream",
     "text": [
      "university         10634\n",
      "graduate school     7982\n",
      "highschool          3581\n",
      "others               303\n",
      "Name: EDUCATION, dtype: int64\n",
      "Percentage of graduate defaulted: 19.731896767727385\n",
      "Percentage of high school defaulted: 25.886623848087126\n",
      "Percentage of others defaulted: 6.6006600660066\n",
      "Percentage of university defaulted: 24.13014858002633\n",
      "                                            default payment next month\n",
      "EDUCATION       default payment next month                            \n",
      "graduate school 0                                                 6407\n",
      "                1                                                 1575\n",
      "highschool      0                                                 2654\n",
      "                1                                                  927\n",
      "others          0                                                  283\n",
      "                1                                                   20\n",
      "university      0                                                 8068\n",
      "                1                                                 2566\n"
     ]
    },
    {
     "data": {
      "text/plain": [
       "<matplotlib.axes._subplots.AxesSubplot at 0x1a1db4a0b8>"
      ]
     },
     "execution_count": 21,
     "metadata": {},
     "output_type": "execute_result"
    },
    {
     "data": {
      "image/png": "[encoded data removed]",
      "text/plain": [
       "<Figure size 432x288 with 1 Axes>"
      ]
     },
     "metadata": {},
     "output_type": "display_data"
    }
   ],
   "source": [
    "#look at the distribution of 'Education' from the data \n",
    "print(credit_card_default.loc[:,'EDUCATION'].value_counts())\n",
    "print('Percentage of graduate defaulted:', 1575/(7982)*100)\n",
    "print('Percentage of high school defaulted:', 927/(3581)*100)\n",
    "print('Percentage of others defaulted:', 20/(303)*100)\n",
    "print('Percentage of university defaulted:', 2566/(10634)*100)\n",
    "cd_ed = credit_card_default.groupby(['EDUCATION', 'default payment next month']).agg({'default payment next month':'count'})\n",
    "print(cd_ed)\n",
    "cd_ed.plot(kind='barh')"
   ]
  },
  {
   "cell_type": "code",
   "execution_count": 22,
   "metadata": {},
   "outputs": [
    {
     "name": "stdout",
     "output_type": "stream",
     "text": [
      "female    13729\n",
      "male       8771\n",
      "Name: SEX, dtype: int64\n",
      "Percentage of female defaulted: 21.334401631582782\n",
      "Percentage of male defaulted: 24.61520921217649\n",
      "                                   default payment next month\n",
      "SEX    default payment next month                            \n",
      "female 0                                                10800\n",
      "       1                                                 2929\n",
      "male   0                                                 6612\n",
      "       1                                                 2159\n"
     ]
    },
    {
     "data": {
      "text/plain": [
       "<matplotlib.axes._subplots.AxesSubplot at 0x1a1c48eeb8>"
      ]
     },
     "execution_count": 22,
     "metadata": {},
     "output_type": "execute_result"
    },
    {
     "data": {
      "image/png": "[encoded data removed]",
      "text/plain": [
       "<Figure size 432x288 with 1 Axes>"
      ]
     },
     "metadata": {},
     "output_type": "display_data"
    }
   ],
   "source": [
    "#look at the distribution of 'SEX' from the data\n",
    "print(credit_card_default.loc[:,'SEX'].value_counts())\n",
    "print('Percentage of female defaulted:', 2929/(13729)*100)\n",
    "print('Percentage of male defaulted:', 2159/(8771)*100)\n",
    "cd_sex = credit_card_default.groupby(['SEX', 'default payment next month']).agg({'default payment next month': 'count'})\n",
    "print(cd_sex)\n",
    "cd_sex.plot(kind='barh')"
   ]
  },
  {
   "cell_type": "code",
   "execution_count": 23,
   "metadata": {},
   "outputs": [
    {
     "name": "stdout",
     "output_type": "stream",
     "text": [
      "single     12219\n",
      "married     9990\n",
      "others       291\n",
      "Name: MARRIAGE, dtype: int64\n",
      "Perecentage of married defaulted: 24.254254254254253\n",
      "Perecentage of single defaulted: 21.261969064571566\n",
      "Percentage of others defaulted: 23.02405498281787\n",
      "                                     default payment next month\n",
      "MARRIAGE default payment next month                            \n",
      "married  0                                                 7567\n",
      "         1                                                 2423\n",
      "others   0                                                  224\n",
      "         1                                                   67\n",
      "single   0                                                 9621\n",
      "         1                                                 2598\n"
     ]
    },
    {
     "data": {
      "text/plain": [
       "<matplotlib.axes._subplots.AxesSubplot at 0x1a1c46c9e8>"
      ]
     },
     "execution_count": 23,
     "metadata": {},
     "output_type": "execute_result"
    },
    {
     "data": {
      "image/png": "[encoded data removed]",
      "text/plain": [
       "<Figure size 432x288 with 1 Axes>"
      ]
     },
     "metadata": {},
     "output_type": "display_data"
    }
   ],
   "source": [
    "#look at the distribution of 'MARRIAGE' from the data\n",
    "print(credit_card_default.loc[:,'MARRIAGE'].value_counts())\n",
    "print('Perecentage of married defaulted:', (2423/9990)*100)\n",
    "print('Perecentage of single defaulted:', (2598/12219)*100)\n",
    "print('Percentage of others defaulted:', (67/291)*100)\n",
    "cd_marriage = credit_card_default.groupby(['MARRIAGE', 'default payment next month']).agg({'default payment next month': 'count'})\n",
    "print(cd_marriage)\n",
    "cd_marriage.plot(kind='barh')"
   ]
  },
  {
   "cell_type": "code",
   "execution_count": 20,
   "metadata": {},
   "outputs": [
    {
     "data": {
      "image/png": "[encoded data removed]",
      "text/plain": [
       "<Figure size 432x288 with 1 Axes>"
      ]
     },
     "metadata": {},
     "output_type": "display_data"
    }
   ],
   "source": [
    "#graph visual by sex, marriage, education and default payment next month\n",
    "cd = credit_card_default.groupby(['SEX', 'EDUCATION', 'MARRIAGE','default payment next month']).agg({'default payment next month':'count'})\n",
    "cd.plot(kind='bar');"
   ]
  },
  {
   "cell_type": "code",
   "execution_count": 21,
   "metadata": {},
   "outputs": [
    {
     "data": {
      "text/html": [
       "<div>\n",
       "<style scoped>\n",
       "    .dataframe tbody tr th:only-of-type {\n",
       "        vertical-align: middle;\n",
       "    }\n",
       "\n",
       "    .dataframe tbody tr th {\n",
       "        vertical-align: top;\n",
       "    }\n",
       "\n",
       "    .dataframe thead th {\n",
       "        text-align: right;\n",
       "    }\n",
       "</style>\n",
       "<table border=\"1\" class=\"dataframe\">\n",
       "  <thead>\n",
       "    <tr style=\"text-align: right;\">\n",
       "      <th></th>\n",
       "      <th>SEX</th>\n",
       "      <th>EDUCATION</th>\n",
       "      <th>MARRIAGE</th>\n",
       "      <th>default payment next month</th>\n",
       "      <th>default</th>\n",
       "    </tr>\n",
       "  </thead>\n",
       "  <tbody>\n",
       "    <tr>\n",
       "      <th>29</th>\n",
       "      <td>2</td>\n",
       "      <td>2</td>\n",
       "      <td>1</td>\n",
       "      <td>1</td>\n",
       "      <td>791</td>\n",
       "    </tr>\n",
       "    <tr>\n",
       "      <th>31</th>\n",
       "      <td>2</td>\n",
       "      <td>2</td>\n",
       "      <td>2</td>\n",
       "      <td>1</td>\n",
       "      <td>703</td>\n",
       "    </tr>\n",
       "    <tr>\n",
       "      <th>25</th>\n",
       "      <td>2</td>\n",
       "      <td>1</td>\n",
       "      <td>2</td>\n",
       "      <td>1</td>\n",
       "      <td>598</td>\n",
       "    </tr>\n",
       "    <tr>\n",
       "      <th>9</th>\n",
       "      <td>1</td>\n",
       "      <td>2</td>\n",
       "      <td>2</td>\n",
       "      <td>1</td>\n",
       "      <td>559</td>\n",
       "    </tr>\n",
       "    <tr>\n",
       "      <th>7</th>\n",
       "      <td>1</td>\n",
       "      <td>2</td>\n",
       "      <td>1</td>\n",
       "      <td>1</td>\n",
       "      <td>480</td>\n",
       "    </tr>\n",
       "    <tr>\n",
       "      <th>3</th>\n",
       "      <td>1</td>\n",
       "      <td>1</td>\n",
       "      <td>2</td>\n",
       "      <td>1</td>\n",
       "      <td>376</td>\n",
       "    </tr>\n",
       "    <tr>\n",
       "      <th>35</th>\n",
       "      <td>2</td>\n",
       "      <td>3</td>\n",
       "      <td>1</td>\n",
       "      <td>1</td>\n",
       "      <td>326</td>\n",
       "    </tr>\n",
       "    <tr>\n",
       "      <th>1</th>\n",
       "      <td>1</td>\n",
       "      <td>1</td>\n",
       "      <td>1</td>\n",
       "      <td>1</td>\n",
       "      <td>304</td>\n",
       "    </tr>\n",
       "    <tr>\n",
       "      <th>23</th>\n",
       "      <td>2</td>\n",
       "      <td>1</td>\n",
       "      <td>1</td>\n",
       "      <td>1</td>\n",
       "      <td>286</td>\n",
       "    </tr>\n",
       "    <tr>\n",
       "      <th>13</th>\n",
       "      <td>1</td>\n",
       "      <td>3</td>\n",
       "      <td>1</td>\n",
       "      <td>1</td>\n",
       "      <td>227</td>\n",
       "    </tr>\n",
       "    <tr>\n",
       "      <th>37</th>\n",
       "      <td>2</td>\n",
       "      <td>3</td>\n",
       "      <td>2</td>\n",
       "      <td>1</td>\n",
       "      <td>178</td>\n",
       "    </tr>\n",
       "    <tr>\n",
       "      <th>15</th>\n",
       "      <td>1</td>\n",
       "      <td>3</td>\n",
       "      <td>2</td>\n",
       "      <td>1</td>\n",
       "      <td>173</td>\n",
       "    </tr>\n",
       "    <tr>\n",
       "      <th>33</th>\n",
       "      <td>2</td>\n",
       "      <td>2</td>\n",
       "      <td>3</td>\n",
       "      <td>1</td>\n",
       "      <td>18</td>\n",
       "    </tr>\n",
       "    <tr>\n",
       "      <th>11</th>\n",
       "      <td>1</td>\n",
       "      <td>2</td>\n",
       "      <td>3</td>\n",
       "      <td>1</td>\n",
       "      <td>15</td>\n",
       "    </tr>\n",
       "    <tr>\n",
       "      <th>39</th>\n",
       "      <td>2</td>\n",
       "      <td>3</td>\n",
       "      <td>3</td>\n",
       "      <td>1</td>\n",
       "      <td>12</td>\n",
       "    </tr>\n",
       "    <tr>\n",
       "      <th>17</th>\n",
       "      <td>1</td>\n",
       "      <td>3</td>\n",
       "      <td>3</td>\n",
       "      <td>1</td>\n",
       "      <td>11</td>\n",
       "    </tr>\n",
       "    <tr>\n",
       "      <th>43</th>\n",
       "      <td>2</td>\n",
       "      <td>4</td>\n",
       "      <td>2</td>\n",
       "      <td>1</td>\n",
       "      <td>10</td>\n",
       "    </tr>\n",
       "    <tr>\n",
       "      <th>5</th>\n",
       "      <td>1</td>\n",
       "      <td>1</td>\n",
       "      <td>3</td>\n",
       "      <td>1</td>\n",
       "      <td>8</td>\n",
       "    </tr>\n",
       "    <tr>\n",
       "      <th>19</th>\n",
       "      <td>1</td>\n",
       "      <td>4</td>\n",
       "      <td>1</td>\n",
       "      <td>1</td>\n",
       "      <td>5</td>\n",
       "    </tr>\n",
       "    <tr>\n",
       "      <th>41</th>\n",
       "      <td>2</td>\n",
       "      <td>4</td>\n",
       "      <td>1</td>\n",
       "      <td>1</td>\n",
       "      <td>4</td>\n",
       "    </tr>\n",
       "    <tr>\n",
       "      <th>27</th>\n",
       "      <td>2</td>\n",
       "      <td>1</td>\n",
       "      <td>3</td>\n",
       "      <td>1</td>\n",
       "      <td>3</td>\n",
       "    </tr>\n",
       "    <tr>\n",
       "      <th>21</th>\n",
       "      <td>1</td>\n",
       "      <td>4</td>\n",
       "      <td>2</td>\n",
       "      <td>1</td>\n",
       "      <td>1</td>\n",
       "    </tr>\n",
       "    <tr>\n",
       "      <th>24</th>\n",
       "      <td>2</td>\n",
       "      <td>1</td>\n",
       "      <td>2</td>\n",
       "      <td>0</td>\n",
       "      <td>2661</td>\n",
       "    </tr>\n",
       "    <tr>\n",
       "      <th>28</th>\n",
       "      <td>2</td>\n",
       "      <td>2</td>\n",
       "      <td>1</td>\n",
       "      <td>0</td>\n",
       "      <td>2544</td>\n",
       "    </tr>\n",
       "    <tr>\n",
       "      <th>30</th>\n",
       "      <td>2</td>\n",
       "      <td>2</td>\n",
       "      <td>2</td>\n",
       "      <td>0</td>\n",
       "      <td>2543</td>\n",
       "    </tr>\n",
       "    <tr>\n",
       "      <th>8</th>\n",
       "      <td>1</td>\n",
       "      <td>2</td>\n",
       "      <td>2</td>\n",
       "      <td>0</td>\n",
       "      <td>1636</td>\n",
       "    </tr>\n",
       "    <tr>\n",
       "      <th>2</th>\n",
       "      <td>1</td>\n",
       "      <td>1</td>\n",
       "      <td>2</td>\n",
       "      <td>0</td>\n",
       "      <td>1563</td>\n",
       "    </tr>\n",
       "    <tr>\n",
       "      <th>6</th>\n",
       "      <td>1</td>\n",
       "      <td>2</td>\n",
       "      <td>1</td>\n",
       "      <td>0</td>\n",
       "      <td>1249</td>\n",
       "    </tr>\n",
       "    <tr>\n",
       "      <th>22</th>\n",
       "      <td>2</td>\n",
       "      <td>1</td>\n",
       "      <td>1</td>\n",
       "      <td>0</td>\n",
       "      <td>1195</td>\n",
       "    </tr>\n",
       "    <tr>\n",
       "      <th>0</th>\n",
       "      <td>1</td>\n",
       "      <td>1</td>\n",
       "      <td>1</td>\n",
       "      <td>0</td>\n",
       "      <td>955</td>\n",
       "    </tr>\n",
       "    <tr>\n",
       "      <th>34</th>\n",
       "      <td>2</td>\n",
       "      <td>3</td>\n",
       "      <td>1</td>\n",
       "      <td>0</td>\n",
       "      <td>950</td>\n",
       "    </tr>\n",
       "    <tr>\n",
       "      <th>36</th>\n",
       "      <td>2</td>\n",
       "      <td>3</td>\n",
       "      <td>2</td>\n",
       "      <td>0</td>\n",
       "      <td>577</td>\n",
       "    </tr>\n",
       "    <tr>\n",
       "      <th>12</th>\n",
       "      <td>1</td>\n",
       "      <td>3</td>\n",
       "      <td>1</td>\n",
       "      <td>0</td>\n",
       "      <td>546</td>\n",
       "    </tr>\n",
       "    <tr>\n",
       "      <th>14</th>\n",
       "      <td>1</td>\n",
       "      <td>3</td>\n",
       "      <td>2</td>\n",
       "      <td>0</td>\n",
       "      <td>489</td>\n",
       "    </tr>\n",
       "    <tr>\n",
       "      <th>42</th>\n",
       "      <td>2</td>\n",
       "      <td>4</td>\n",
       "      <td>2</td>\n",
       "      <td>0</td>\n",
       "      <td>95</td>\n",
       "    </tr>\n",
       "    <tr>\n",
       "      <th>40</th>\n",
       "      <td>2</td>\n",
       "      <td>4</td>\n",
       "      <td>1</td>\n",
       "      <td>0</td>\n",
       "      <td>92</td>\n",
       "    </tr>\n",
       "    <tr>\n",
       "      <th>32</th>\n",
       "      <td>2</td>\n",
       "      <td>2</td>\n",
       "      <td>3</td>\n",
       "      <td>0</td>\n",
       "      <td>63</td>\n",
       "    </tr>\n",
       "    <tr>\n",
       "      <th>38</th>\n",
       "      <td>2</td>\n",
       "      <td>3</td>\n",
       "      <td>3</td>\n",
       "      <td>0</td>\n",
       "      <td>63</td>\n",
       "    </tr>\n",
       "    <tr>\n",
       "      <th>20</th>\n",
       "      <td>1</td>\n",
       "      <td>4</td>\n",
       "      <td>2</td>\n",
       "      <td>0</td>\n",
       "      <td>57</td>\n",
       "    </tr>\n",
       "    <tr>\n",
       "      <th>18</th>\n",
       "      <td>1</td>\n",
       "      <td>4</td>\n",
       "      <td>1</td>\n",
       "      <td>0</td>\n",
       "      <td>36</td>\n",
       "    </tr>\n",
       "    <tr>\n",
       "      <th>10</th>\n",
       "      <td>1</td>\n",
       "      <td>2</td>\n",
       "      <td>3</td>\n",
       "      <td>0</td>\n",
       "      <td>33</td>\n",
       "    </tr>\n",
       "    <tr>\n",
       "      <th>16</th>\n",
       "      <td>1</td>\n",
       "      <td>3</td>\n",
       "      <td>3</td>\n",
       "      <td>0</td>\n",
       "      <td>29</td>\n",
       "    </tr>\n",
       "    <tr>\n",
       "      <th>4</th>\n",
       "      <td>1</td>\n",
       "      <td>1</td>\n",
       "      <td>3</td>\n",
       "      <td>0</td>\n",
       "      <td>19</td>\n",
       "    </tr>\n",
       "    <tr>\n",
       "      <th>26</th>\n",
       "      <td>2</td>\n",
       "      <td>1</td>\n",
       "      <td>3</td>\n",
       "      <td>0</td>\n",
       "      <td>14</td>\n",
       "    </tr>\n",
       "    <tr>\n",
       "      <th>44</th>\n",
       "      <td>2</td>\n",
       "      <td>4</td>\n",
       "      <td>3</td>\n",
       "      <td>0</td>\n",
       "      <td>3</td>\n",
       "    </tr>\n",
       "  </tbody>\n",
       "</table>\n",
       "</div>"
      ],
      "text/plain": [
       "    SEX  EDUCATION  MARRIAGE  default payment next month  default\n",
       "29    2          2         1                           1      791\n",
       "31    2          2         2                           1      703\n",
       "25    2          1         2                           1      598\n",
       "9     1          2         2                           1      559\n",
       "7     1          2         1                           1      480\n",
       "3     1          1         2                           1      376\n",
       "35    2          3         1                           1      326\n",
       "1     1          1         1                           1      304\n",
       "23    2          1         1                           1      286\n",
       "13    1          3         1                           1      227\n",
       "37    2          3         2                           1      178\n",
       "15    1          3         2                           1      173\n",
       "33    2          2         3                           1       18\n",
       "11    1          2         3                           1       15\n",
       "39    2          3         3                           1       12\n",
       "17    1          3         3                           1       11\n",
       "43    2          4         2                           1       10\n",
       "5     1          1         3                           1        8\n",
       "19    1          4         1                           1        5\n",
       "41    2          4         1                           1        4\n",
       "27    2          1         3                           1        3\n",
       "21    1          4         2                           1        1\n",
       "24    2          1         2                           0     2661\n",
       "28    2          2         1                           0     2544\n",
       "30    2          2         2                           0     2543\n",
       "8     1          2         2                           0     1636\n",
       "2     1          1         2                           0     1563\n",
       "6     1          2         1                           0     1249\n",
       "22    2          1         1                           0     1195\n",
       "0     1          1         1                           0      955\n",
       "34    2          3         1                           0      950\n",
       "36    2          3         2                           0      577\n",
       "12    1          3         1                           0      546\n",
       "14    1          3         2                           0      489\n",
       "42    2          4         2                           0       95\n",
       "40    2          4         1                           0       92\n",
       "32    2          2         3                           0       63\n",
       "38    2          3         3                           0       63\n",
       "20    1          4         2                           0       57\n",
       "18    1          4         1                           0       36\n",
       "10    1          2         3                           0       33\n",
       "16    1          3         3                           0       29\n",
       "4     1          1         3                           0       19\n",
       "26    2          1         3                           0       14\n",
       "44    2          4         3                           0        3"
      ]
     },
     "execution_count": 21,
     "metadata": {},
     "output_type": "execute_result"
    }
   ],
   "source": [
    "cd.columns = ['default']\n",
    "cd = cd.reset_index()\n",
    "cd.sort_values(by=['default payment next month', 'default'], ascending = False)\n",
    "#majority of the population is female,graduate, single (2661). The highest combination defaulted is female, university, married (791). However not the best representation because the data is a bit skewed\n",
    "# towards females, unveristy, and single "
   ]
  },
  {
   "cell_type": "code",
   "execution_count": 22,
   "metadata": {},
   "outputs": [
    {
     "name": "stdout",
     "output_type": "stream",
     "text": [
      "2    13729\n",
      "1     8771\n",
      "Name: SEX, dtype: int64\n",
      "Percentage of female university,graduate: 0.05761526695316483\n",
      "Percentage of male university,graduate: 0.1424010945160187\n"
     ]
    }
   ],
   "source": [
    "print(credit_card_default.loc[:,'SEX'].value_counts())\n",
    "print('Percentage of female university,graduate:', 791/13729)\n",
    "print('Percentage of male university,graduate:', 1249/8771)\n",
    "#There is a higher percentage of males that default in comparision with female with the same martial status and education"
   ]
  },
  {
   "cell_type": "code",
   "execution_count": 27,
   "metadata": {},
   "outputs": [
    {
     "data": {
      "text/plain": [
       "LIMIT_BAL                          20000\n",
       "SEX                                 male\n",
       "EDUCATION                     highschool\n",
       "MARRIAGE                          single\n",
       "AGE                                   26\n",
       "PAY_0                                  8\n",
       "PAY_2                                  7\n",
       "PAY_3                                  6\n",
       "PAY_4                                  5\n",
       "PAY_5                                  4\n",
       "PAY_6                                  3\n",
       "BILL_AMT1                          43340\n",
       "BILL_AMT2                          42619\n",
       "BILL_AMT3                          35381\n",
       "BILL_AMT4                          31539\n",
       "BILL_AMT5                          27409\n",
       "BILL_AMT6                          23567\n",
       "PAY_AMT1                               0\n",
       "PAY_AMT2                               0\n",
       "PAY_AMT3                               0\n",
       "PAY_AMT4                               0\n",
       "PAY_AMT5                               0\n",
       "PAY_AMT6                             300\n",
       "default payment next month             0\n",
       "Credit_Util_Rate_1                 2.167\n",
       "Credit_Util_Rate_2               2.13095\n",
       "Credit_Util_Rate_3               1.76905\n",
       "Credit_Util_Rate_4               1.57695\n",
       "Credit_Util_Rate_5               1.37045\n",
       "Credit_Util_Rate_6               1.16335\n",
       "Credit_Util_Avg                  1.69629\n",
       "Credit_Pay_Status_Avg                5.5\n",
       "Credit_Util_Pay_Status_Avg        9.3296\n",
       "Name: 2917, dtype: object"
      ]
     },
     "execution_count": 27,
     "metadata": {},
     "output_type": "execute_result"
    }
   ],
   "source": [
    "credit_card_default.loc[credit_card_default.loc[:,'Credit_Util_Pay_Status_Avg'] > 8,:]\n",
    "credit_card_default.iloc[2916,:]"
   ]
  },
  {
   "cell_type": "code",
   "execution_count": 28,
   "metadata": {},
   "outputs": [
    {
     "name": "stdout",
     "output_type": "stream",
     "text": [
      "female    7671\n",
      "male      4292\n",
      "Name: SEX, dtype: int64\n",
      "female good rate defaulted: 0.1732499022291748\n",
      "male good rate defaulted: 0.1999068033550792\n"
     ]
    },
    {
     "data": {
      "text/html": [
       "<div>\n",
       "<style scoped>\n",
       "    .dataframe tbody tr th:only-of-type {\n",
       "        vertical-align: middle;\n",
       "    }\n",
       "\n",
       "    .dataframe tbody tr th {\n",
       "        vertical-align: top;\n",
       "    }\n",
       "\n",
       "    .dataframe thead th {\n",
       "        text-align: right;\n",
       "    }\n",
       "</style>\n",
       "<table border=\"1\" class=\"dataframe\">\n",
       "  <thead>\n",
       "    <tr style=\"text-align: right;\">\n",
       "      <th></th>\n",
       "      <th></th>\n",
       "      <th>default payment next month</th>\n",
       "    </tr>\n",
       "    <tr>\n",
       "      <th>SEX</th>\n",
       "      <th>default payment next month</th>\n",
       "      <th></th>\n",
       "    </tr>\n",
       "  </thead>\n",
       "  <tbody>\n",
       "    <tr>\n",
       "      <th rowspan=\"2\" valign=\"top\">female</th>\n",
       "      <th>0</th>\n",
       "      <td>6342</td>\n",
       "    </tr>\n",
       "    <tr>\n",
       "      <th>1</th>\n",
       "      <td>1329</td>\n",
       "    </tr>\n",
       "    <tr>\n",
       "      <th rowspan=\"2\" valign=\"top\">male</th>\n",
       "      <th>0</th>\n",
       "      <td>3434</td>\n",
       "    </tr>\n",
       "    <tr>\n",
       "      <th>1</th>\n",
       "      <td>858</td>\n",
       "    </tr>\n",
       "  </tbody>\n",
       "</table>\n",
       "</div>"
      ],
      "text/plain": [
       "                                   default payment next month\n",
       "SEX    default payment next month                            \n",
       "female 0                                                 6342\n",
       "       1                                                 1329\n",
       "male   0                                                 3434\n",
       "       1                                                  858"
      ]
     },
     "execution_count": 28,
     "metadata": {},
     "output_type": "execute_result"
    }
   ],
   "source": [
    "#Having the best utilization rate < .3 is good according to article and looking at it by SEX. Could look at it by MARRIAGE, and EDUCATION \n",
    "good_rate = credit_card_default.loc[credit_card_default.loc[:,'Credit_Util_Avg'] <= .3,:]\n",
    "print(good_rate.loc[:,'SEX'].value_counts())\n",
    "print('female good rate defaulted:', (1329/7671))\n",
    "print('male good rate defaulted:', (858/4292))\n",
    "good_rate.groupby(['SEX','default payment next month']).agg({'default payment next month': 'count'})"
   ]
  },
  {
   "cell_type": "code",
   "execution_count": 29,
   "metadata": {},
   "outputs": [
    {
     "name": "stdout",
     "output_type": "stream",
     "text": [
      "female    7671\n",
      "male      4292\n",
      "Name: SEX, dtype: int64\n",
      "female overall good rate defaulted: 0.15604223699648026\n",
      "male overall good rate defaulted: 0.20340167753960858\n"
     ]
    },
    {
     "data": {
      "text/html": [
       "<div>\n",
       "<style scoped>\n",
       "    .dataframe tbody tr th:only-of-type {\n",
       "        vertical-align: middle;\n",
       "    }\n",
       "\n",
       "    .dataframe tbody tr th {\n",
       "        vertical-align: top;\n",
       "    }\n",
       "\n",
       "    .dataframe thead th {\n",
       "        text-align: right;\n",
       "    }\n",
       "</style>\n",
       "<table border=\"1\" class=\"dataframe\">\n",
       "  <thead>\n",
       "    <tr style=\"text-align: right;\">\n",
       "      <th></th>\n",
       "      <th></th>\n",
       "      <th>default payment next month</th>\n",
       "    </tr>\n",
       "    <tr>\n",
       "      <th>SEX</th>\n",
       "      <th>default payment next month</th>\n",
       "      <th></th>\n",
       "    </tr>\n",
       "  </thead>\n",
       "  <tbody>\n",
       "    <tr>\n",
       "      <th rowspan=\"2\" valign=\"top\">female</th>\n",
       "      <th>0</th>\n",
       "      <td>7871</td>\n",
       "    </tr>\n",
       "    <tr>\n",
       "      <th>1</th>\n",
       "      <td>1179</td>\n",
       "    </tr>\n",
       "    <tr>\n",
       "      <th rowspan=\"2\" valign=\"top\">male</th>\n",
       "      <th>0</th>\n",
       "      <td>4796</td>\n",
       "    </tr>\n",
       "    <tr>\n",
       "      <th>1</th>\n",
       "      <td>873</td>\n",
       "    </tr>\n",
       "  </tbody>\n",
       "</table>\n",
       "</div>"
      ],
      "text/plain": [
       "                                   default payment next month\n",
       "SEX    default payment next month                            \n",
       "female 0                                                 7871\n",
       "       1                                                 1179\n",
       "male   0                                                 4796\n",
       "       1                                                  873"
      ]
     },
     "execution_count": 29,
     "metadata": {},
     "output_type": "execute_result"
    }
   ],
   "source": [
    "#If <0 which is good, >0 is bad. Could look at it by MARRIAGE, and EDUCATION \n",
    "good_overall_rate = credit_card_default.loc[credit_card_default.loc[:,'Credit_Util_Pay_Status_Avg'] <= 0,:]\n",
    "print(good_rate.loc[:,'SEX'].value_counts())\n",
    "print('female overall good rate defaulted:', (1197/7671))\n",
    "print('male overall good rate defaulted:', (873/4292))\n",
    "good_overall_rate.groupby(['SEX','default payment next month']).agg({'default payment next month': 'count'})"
   ]
  },
  {
   "cell_type": "code",
   "execution_count": 30,
   "metadata": {},
   "outputs": [
    {
     "data": {
      "text/plain": [
       "LIMIT_BAL                          20000\n",
       "SEX                               female\n",
       "EDUCATION                     university\n",
       "MARRIAGE                          single\n",
       "AGE                                   32\n",
       "PAY_0                                  0\n",
       "PAY_2                                  0\n",
       "PAY_3                                  0\n",
       "PAY_4                                  0\n",
       "PAY_5                                  0\n",
       "PAY_6                                  0\n",
       "BILL_AMT1                         129106\n",
       "BILL_AMT2                         127610\n",
       "BILL_AMT3                         107828\n",
       "BILL_AMT4                         102937\n",
       "BILL_AMT5                          98525\n",
       "BILL_AMT6                          77711\n",
       "PAY_AMT1                            4420\n",
       "PAY_AMT2                            3650\n",
       "PAY_AMT3                            3120\n",
       "PAY_AMT4                            3200\n",
       "PAY_AMT5                            2900\n",
       "PAY_AMT6                            2000\n",
       "default payment next month             0\n",
       "Credit_Util_Rate_1                6.2343\n",
       "Credit_Util_Rate_2                 6.198\n",
       "Credit_Util_Rate_3                5.2354\n",
       "Credit_Util_Rate_4               4.98685\n",
       "Credit_Util_Rate_5               4.78125\n",
       "Credit_Util_Rate_6               3.78555\n",
       "Credit_Util_Avg                  5.20356\n",
       "Credit_Pay_Status_Avg                  0\n",
       "Credit_Util_Pay_Status_Avg             0\n",
       "Name: 3797, dtype: object"
      ]
     },
     "execution_count": 30,
     "metadata": {},
     "output_type": "execute_result"
    }
   ],
   "source": [
    "#Information on the highest average Credit Utilization Rate and Credit Utilization Rate combining Payment Status\n",
    "#Even though this person has the highest credit utilization rate which is generally an indication of bad use of credit. This person is paying timely thus combining Payment Status is a good indication\n",
    "credit_card_default.iloc[3796,:]"
   ]
  },
  {
   "cell_type": "code",
   "execution_count": 32,
   "metadata": {},
   "outputs": [
    {
     "name": "stdout",
     "output_type": "stream",
     "text": [
      "0.7856\n",
      "0.7909333333333334\n",
      "0    0.768\n",
      "1    0.232\n",
      "Name: default payment next month, dtype: float64\n"
     ]
    },
    {
     "data": {
      "image/png": "[encoded data removed]",
      "text/plain": [
       "<Figure size 432x288 with 1 Axes>"
      ]
     },
     "metadata": {},
     "output_type": "display_data"
    }
   ],
   "source": [
    "#Looking at how well Credit_Util_Pay_Status_Avg is doing \n",
    "feature_cols = ['Credit_Util_Pay_Status_Avg']\n",
    "target_col = 'default payment next month'\n",
    "\n",
    "X = credit_card_default.loc[:, feature_cols]\n",
    "y= credit_card_default.loc[:, target_col]\n",
    "\n",
    "from sklearn.model_selection import train_test_split\n",
    "X_train, X_test, y_train, y_test = train_test_split(X,y)\n",
    "\n",
    "from sklearn.linear_model import LogisticRegression\n",
    "lr = LogisticRegression()\n",
    "lr.fit(X_train, y_train)\n",
    "\n",
    "print(lr.score(X_test, y_test))\n",
    "print(lr.score(X_train, y_train))\n",
    "print(y_test.value_counts(normalize=True))\n",
    "y_pred_prob = lr.predict_proba(X_test)\n",
    "\n",
    "x_grid = np.linspace(start=credit_card_default.loc[:, 'Credit_Util_Pay_Status_Avg'].min(), \n",
    "                     stop=credit_card_default.loc[:, 'Credit_Util_Pay_Status_Avg'].max(), num=100)\n",
    "pred_probs = lr.predict_proba(x_grid.reshape(-1, 1))[:, 1]\n",
    "preds = lr.predict(x_grid.reshape(-1, 1))\n",
    "ax = credit_card_default.plot(kind='scatter', x='Credit_Util_Pay_Status_Avg', y='default payment next month', alpha=.2)\n",
    "ax.plot(x_grid, pred_probs, c='r')\n",
    "ax.plot(x_grid, preds, c='g');\n",
    "\n",
    "#underfitting, high bias/low variance"
   ]
  },
  {
   "cell_type": "code",
   "execution_count": 33,
   "metadata": {},
   "outputs": [
    {
     "name": "stdout",
     "output_type": "stream",
     "text": [
      "0.7859555555555555\n",
      "0.7692444444444444\n",
      "0    0.786133\n",
      "1    0.213867\n",
      "Name: default payment next month, dtype: float64\n"
     ]
    },
    {
     "data": {
      "image/png": "[encoded data removed]",
      "text/plain": [
       "<Figure size 432x288 with 1 Axes>"
      ]
     },
     "metadata": {},
     "output_type": "display_data"
    }
   ],
   "source": [
    "#Looking at how well 'Credit_Util_Avg' is doing \n",
    "feature_cols = ['Credit_Util_Avg']\n",
    "target_col = 'default payment next month'\n",
    "\n",
    "X = credit_card_default.loc[:, feature_cols]\n",
    "y= credit_card_default.loc[:, target_col]\n",
    "\n",
    "from sklearn.model_selection import train_test_split\n",
    "X_train, X_test, y_train, y_test = train_test_split(X,y)\n",
    "\n",
    "from sklearn.linear_model import LogisticRegression\n",
    "lr = LogisticRegression()\n",
    "\n",
    "lr.fit(X_train, y_train)\n",
    "lr.fit(X_train, y_train)\n",
    "print(lr.score(X_test, y_test))\n",
    "print(lr.score(X_train, y_train))\n",
    "print(y_test.value_counts(normalize=True))\n",
    "y_pred_prob = lr.predict_proba(X_test)\n",
    "\n",
    "x_grid = np.linspace(start=credit_card_default.loc[:, 'Credit_Util_Avg'].min(), \n",
    "                     stop=credit_card_default.loc[:, 'Credit_Util_Avg'].max(), num=100)\n",
    "pred_probs = lr.predict_proba(x_grid.reshape(-1, 1))[:, 1]\n",
    "preds = lr.predict(x_grid.reshape(-1, 1))\n",
    "ax = credit_card_default.plot(kind='scatter', x='Credit_Util_Avg', y='default payment next month', alpha=.2)\n",
    "ax.plot(x_grid, pred_probs, c='r')\n",
    "ax.plot(x_grid, preds, c='g');"
   ]
  },
  {
   "cell_type": "markdown",
   "metadata": {},
   "source": [
    "$\\blacksquare$ Logistic Regression"
   ]
  },
  {
   "cell_type": "code",
   "execution_count": 23,
   "metadata": {},
   "outputs": [
    {
     "ename": "TypeError",
     "evalue": "Cannot compare types 'ndarray(dtype=int64)' and 'str'",
     "output_type": "error",
     "traceback": [
      "\u001b[0;31m---------------------------------------------------------------------------\u001b[0m",
      "\u001b[0;31mTypeError\u001b[0m                                 Traceback (most recent call last)",
      "\u001b[0;32m<ipython-input-23-20df95b91e4a>\u001b[0m in \u001b[0;36m<module>\u001b[0;34m()\u001b[0m\n\u001b[0;32m----> 1\u001b[0;31m \u001b[0mcredit_card_default\u001b[0m\u001b[0;34m[\u001b[0m\u001b[0;34m'SEX'\u001b[0m\u001b[0;34m]\u001b[0m \u001b[0;34m=\u001b[0m \u001b[0mcredit_card_default\u001b[0m\u001b[0;34m[\u001b[0m\u001b[0;34m'SEX'\u001b[0m\u001b[0;34m]\u001b[0m\u001b[0;34m.\u001b[0m\u001b[0mreplace\u001b[0m\u001b[0;34m(\u001b[0m\u001b[0;34m{\u001b[0m\u001b[0;34m'male'\u001b[0m\u001b[0;34m:\u001b[0m\u001b[0;36m1\u001b[0m\u001b[0;34m,\u001b[0m\u001b[0;34m'female'\u001b[0m\u001b[0;34m:\u001b[0m\u001b[0;36m2\u001b[0m\u001b[0;34m}\u001b[0m\u001b[0;34m)\u001b[0m\u001b[0;34m\u001b[0m\u001b[0m\n\u001b[0m\u001b[1;32m      2\u001b[0m \u001b[0mcredit_card_default\u001b[0m\u001b[0;34m[\u001b[0m\u001b[0;34m'MARRIAGE'\u001b[0m\u001b[0;34m]\u001b[0m \u001b[0;34m=\u001b[0m \u001b[0mcredit_card_default\u001b[0m\u001b[0;34m[\u001b[0m\u001b[0;34m'MARRIAGE'\u001b[0m\u001b[0;34m]\u001b[0m\u001b[0;34m.\u001b[0m\u001b[0mreplace\u001b[0m\u001b[0;34m(\u001b[0m\u001b[0;34m{\u001b[0m\u001b[0;34m'married'\u001b[0m\u001b[0;34m:\u001b[0m\u001b[0;36m1\u001b[0m\u001b[0;34m,\u001b[0m\u001b[0;34m'single'\u001b[0m\u001b[0;34m:\u001b[0m\u001b[0;36m2\u001b[0m\u001b[0;34m,\u001b[0m \u001b[0;34m'others'\u001b[0m\u001b[0;34m:\u001b[0m\u001b[0;36m3\u001b[0m\u001b[0;34m}\u001b[0m\u001b[0;34m)\u001b[0m\u001b[0;34m\u001b[0m\u001b[0m\n\u001b[1;32m      3\u001b[0m \u001b[0mcredit_card_default\u001b[0m\u001b[0;34m[\u001b[0m\u001b[0;34m'EDUCATION'\u001b[0m\u001b[0;34m]\u001b[0m \u001b[0;34m=\u001b[0m \u001b[0mcredit_card_default\u001b[0m\u001b[0;34m[\u001b[0m\u001b[0;34m'EDUCATION'\u001b[0m\u001b[0;34m]\u001b[0m\u001b[0;34m.\u001b[0m\u001b[0mreplace\u001b[0m\u001b[0;34m(\u001b[0m\u001b[0;34m{\u001b[0m\u001b[0;34m'graduate school'\u001b[0m\u001b[0;34m:\u001b[0m\u001b[0;36m1\u001b[0m\u001b[0;34m,\u001b[0m\u001b[0;34m'university'\u001b[0m\u001b[0;34m:\u001b[0m\u001b[0;36m2\u001b[0m\u001b[0;34m,\u001b[0m \u001b[0;34m'highschool'\u001b[0m\u001b[0;34m:\u001b[0m\u001b[0;36m3\u001b[0m\u001b[0;34m,\u001b[0m\u001b[0;34m'others'\u001b[0m\u001b[0;34m:\u001b[0m\u001b[0;36m4\u001b[0m\u001b[0;34m}\u001b[0m\u001b[0;34m)\u001b[0m\u001b[0;34m\u001b[0m\u001b[0m\n",
      "\u001b[0;32m~/anaconda3/lib/python3.6/site-packages/pandas/core/series.py\u001b[0m in \u001b[0;36mreplace\u001b[0;34m(self, to_replace, value, inplace, limit, regex, method)\u001b[0m\n\u001b[1;32m   3427\u001b[0m         return super(Series, self).replace(to_replace=to_replace, value=value,\n\u001b[1;32m   3428\u001b[0m                                            \u001b[0minplace\u001b[0m\u001b[0;34m=\u001b[0m\u001b[0minplace\u001b[0m\u001b[0;34m,\u001b[0m \u001b[0mlimit\u001b[0m\u001b[0;34m=\u001b[0m\u001b[0mlimit\u001b[0m\u001b[0;34m,\u001b[0m\u001b[0;34m\u001b[0m\u001b[0m\n\u001b[0;32m-> 3429\u001b[0;31m                                            regex=regex, method=method)\n\u001b[0m\u001b[1;32m   3430\u001b[0m \u001b[0;34m\u001b[0m\u001b[0m\n\u001b[1;32m   3431\u001b[0m     \u001b[0;34m@\u001b[0m\u001b[0mAppender\u001b[0m\u001b[0;34m(\u001b[0m\u001b[0mgeneric\u001b[0m\u001b[0;34m.\u001b[0m\u001b[0m_shared_docs\u001b[0m\u001b[0;34m[\u001b[0m\u001b[0;34m'shift'\u001b[0m\u001b[0;34m]\u001b[0m \u001b[0;34m%\u001b[0m \u001b[0m_shared_doc_kwargs\u001b[0m\u001b[0;34m)\u001b[0m\u001b[0;34m\u001b[0m\u001b[0m\n",
      "\u001b[0;32m~/anaconda3/lib/python3.6/site-packages/pandas/core/generic.py\u001b[0m in \u001b[0;36mreplace\u001b[0;34m(self, to_replace, value, inplace, limit, regex, method)\u001b[0m\n\u001b[1;32m   5796\u001b[0m \u001b[0;34m\u001b[0m\u001b[0m\n\u001b[1;32m   5797\u001b[0m             return self.replace(to_replace, value, inplace=inplace,\n\u001b[0;32m-> 5798\u001b[0;31m                                 limit=limit, regex=regex)\n\u001b[0m\u001b[1;32m   5799\u001b[0m         \u001b[0;32melse\u001b[0m\u001b[0;34m:\u001b[0m\u001b[0;34m\u001b[0m\u001b[0m\n\u001b[1;32m   5800\u001b[0m \u001b[0;34m\u001b[0m\u001b[0m\n",
      "\u001b[0;32m~/anaconda3/lib/python3.6/site-packages/pandas/core/series.py\u001b[0m in \u001b[0;36mreplace\u001b[0;34m(self, to_replace, value, inplace, limit, regex, method)\u001b[0m\n\u001b[1;32m   3427\u001b[0m         return super(Series, self).replace(to_replace=to_replace, value=value,\n\u001b[1;32m   3428\u001b[0m                                            \u001b[0minplace\u001b[0m\u001b[0;34m=\u001b[0m\u001b[0minplace\u001b[0m\u001b[0;34m,\u001b[0m \u001b[0mlimit\u001b[0m\u001b[0;34m=\u001b[0m\u001b[0mlimit\u001b[0m\u001b[0;34m,\u001b[0m\u001b[0;34m\u001b[0m\u001b[0m\n\u001b[0;32m-> 3429\u001b[0;31m                                            regex=regex, method=method)\n\u001b[0m\u001b[1;32m   3430\u001b[0m \u001b[0;34m\u001b[0m\u001b[0m\n\u001b[1;32m   3431\u001b[0m     \u001b[0;34m@\u001b[0m\u001b[0mAppender\u001b[0m\u001b[0;34m(\u001b[0m\u001b[0mgeneric\u001b[0m\u001b[0;34m.\u001b[0m\u001b[0m_shared_docs\u001b[0m\u001b[0;34m[\u001b[0m\u001b[0;34m'shift'\u001b[0m\u001b[0;34m]\u001b[0m \u001b[0;34m%\u001b[0m \u001b[0m_shared_doc_kwargs\u001b[0m\u001b[0;34m)\u001b[0m\u001b[0;34m\u001b[0m\u001b[0m\n",
      "\u001b[0;32m~/anaconda3/lib/python3.6/site-packages/pandas/core/generic.py\u001b[0m in \u001b[0;36mreplace\u001b[0;34m(self, to_replace, value, inplace, limit, regex, method)\u001b[0m\n\u001b[1;32m   5845\u001b[0m                                                        \u001b[0mdest_list\u001b[0m\u001b[0;34m=\u001b[0m\u001b[0mvalue\u001b[0m\u001b[0;34m,\u001b[0m\u001b[0;34m\u001b[0m\u001b[0m\n\u001b[1;32m   5846\u001b[0m                                                        \u001b[0minplace\u001b[0m\u001b[0;34m=\u001b[0m\u001b[0minplace\u001b[0m\u001b[0;34m,\u001b[0m\u001b[0;34m\u001b[0m\u001b[0m\n\u001b[0;32m-> 5847\u001b[0;31m                                                        regex=regex)\n\u001b[0m\u001b[1;32m   5848\u001b[0m \u001b[0;34m\u001b[0m\u001b[0m\n\u001b[1;32m   5849\u001b[0m                 \u001b[0;32melse\u001b[0m\u001b[0;34m:\u001b[0m  \u001b[0;31m# [NA, ''] -> 0\u001b[0m\u001b[0;34m\u001b[0m\u001b[0m\n",
      "\u001b[0;32m~/anaconda3/lib/python3.6/site-packages/pandas/core/internals.py\u001b[0m in \u001b[0;36mreplace_list\u001b[0;34m(self, src_list, dest_list, inplace, regex, mgr)\u001b[0m\n\u001b[1;32m   3737\u001b[0m             \u001b[0;32mreturn\u001b[0m \u001b[0m_maybe_compare\u001b[0m\u001b[0;34m(\u001b[0m\u001b[0mvalues\u001b[0m\u001b[0;34m,\u001b[0m \u001b[0mgetattr\u001b[0m\u001b[0;34m(\u001b[0m\u001b[0ms\u001b[0m\u001b[0;34m,\u001b[0m \u001b[0;34m'asm8'\u001b[0m\u001b[0;34m,\u001b[0m \u001b[0ms\u001b[0m\u001b[0;34m)\u001b[0m\u001b[0;34m,\u001b[0m \u001b[0moperator\u001b[0m\u001b[0;34m.\u001b[0m\u001b[0meq\u001b[0m\u001b[0;34m)\u001b[0m\u001b[0;34m\u001b[0m\u001b[0m\n\u001b[1;32m   3738\u001b[0m \u001b[0;34m\u001b[0m\u001b[0m\n\u001b[0;32m-> 3739\u001b[0;31m         \u001b[0mmasks\u001b[0m \u001b[0;34m=\u001b[0m \u001b[0;34m[\u001b[0m\u001b[0mcomp\u001b[0m\u001b[0;34m(\u001b[0m\u001b[0ms\u001b[0m\u001b[0;34m)\u001b[0m \u001b[0;32mfor\u001b[0m \u001b[0mi\u001b[0m\u001b[0;34m,\u001b[0m \u001b[0ms\u001b[0m \u001b[0;32min\u001b[0m \u001b[0menumerate\u001b[0m\u001b[0;34m(\u001b[0m\u001b[0msrc_list\u001b[0m\u001b[0;34m)\u001b[0m\u001b[0;34m]\u001b[0m\u001b[0;34m\u001b[0m\u001b[0m\n\u001b[0m\u001b[1;32m   3740\u001b[0m \u001b[0;34m\u001b[0m\u001b[0m\n\u001b[1;32m   3741\u001b[0m         \u001b[0mresult_blocks\u001b[0m \u001b[0;34m=\u001b[0m \u001b[0;34m[\u001b[0m\u001b[0;34m]\u001b[0m\u001b[0;34m\u001b[0m\u001b[0m\n",
      "\u001b[0;32m~/anaconda3/lib/python3.6/site-packages/pandas/core/internals.py\u001b[0m in \u001b[0;36m<listcomp>\u001b[0;34m(.0)\u001b[0m\n\u001b[1;32m   3737\u001b[0m             \u001b[0;32mreturn\u001b[0m \u001b[0m_maybe_compare\u001b[0m\u001b[0;34m(\u001b[0m\u001b[0mvalues\u001b[0m\u001b[0;34m,\u001b[0m \u001b[0mgetattr\u001b[0m\u001b[0;34m(\u001b[0m\u001b[0ms\u001b[0m\u001b[0;34m,\u001b[0m \u001b[0;34m'asm8'\u001b[0m\u001b[0;34m,\u001b[0m \u001b[0ms\u001b[0m\u001b[0;34m)\u001b[0m\u001b[0;34m,\u001b[0m \u001b[0moperator\u001b[0m\u001b[0;34m.\u001b[0m\u001b[0meq\u001b[0m\u001b[0;34m)\u001b[0m\u001b[0;34m\u001b[0m\u001b[0m\n\u001b[1;32m   3738\u001b[0m \u001b[0;34m\u001b[0m\u001b[0m\n\u001b[0;32m-> 3739\u001b[0;31m         \u001b[0mmasks\u001b[0m \u001b[0;34m=\u001b[0m \u001b[0;34m[\u001b[0m\u001b[0mcomp\u001b[0m\u001b[0;34m(\u001b[0m\u001b[0ms\u001b[0m\u001b[0;34m)\u001b[0m \u001b[0;32mfor\u001b[0m \u001b[0mi\u001b[0m\u001b[0;34m,\u001b[0m \u001b[0ms\u001b[0m \u001b[0;32min\u001b[0m \u001b[0menumerate\u001b[0m\u001b[0;34m(\u001b[0m\u001b[0msrc_list\u001b[0m\u001b[0;34m)\u001b[0m\u001b[0;34m]\u001b[0m\u001b[0;34m\u001b[0m\u001b[0m\n\u001b[0m\u001b[1;32m   3740\u001b[0m \u001b[0;34m\u001b[0m\u001b[0m\n\u001b[1;32m   3741\u001b[0m         \u001b[0mresult_blocks\u001b[0m \u001b[0;34m=\u001b[0m \u001b[0;34m[\u001b[0m\u001b[0;34m]\u001b[0m\u001b[0;34m\u001b[0m\u001b[0m\n",
      "\u001b[0;32m~/anaconda3/lib/python3.6/site-packages/pandas/core/internals.py\u001b[0m in \u001b[0;36mcomp\u001b[0;34m(s)\u001b[0m\n\u001b[1;32m   3735\u001b[0m             \u001b[0;32mif\u001b[0m \u001b[0misna\u001b[0m\u001b[0;34m(\u001b[0m\u001b[0ms\u001b[0m\u001b[0;34m)\u001b[0m\u001b[0;34m:\u001b[0m\u001b[0;34m\u001b[0m\u001b[0m\n\u001b[1;32m   3736\u001b[0m                 \u001b[0;32mreturn\u001b[0m \u001b[0misna\u001b[0m\u001b[0;34m(\u001b[0m\u001b[0mvalues\u001b[0m\u001b[0;34m)\u001b[0m\u001b[0;34m\u001b[0m\u001b[0m\n\u001b[0;32m-> 3737\u001b[0;31m             \u001b[0;32mreturn\u001b[0m \u001b[0m_maybe_compare\u001b[0m\u001b[0;34m(\u001b[0m\u001b[0mvalues\u001b[0m\u001b[0;34m,\u001b[0m \u001b[0mgetattr\u001b[0m\u001b[0;34m(\u001b[0m\u001b[0ms\u001b[0m\u001b[0;34m,\u001b[0m \u001b[0;34m'asm8'\u001b[0m\u001b[0;34m,\u001b[0m \u001b[0ms\u001b[0m\u001b[0;34m)\u001b[0m\u001b[0;34m,\u001b[0m \u001b[0moperator\u001b[0m\u001b[0;34m.\u001b[0m\u001b[0meq\u001b[0m\u001b[0;34m)\u001b[0m\u001b[0;34m\u001b[0m\u001b[0m\n\u001b[0m\u001b[1;32m   3738\u001b[0m \u001b[0;34m\u001b[0m\u001b[0m\n\u001b[1;32m   3739\u001b[0m         \u001b[0mmasks\u001b[0m \u001b[0;34m=\u001b[0m \u001b[0;34m[\u001b[0m\u001b[0mcomp\u001b[0m\u001b[0;34m(\u001b[0m\u001b[0ms\u001b[0m\u001b[0;34m)\u001b[0m \u001b[0;32mfor\u001b[0m \u001b[0mi\u001b[0m\u001b[0;34m,\u001b[0m \u001b[0ms\u001b[0m \u001b[0;32min\u001b[0m \u001b[0menumerate\u001b[0m\u001b[0;34m(\u001b[0m\u001b[0msrc_list\u001b[0m\u001b[0;34m)\u001b[0m\u001b[0;34m]\u001b[0m\u001b[0;34m\u001b[0m\u001b[0m\n",
      "\u001b[0;32m~/anaconda3/lib/python3.6/site-packages/pandas/core/internals.py\u001b[0m in \u001b[0;36m_maybe_compare\u001b[0;34m(a, b, op)\u001b[0m\n\u001b[1;32m   5163\u001b[0m         raise TypeError(\n\u001b[1;32m   5164\u001b[0m             \"Cannot compare types {a!r} and {b!r}\".format(a=type_names[0],\n\u001b[0;32m-> 5165\u001b[0;31m                                                           b=type_names[1]))\n\u001b[0m\u001b[1;32m   5166\u001b[0m     \u001b[0;32mreturn\u001b[0m \u001b[0mresult\u001b[0m\u001b[0;34m\u001b[0m\u001b[0m\n\u001b[1;32m   5167\u001b[0m \u001b[0;34m\u001b[0m\u001b[0m\n",
      "\u001b[0;31mTypeError\u001b[0m: Cannot compare types 'ndarray(dtype=int64)' and 'str'"
     ]
    }
   ],
   "source": [
    "credit_card_default['SEX'] = credit_card_default['SEX'].replace({'male':1,'female':2})\n",
    "credit_card_default['MARRIAGE'] = credit_card_default['MARRIAGE'].replace({'married':1,'single':2, 'others':3})\n",
    "credit_card_default['EDUCATION'] = credit_card_default['EDUCATION'].replace({'graduate school':1,'university':2, 'highschool':3,'others':4})"
   ]
  },
  {
   "cell_type": "code",
   "execution_count": 172,
   "metadata": {},
   "outputs": [],
   "source": [
    "#Setting target column \n",
    "target_col = 'default payment next month'\n",
    "feature_cols = ['LIMIT_BAL', 'SEX', 'EDUCATION', 'MARRIAGE', 'AGE', 'PAY_0', 'PAY_2',\n",
    "       'PAY_3', 'PAY_4', 'PAY_5', 'PAY_6', 'Credit_Util_Avg']\n",
    " \n",
    "X = credit_card_default.loc[:, feature_cols]\n",
    "y = credit_card_default.loc[:, target_col]"
   ]
  },
  {
   "cell_type": "code",
   "execution_count": 173,
   "metadata": {},
   "outputs": [],
   "source": [
    "#Importing train_test_split from sklearn\n",
    "from sklearn.model_selection import train_test_split\n",
    "\n",
    "X_train, X_test, y_train, y_test = train_test_split(X, y, random_state=24)"
   ]
  },
  {
   "cell_type": "code",
   "execution_count": 174,
   "metadata": {},
   "outputs": [
    {
     "data": {
      "text/plain": [
       "LogisticRegression(C=1.0, class_weight=None, dual=False, fit_intercept=True,\n",
       "          intercept_scaling=1, max_iter=100, multi_class='ovr', n_jobs=1,\n",
       "          penalty='l2', random_state=None, solver='liblinear', tol=0.0001,\n",
       "          verbose=0, warm_start=False)"
      ]
     },
     "execution_count": 174,
     "metadata": {},
     "output_type": "execute_result"
    }
   ],
   "source": [
    "#First Pass = Logistic Regression\n",
    "from sklearn.linear_model import LogisticRegression\n",
    "\n",
    "lr = LogisticRegression()\n",
    "\n",
    "lr.fit(X_train, y_train)"
   ]
  },
  {
   "cell_type": "code",
   "execution_count": 175,
   "metadata": {},
   "outputs": [
    {
     "name": "stdout",
     "output_type": "stream",
     "text": [
      "0.7722666666666667\n",
      "0.7744\n"
     ]
    }
   ],
   "source": [
    "#Score the accuracy score for test and train data. \n",
    "print(lr.score(X_test, y_test))\n",
    "print(lr.score(X_train, y_train))\n",
    "#Currently the model is not overfitting or underfitting. There is low variance but high bias, meaning that there can be a better model than logistic regression"
   ]
  },
  {
   "cell_type": "code",
   "execution_count": 176,
   "metadata": {},
   "outputs": [
    {
     "data": {
      "text/plain": [
       "0    0.773867\n",
       "1    0.226133\n",
       "Name: default payment next month, dtype: float64"
      ]
     },
     "execution_count": 176,
     "metadata": {},
     "output_type": "execute_result"
    }
   ],
   "source": [
    "y.value_counts(normalize=True)\n",
    "#not much better than saying yes everytime, definitely a bias problem"
   ]
  },
  {
   "cell_type": "code",
   "execution_count": 177,
   "metadata": {},
   "outputs": [
    {
     "data": {
      "text/plain": [
       "array([[4344,    0],\n",
       "       [1281,    0]])"
      ]
     },
     "execution_count": 177,
     "metadata": {},
     "output_type": "execute_result"
    }
   ],
   "source": [
    "y_pred = lr.predict(X_test)\n",
    "metrics.confusion_matrix(y_test, y_pred)"
   ]
  },
  {
   "cell_type": "code",
   "execution_count": 178,
   "metadata": {},
   "outputs": [
    {
     "data": {
      "text/plain": [
       "array([0.04400353, 0.21092419, 0.08453606, ..., 0.08223236, 0.34479853,\n",
       "       0.28739112])"
      ]
     },
     "execution_count": 178,
     "metadata": {},
     "output_type": "execute_result"
    }
   ],
   "source": [
    "y_pred_prob = lr.predict_proba(X_test)[:, 1]\n",
    "y_pred_prob"
   ]
  },
  {
   "cell_type": "code",
   "execution_count": 179,
   "metadata": {},
   "outputs": [
    {
     "data": {
      "text/plain": [
       "array([[2655, 1689],\n",
       "       [ 589,  692]])"
      ]
     },
     "execution_count": 179,
     "metadata": {},
     "output_type": "execute_result"
    }
   ],
   "source": [
    "y_pred_low_thresh = y_pred_prob > .3\n",
    "metrics.confusion_matrix(y_test, y_pred_low_thresh)"
   ]
  },
  {
   "cell_type": "code",
   "execution_count": 180,
   "metadata": {},
   "outputs": [
    {
     "name": "stdout",
     "output_type": "stream",
     "text": [
      "threshold\n",
      "precision: 0.22777382645803698\n",
      "recall: 1.0\n",
      "f1: 0.3710354815351195\n",
      "f2: 0.5959248232229252\n",
      "f1/2: 0.26937797030744\n",
      "\n",
      "threshold\n",
      "precision: 0.24842484248424843\n",
      "recall: 0.8618266978922716\n",
      "f1: 0.3856768558951965\n",
      "f2: 0.5769230769230769\n",
      "f1/2: 0.28965734375819907\n",
      "\n",
      "threshold\n",
      "precision: 0.2915427114322142\n",
      "recall: 0.5355191256830601\n",
      "f1: 0.37754540451293345\n",
      "f2: 0.4587401364183496\n",
      "f1/2: 0.3207705975872066\n",
      "\n",
      "threshold\n",
      "precision: 0.0\n",
      "recall: 0.0\n",
      "f1: 0.0\n",
      "f2: 0.0\n",
      "f1/2: 0.0\n",
      "\n"
     ]
    },
    {
     "name": "stderr",
     "output_type": "stream",
     "text": [
      "/Users/AnnaHuang/anaconda3/lib/python3.6/site-packages/sklearn/metrics/classification.py:1135: UndefinedMetricWarning: Precision is ill-defined and being set to 0.0 due to no predicted samples.\n",
      "  'precision', 'predicted', average, warn_for)\n",
      "/Users/AnnaHuang/anaconda3/lib/python3.6/site-packages/sklearn/metrics/classification.py:1135: UndefinedMetricWarning: F-score is ill-defined and being set to 0.0 due to no predicted samples.\n",
      "  'precision', 'predicted', average, warn_for)\n",
      "/Users/AnnaHuang/anaconda3/lib/python3.6/site-packages/sklearn/metrics/classification.py:1135: UndefinedMetricWarning: F-score is ill-defined and being set to 0.0 due to no predicted samples.\n",
      "  'precision', 'predicted', average, warn_for)\n",
      "/Users/AnnaHuang/anaconda3/lib/python3.6/site-packages/sklearn/metrics/classification.py:1135: UndefinedMetricWarning: F-score is ill-defined and being set to 0.0 due to no predicted samples.\n",
      "  'precision', 'predicted', average, warn_for)\n"
     ]
    }
   ],
   "source": [
    "#Calculating precision, recall, F_1, F_2, and F_{1/2} for our admission model at different thresholds\n",
    "#Higher the beta, the more I care about recall \n",
    "from sklearn import metrics \n",
    "\n",
    "for threshold in np.linspace(y_pred_prob.min(), y_pred_prob.max(), 4):\n",
    "    y_pred_thresh = y_pred_prob > threshold\n",
    "    print('threshold')\n",
    "    print('precision:', metrics.precision_score(y_test, y_pred_thresh))\n",
    "    print('recall:', metrics.recall_score(y_test, y_pred_thresh))\n",
    "    print('f1:', metrics.f1_score(y_test, y_pred_thresh))\n",
    "    print('f2:', metrics.fbeta_score(y_test, y_pred_thresh, 2))\n",
    "    print('f1/2:', metrics.fbeta_score(y_test, y_pred_thresh, .5))\n",
    "    print()"
   ]
  },
  {
   "cell_type": "code",
   "execution_count": 181,
   "metadata": {},
   "outputs": [
    {
     "name": "stdout",
     "output_type": "stream",
     "text": [
      "0.5970432145564821 0.0524390327046559\n"
     ]
    },
    {
     "name": "stderr",
     "output_type": "stream",
     "text": [
      "/Users/AnnaHuang/anaconda3/lib/python3.6/site-packages/sklearn/metrics/classification.py:1135: UndefinedMetricWarning: F-score is ill-defined and being set to 0.0 due to no predicted samples.\n",
      "  'precision', 'predicted', average, warn_for)\n"
     ]
    }
   ],
   "source": [
    "#identifying the best score and threshold for F2\n",
    "from sklearn import metrics\n",
    "\n",
    "best_score = -1\n",
    "best_threshold = -1\n",
    "\n",
    "for threshold in sorted(y_pred_prob):\n",
    "    y_pred_thresh = y_pred_prob > threshold\n",
    "    score = metrics.fbeta_score(y_test, y_pred_thresh,beta=2)\n",
    "    if score > best_score:\n",
    "        best_score = score\n",
    "        best_threshold = threshold\n",
    "print(best_score, best_threshold)"
   ]
  },
  {
   "cell_type": "code",
   "execution_count": 182,
   "metadata": {},
   "outputs": [
    {
     "data": {
      "text/plain": [
       "array([[ 176, 4168],\n",
       "       [  21, 1260]])"
      ]
     },
     "execution_count": 182,
     "metadata": {},
     "output_type": "execute_result"
    }
   ],
   "source": [
    "#Calculate the confusion matrix for the best threshold for f2\n",
    "y_pred_thresh = y_pred_prob > best_threshold\n",
    "metrics.confusion_matrix(y_test, y_pred_thresh)"
   ]
  },
  {
   "cell_type": "code",
   "execution_count": 183,
   "metadata": {},
   "outputs": [
    {
     "name": "stdout",
     "output_type": "stream",
     "text": [
      "accuracy score: 0.2552888888888889\n",
      "precision score: 0.23212969786293294\n",
      "recall score: 0.9836065573770492\n",
      "f2 score: 0.5970432145564821\n"
     ]
    }
   ],
   "source": [
    "#Calculate the test-set accuracy, precision, recall and F2 score for model \n",
    "print('accuracy score:', metrics.accuracy_score(y_test, y_pred_thresh))\n",
    "print('precision score:', metrics.precision_score(y_test, y_pred_thresh))\n",
    "print('recall score:', metrics.recall_score(y_test, y_pred_thresh))\n",
    "print('f2 score:', metrics.fbeta_score(y_test, y_pred_thresh,beta=2))"
   ]
  },
  {
   "cell_type": "markdown",
   "metadata": {},
   "source": [
    "Accuracy score can be misleading when classes are imbalanced and they do not account for the relative costs of false positives and false negatives. \n",
    "- Precision measures a model's ability to avoid false positives. \n",
    "- Recall measures a model's ability to avoid false negatives. \n",
    "- $F_\\beta$ score allows you to weigh precision against recall to select best overall mdoel even when the costs of false positives and false negatives are unequal."
   ]
  },
  {
   "cell_type": "code",
   "execution_count": null,
   "metadata": {},
   "outputs": [],
   "source": []
  },
  {
   "cell_type": "code",
   "execution_count": 160,
   "metadata": {},
   "outputs": [],
   "source": [
    "#Setting target column \n",
    "target_col = 'default payment next month'\n",
    "feature_cols = ['LIMIT_BAL', 'SEX', 'EDUCATION', 'MARRIAGE', 'AGE', 'Credit_Util_Pay_Status_Avg']\n",
    "\n",
    "#ECOA: feature_cols = ['LIMIT_BAL', 'EDUCATION', 'Credit_Util_Pay_Status_Avg']\n",
    "                 \n",
    "X = credit_card_default.loc[:, feature_cols]\n",
    "y = credit_card_default.loc[:, target_col]"
   ]
  },
  {
   "cell_type": "code",
   "execution_count": 161,
   "metadata": {},
   "outputs": [],
   "source": [
    "#Importing train_test_split from sklearn\n",
    "from sklearn.model_selection import train_test_split\n",
    "\n",
    "X_train, X_test, y_train, y_test = train_test_split(X, y)"
   ]
  },
  {
   "cell_type": "code",
   "execution_count": 162,
   "metadata": {},
   "outputs": [
    {
     "data": {
      "text/plain": [
       "LogisticRegression(C=1.0, class_weight=None, dual=False, fit_intercept=True,\n",
       "          intercept_scaling=1, max_iter=100, multi_class='ovr', n_jobs=1,\n",
       "          penalty='l2', random_state=None, solver='liblinear', tol=0.0001,\n",
       "          verbose=0, warm_start=False)"
      ]
     },
     "execution_count": 162,
     "metadata": {},
     "output_type": "execute_result"
    }
   ],
   "source": [
    "#First Pass = Logistic Regression\n",
    "from sklearn.linear_model import LogisticRegression\n",
    "\n",
    "lr = LogisticRegression()\n",
    "\n",
    "lr.fit(X_train, y_train)"
   ]
  },
  {
   "cell_type": "code",
   "execution_count": 163,
   "metadata": {},
   "outputs": [
    {
     "name": "stdout",
     "output_type": "stream",
     "text": [
      "0.7768888888888889\n",
      "0.7728592592592592\n"
     ]
    }
   ],
   "source": [
    "#Score the accuracy score for test and train data. \n",
    "print(lr.score(X_test, y_test))\n",
    "print(lr.score(X_train, y_train))\n",
    "#Currently the model is not overfitting or underfitting. There is low variance but high bias, meaning that there can be a better model than logistic regression"
   ]
  },
  {
   "cell_type": "code",
   "execution_count": 164,
   "metadata": {},
   "outputs": [
    {
     "data": {
      "text/plain": [
       "0    0.773867\n",
       "1    0.226133\n",
       "Name: default payment next month, dtype: float64"
      ]
     },
     "execution_count": 164,
     "metadata": {},
     "output_type": "execute_result"
    }
   ],
   "source": [
    "y.value_counts(normalize=True)\n",
    "#not much better than saying yes everytime, definitely a bias problem"
   ]
  },
  {
   "cell_type": "code",
   "execution_count": 165,
   "metadata": {},
   "outputs": [
    {
     "data": {
      "text/plain": [
       "array([[4370,    0],\n",
       "       [1255,    0]])"
      ]
     },
     "execution_count": 165,
     "metadata": {},
     "output_type": "execute_result"
    }
   ],
   "source": [
    "y_pred = lr.predict(X_test)\n",
    "metrics.confusion_matrix(y_test, y_pred)"
   ]
  },
  {
   "cell_type": "code",
   "execution_count": 166,
   "metadata": {},
   "outputs": [
    {
     "data": {
      "text/plain": [
       "array([0.41663725, 0.30835442, 0.30835442, ..., 0.38432503, 0.30835442,\n",
       "       0.15670308])"
      ]
     },
     "execution_count": 166,
     "metadata": {},
     "output_type": "execute_result"
    }
   ],
   "source": [
    "y_pred_prob = lr.predict_proba(X_test)[:, 1]\n",
    "y_pred_prob"
   ]
  },
  {
   "cell_type": "code",
   "execution_count": 167,
   "metadata": {},
   "outputs": [
    {
     "data": {
      "text/plain": [
       "array([[2490, 1880],\n",
       "       [ 495,  760]])"
      ]
     },
     "execution_count": 167,
     "metadata": {},
     "output_type": "execute_result"
    }
   ],
   "source": [
    "y_pred_low_thresh = y_pred_prob > .3\n",
    "metrics.confusion_matrix(y_test, y_pred_low_thresh)"
   ]
  },
  {
   "cell_type": "code",
   "execution_count": 168,
   "metadata": {},
   "outputs": [
    {
     "name": "stdout",
     "output_type": "stream",
     "text": [
      "threshold\n",
      "precision: 0.22315078236130867\n",
      "recall: 1.0\n",
      "f1: 0.3648786160779183\n",
      "f2: 0.5895340097707629\n",
      "f1/2: 0.26419940213043663\n",
      "\n",
      "threshold\n",
      "precision: 0.24936621341322884\n",
      "recall: 0.8621513944223107\n",
      "f1: 0.38684304612084375\n",
      "f2: 0.5780532108131211\n",
      "f1/2: 0.29068830261673206\n",
      "\n",
      "threshold\n",
      "precision: 0.2911846828879138\n",
      "recall: 0.5816733067729084\n",
      "f1: 0.38809144072301965\n",
      "f2: 0.4849209512421948\n",
      "f1/2: 0.3234955242400071\n",
      "\n",
      "threshold\n",
      "precision: 0.0\n",
      "recall: 0.0\n",
      "f1: 0.0\n",
      "f2: 0.0\n",
      "f1/2: 0.0\n",
      "\n"
     ]
    },
    {
     "name": "stderr",
     "output_type": "stream",
     "text": [
      "/Users/AnnaHuang/anaconda3/lib/python3.6/site-packages/sklearn/metrics/classification.py:1135: UndefinedMetricWarning: Precision is ill-defined and being set to 0.0 due to no predicted samples.\n",
      "  'precision', 'predicted', average, warn_for)\n",
      "/Users/AnnaHuang/anaconda3/lib/python3.6/site-packages/sklearn/metrics/classification.py:1135: UndefinedMetricWarning: F-score is ill-defined and being set to 0.0 due to no predicted samples.\n",
      "  'precision', 'predicted', average, warn_for)\n",
      "/Users/AnnaHuang/anaconda3/lib/python3.6/site-packages/sklearn/metrics/classification.py:1135: UndefinedMetricWarning: F-score is ill-defined and being set to 0.0 due to no predicted samples.\n",
      "  'precision', 'predicted', average, warn_for)\n",
      "/Users/AnnaHuang/anaconda3/lib/python3.6/site-packages/sklearn/metrics/classification.py:1135: UndefinedMetricWarning: F-score is ill-defined and being set to 0.0 due to no predicted samples.\n",
      "  'precision', 'predicted', average, warn_for)\n"
     ]
    }
   ],
   "source": [
    "#Calculating precision, recall, F_1, F_2, and F_{1/2} for our admission model at different thresholds\n",
    "#Higher the beta, the more I care about recall \n",
    "from sklearn import metrics \n",
    "\n",
    "for threshold in np.linspace(y_pred_prob.min(), y_pred_prob.max(), 4):\n",
    "    y_pred_thresh = y_pred_prob > threshold\n",
    "    print('threshold')\n",
    "    print('precision:', metrics.precision_score(y_test, y_pred_thresh))\n",
    "    print('recall:', metrics.recall_score(y_test, y_pred_thresh))\n",
    "    print('f1:', metrics.f1_score(y_test, y_pred_thresh))\n",
    "    print('f2:', metrics.fbeta_score(y_test, y_pred_thresh, 2))\n",
    "    print('f1/2:', metrics.fbeta_score(y_test, y_pred_thresh, .5))\n",
    "    print()"
   ]
  },
  {
   "cell_type": "code",
   "execution_count": 169,
   "metadata": {},
   "outputs": [
    {
     "name": "stdout",
     "output_type": "stream",
     "text": [
      "0.5920107289970304 0.04324532164202757\n"
     ]
    },
    {
     "name": "stderr",
     "output_type": "stream",
     "text": [
      "/Users/AnnaHuang/anaconda3/lib/python3.6/site-packages/sklearn/metrics/classification.py:1135: UndefinedMetricWarning: F-score is ill-defined and being set to 0.0 due to no predicted samples.\n",
      "  'precision', 'predicted', average, warn_for)\n"
     ]
    }
   ],
   "source": [
    "#identifying the best score and threshold for F2\n",
    "from sklearn import metrics\n",
    "\n",
    "best_score = -1\n",
    "best_threshold = -1\n",
    "\n",
    "for threshold in sorted(y_pred_prob):\n",
    "    y_pred_thresh = y_pred_prob > threshold\n",
    "    score = metrics.fbeta_score(y_test, y_pred_thresh,beta=2)\n",
    "    if score > best_score:\n",
    "        best_score = score\n",
    "        best_threshold = threshold\n",
    "print(best_score, best_threshold)"
   ]
  },
  {
   "cell_type": "code",
   "execution_count": 170,
   "metadata": {},
   "outputs": [
    {
     "data": {
      "text/plain": [
       "array([[ 187, 4183],\n",
       "       [  19, 1236]])"
      ]
     },
     "execution_count": 170,
     "metadata": {},
     "output_type": "execute_result"
    }
   ],
   "source": [
    "#Calculate the confusion matrix for the best threshold for f2\n",
    "y_pred_thresh = y_pred_prob > best_threshold\n",
    "metrics.confusion_matrix(y_test, y_pred_thresh)"
   ]
  },
  {
   "cell_type": "code",
   "execution_count": 171,
   "metadata": {},
   "outputs": [
    {
     "name": "stdout",
     "output_type": "stream",
     "text": [
      "accuracy score: 0.2529777777777778\n",
      "precision score: 0.2280863627975641\n",
      "recall score: 0.9848605577689243\n",
      "f2 score: 0.5920107289970304\n"
     ]
    }
   ],
   "source": [
    "#Calculate the test-set accuracy, precision, recall and F2 score for model \n",
    "print('accuracy score:', metrics.accuracy_score(y_test, y_pred_thresh))\n",
    "print('precision score:', metrics.precision_score(y_test, y_pred_thresh))\n",
    "print('recall score:', metrics.recall_score(y_test, y_pred_thresh))\n",
    "print('f2 score:', metrics.fbeta_score(y_test, y_pred_thresh,beta=2))"
   ]
  },
  {
   "cell_type": "code",
   "execution_count": null,
   "metadata": {},
   "outputs": [],
   "source": []
  },
  {
   "cell_type": "code",
   "execution_count": 1,
   "metadata": {},
   "outputs": [],
   "source": [
    "#predictions of X_test and compare it to y_test\n",
    "#list(zip(lr.predict(X_test), y_test))"
   ]
  },
  {
   "cell_type": "code",
   "execution_count": null,
   "metadata": {},
   "outputs": [],
   "source": []
  },
  {
   "cell_type": "code",
   "execution_count": null,
   "metadata": {},
   "outputs": [],
   "source": []
  },
  {
   "cell_type": "code",
   "execution_count": null,
   "metadata": {},
   "outputs": [],
   "source": []
  },
  {
   "cell_type": "code",
   "execution_count": null,
   "metadata": {},
   "outputs": [],
   "source": []
  },
  {
   "cell_type": "markdown",
   "metadata": {},
   "source": [
    "$\\blacksquare$ Decision Tree Classifier"
   ]
  },
  {
   "cell_type": "code",
   "execution_count": 47,
   "metadata": {},
   "outputs": [
    {
     "name": "stdout",
     "output_type": "stream",
     "text": [
      "0.8192\n",
      "0.8209777777777778\n"
     ]
    }
   ],
   "source": [
    "target_col = 'default payment next month'\n",
    "feature_cols = ['LIMIT_BAL', 'SEX', 'EDUCATION', 'MARRIAGE', 'AGE', 'PAY_0', 'PAY_2',\n",
    "       'PAY_3', 'PAY_4', 'PAY_5', 'PAY_6', 'Credit_Util_Avg']\n",
    "                 \n",
    "X = credit_card_default.loc[:, feature_cols]\n",
    "y = credit_card_default.loc[:, target_col]\n",
    "\n",
    "from sklearn.model_selection import train_test_split\n",
    "\n",
    "X_train, X_test, y_train, y_test = train_test_split(X, y)\n",
    "\n",
    "from sklearn.tree import DecisionTreeClassifier\n",
    "\n",
    "dtc = DecisionTreeClassifier(max_depth=5)\n",
    "dtc.fit(X_train, y_train)\n",
    "\n",
    "print(dtc.score(X_train, y_train))\n",
    "print(dtc.score(X_test, y_test))\n",
    "#Overfitting. The training data set is doing a lot better than test data set. "
   ]
  },
  {
   "cell_type": "code",
   "execution_count": 48,
   "metadata": {},
   "outputs": [
    {
     "data": {
      "text/plain": [
       "0    0.773867\n",
       "1    0.226133\n",
       "Name: default payment next month, dtype: float64"
      ]
     },
     "execution_count": 48,
     "metadata": {},
     "output_type": "execute_result"
    }
   ],
   "source": [
    "y.value_counts(normalize=True) #model is doing worse"
   ]
  },
  {
   "cell_type": "code",
   "execution_count": 49,
   "metadata": {},
   "outputs": [
    {
     "data": {
      "text/plain": [
       "array([[4145,  234],\n",
       "       [ 773,  473]])"
      ]
     },
     "execution_count": 49,
     "metadata": {},
     "output_type": "execute_result"
    }
   ],
   "source": [
    "y_pred = dtc.predict(X_test)\n",
    "metrics.confusion_matrix(y_test, y_pred)"
   ]
  },
  {
   "cell_type": "code",
   "execution_count": 50,
   "metadata": {},
   "outputs": [
    {
     "data": {
      "text/plain": [
       "array([0.19897959, 0.17824074, 0.69705882, ..., 0.11183991, 0.11183991,\n",
       "       0.11183991])"
      ]
     },
     "execution_count": 50,
     "metadata": {},
     "output_type": "execute_result"
    }
   ],
   "source": [
    "y_pred_prob = dtc.predict_proba(X_test)[:, 1]\n",
    "y_pred_prob"
   ]
  },
  {
   "cell_type": "code",
   "execution_count": 51,
   "metadata": {},
   "outputs": [
    {
     "name": "stdout",
     "output_type": "stream",
     "text": [
      "threshold\n",
      "precision: 0.22123421661035034\n",
      "recall: 0.9983948635634029\n",
      "f1: 0.362207017033047\n",
      "f2: 0.5864052041104931\n",
      "f1/2: 0.262027129497009\n",
      "\n",
      "threshold\n",
      "precision: 0.5448449287510477\n",
      "recall: 0.521669341894061\n",
      "f1: 0.5330053300533005\n",
      "f2: 0.5261453780152178\n",
      "f1/2: 0.5400465270854103\n",
      "\n",
      "threshold\n",
      "precision: 0.72265625\n",
      "recall: 0.14847512038523275\n",
      "f1: 0.24633821571238346\n",
      "f2: 0.1765267175572519\n",
      "f1/2: 0.407488986784141\n",
      "\n",
      "threshold\n",
      "precision: 0.0\n",
      "recall: 0.0\n",
      "f1: 0.0\n",
      "f2: 0.0\n",
      "f1/2: 0.0\n",
      "\n"
     ]
    },
    {
     "name": "stderr",
     "output_type": "stream",
     "text": [
      "/Users/AnnaHuang/anaconda3/lib/python3.6/site-packages/sklearn/metrics/classification.py:1135: UndefinedMetricWarning: Precision is ill-defined and being set to 0.0 due to no predicted samples.\n",
      "  'precision', 'predicted', average, warn_for)\n",
      "/Users/AnnaHuang/anaconda3/lib/python3.6/site-packages/sklearn/metrics/classification.py:1135: UndefinedMetricWarning: F-score is ill-defined and being set to 0.0 due to no predicted samples.\n",
      "  'precision', 'predicted', average, warn_for)\n",
      "/Users/AnnaHuang/anaconda3/lib/python3.6/site-packages/sklearn/metrics/classification.py:1135: UndefinedMetricWarning: F-score is ill-defined and being set to 0.0 due to no predicted samples.\n",
      "  'precision', 'predicted', average, warn_for)\n",
      "/Users/AnnaHuang/anaconda3/lib/python3.6/site-packages/sklearn/metrics/classification.py:1135: UndefinedMetricWarning: F-score is ill-defined and being set to 0.0 due to no predicted samples.\n",
      "  'precision', 'predicted', average, warn_for)\n"
     ]
    }
   ],
   "source": [
    "#Calculating precision, recall, F_1, F_2, and F_{1/2} for our admission model at different thresholds\n",
    "#Higher the beta, the more I care about recall \n",
    "from sklearn import metrics \n",
    "\n",
    "for threshold in np.linspace(y_pred_prob.min(), y_pred_prob.max(), 4):\n",
    "    y_pred_thresh = y_pred_prob > threshold\n",
    "    print('threshold')\n",
    "    print('precision:', metrics.precision_score(y_test, y_pred_thresh))\n",
    "    print('recall:', metrics.recall_score(y_test, y_pred_thresh))\n",
    "    print('f1:', metrics.f1_score(y_test, y_pred_thresh))\n",
    "    print('f2:', metrics.fbeta_score(y_test, y_pred_thresh, 2))\n",
    "    print('f1/2:', metrics.fbeta_score(y_test, y_pred_thresh, .5))\n",
    "    print()"
   ]
  },
  {
   "cell_type": "code",
   "execution_count": 52,
   "metadata": {},
   "outputs": [
    {
     "name": "stdout",
     "output_type": "stream",
     "text": [
      "0.6005031779661016 0.11183991106170095\n"
     ]
    },
    {
     "name": "stderr",
     "output_type": "stream",
     "text": [
      "/Users/AnnaHuang/anaconda3/lib/python3.6/site-packages/sklearn/metrics/classification.py:1135: UndefinedMetricWarning: F-score is ill-defined and being set to 0.0 due to no predicted samples.\n",
      "  'precision', 'predicted', average, warn_for)\n",
      "/Users/AnnaHuang/anaconda3/lib/python3.6/site-packages/sklearn/metrics/classification.py:1135: UndefinedMetricWarning: F-score is ill-defined and being set to 0.0 due to no predicted samples.\n",
      "  'precision', 'predicted', average, warn_for)\n"
     ]
    }
   ],
   "source": [
    "#identifying the best score and threshold for F2\n",
    "from sklearn import metrics\n",
    "\n",
    "best_score = -1\n",
    "best_threshold = -1\n",
    "\n",
    "for threshold in sorted(y_pred_prob):\n",
    "    y_pred_thresh = y_pred_prob > threshold\n",
    "    score = metrics.fbeta_score(y_test, y_pred_thresh,beta=2)\n",
    "    if score > best_score:\n",
    "        best_score = score\n",
    "        best_threshold = threshold\n",
    "print(best_score, best_threshold)"
   ]
  },
  {
   "cell_type": "code",
   "execution_count": 32,
   "metadata": {},
   "outputs": [
    {
     "data": {
      "text/plain": [
       "array([[   5, 4355],\n",
       "       [   3, 1262]])"
      ]
     },
     "execution_count": 32,
     "metadata": {},
     "output_type": "execute_result"
    }
   ],
   "source": [
    "#Calculate the confusion matrix for the best threshold for f2\n",
    "y_pred_thresh = y_pred_prob > best_threshold\n",
    "metrics.confusion_matrix(y_test, y_pred_thresh)"
   ]
  },
  {
   "cell_type": "code",
   "execution_count": 33,
   "metadata": {},
   "outputs": [
    {
     "name": "stdout",
     "output_type": "stream",
     "text": [
      "accuracy score: 0.22524444444444444\n",
      "precision score: 0.22467509346626313\n",
      "recall score: 0.9976284584980237\n",
      "f2 score: 0.5909899784583684\n"
     ]
    }
   ],
   "source": [
    "#Calculate the test-set accuracy, precision, recall and F2 score for model \n",
    "print('accuracy score:', metrics.accuracy_score(y_test, y_pred_thresh))\n",
    "print('precision score:', metrics.precision_score(y_test, y_pred_thresh))\n",
    "print('recall score:', metrics.recall_score(y_test, y_pred_thresh))\n",
    "print('f2 score:', metrics.fbeta_score(y_test, y_pred_thresh,beta=2))"
   ]
  },
  {
   "cell_type": "markdown",
   "metadata": {},
   "source": [
    "$\\blacksquare$ Tuning a Decision Tree"
   ]
  },
  {
   "cell_type": "code",
   "execution_count": null,
   "metadata": {},
   "outputs": [],
   "source": [
    "# Try different values one by one.\n",
    "from sklearn.model_selection import cross_val_score, KFold\n",
    "\n",
    "target_col = 'default payment next month'\n",
    "feature_cols = ['LIMIT_BAL', 'SEX', 'EDUCATION', 'MARRIAGE', 'AGE', 'PAY_0', 'PAY_2',\n",
    "       'PAY_3', 'PAY_4', 'PAY_5', 'PAY_6', 'Credit_Util_Avg']\n",
    "                 \n",
    "X = credit_card_default.loc[:, feature_cols]\n",
    "y = credit_card_default.loc[:, target_col]\n",
    "\n",
    "kf = KFold(n_splits=len(X), shuffle=True) #using every row once because 14 rows\n",
    "\n",
    "dtc = DecisionTreeClassifier(max_depth=1, random_state=1)\n",
    "scores = cross_val_score(dtc, X, y, cv=kf, scoring='neg_mean_squared_error') #cross_val_score uses neg mean squared error\n",
    "mse= -np.array(scores).mean() #turn mean squared error back to positive because scoring can not be positive unforunately\n",
    "print(mse)\n",
    "rmse=np.sqrt(mse)\n",
    "rmse"
   ]
  },
  {
   "cell_type": "code",
   "execution_count": null,
   "metadata": {},
   "outputs": [],
   "source": [
    "# Use a loop to try a range of values\n",
    "max_depth_range = range(1, 8)\n",
    "\n",
    "rmse_scores = []\n",
    "\n",
    "for depth in max_depth_range:\n",
    "    dtc = DecisionTreeClassifier(max_depth=depth, random_state=1)\n",
    "    neg_mse_scores = cross_val_score(dtc, X, y, cv=kf, scoring='neg_mean_squared_error')\n",
    "    mse_scores = -np.array(neg_mse_scores)\n",
    "    mse_ave_score = mse_scores.mean()\n",
    "    rmse_ave_score = np.sqrt(mse_ave_score)\n",
    "    rmse_scores.append(rmse_ave_score)\n",
    "\n",
    "rmse_scores"
   ]
  },
  {
   "cell_type": "code",
   "execution_count": null,
   "metadata": {},
   "outputs": [],
   "source": [
    "# Plot max_depth (x-axis) versus RMSE (y-axis).\n",
    "fig, ax = plt.subplots()\n",
    "ax.plot(max_depth_range, rmse_scores)\n",
    "ax.set_xlabel('max_depth')\n",
    "ax.set_ylabel('RMSE (lower is better)');"
   ]
  },
  {
   "cell_type": "code",
   "execution_count": null,
   "metadata": {},
   "outputs": [],
   "source": [
    "# max_depth=4 was best, so fit a tree using that parameter.\n",
    "dtc = DecisionTreeClassifier(max_depth=4, random_state=1)\n",
    "dtc.fit(X,y)"
   ]
  },
  {
   "cell_type": "code",
   "execution_count": null,
   "metadata": {},
   "outputs": [],
   "source": []
  },
  {
   "cell_type": "code",
   "execution_count": null,
   "metadata": {},
   "outputs": [],
   "source": []
  },
  {
   "cell_type": "code",
   "execution_count": null,
   "metadata": {},
   "outputs": [],
   "source": []
  },
  {
   "cell_type": "code",
   "execution_count": null,
   "metadata": {},
   "outputs": [],
   "source": []
  },
  {
   "cell_type": "code",
   "execution_count": null,
   "metadata": {},
   "outputs": [],
   "source": []
  },
  {
   "cell_type": "code",
   "execution_count": null,
   "metadata": {},
   "outputs": [],
   "source": []
  },
  {
   "cell_type": "markdown",
   "metadata": {},
   "source": [
    "$\\blacksquare$ Finding the best max depth = 5 using cross-validation"
   ]
  },
  {
   "cell_type": "code",
   "execution_count": null,
   "metadata": {},
   "outputs": [],
   "source": [
    "max_depth_range = range(1,21)\n",
    "from sklearn.model_selection import cross_val_score, KFold\n",
    "\n",
    "scores = []\n",
    "\n",
    "kf = KFold(n_splits=10, shuffle=True)\n",
    "\n",
    "for depth in max_depth_range:\n",
    "    dtc = DecisionTreeClassifier(max_depth=depth, random_state=1)\n",
    "    scores.append(cross_val_score(dtc, X, y, cv=kf).mean())\n",
    "    \n",
    "scores"
   ]
  },
  {
   "cell_type": "code",
   "execution_count": null,
   "metadata": {},
   "outputs": [],
   "source": [
    "fig, ax = plt.subplots()\n",
    "ax.plot(max_depth_range, scores)\n",
    "ax.set_xlabel('max_depth')\n",
    "ax.set_ylabel('R^2 (higher is better)');"
   ]
  },
  {
   "cell_type": "code",
   "execution_count": null,
   "metadata": {},
   "outputs": [],
   "source": [
    "sorted(zip(scores, max_depth_range))[::-1]"
   ]
  },
  {
   "cell_type": "code",
   "execution_count": null,
   "metadata": {},
   "outputs": [],
   "source": [
    "dtc = DecisionTreeClassifier(max_depth=5, random_state=1)\n",
    "dtc.fit(X,y)"
   ]
  },
  {
   "cell_type": "code",
   "execution_count": null,
   "metadata": {},
   "outputs": [],
   "source": [
    "sorted(zip(dtc.feature_importances_, feature_cols))[::-1]"
   ]
  },
  {
   "cell_type": "code",
   "execution_count": null,
   "metadata": {},
   "outputs": [],
   "source": []
  },
  {
   "cell_type": "code",
   "execution_count": null,
   "metadata": {},
   "outputs": [],
   "source": []
  },
  {
   "cell_type": "code",
   "execution_count": null,
   "metadata": {},
   "outputs": [],
   "source": []
  },
  {
   "cell_type": "code",
   "execution_count": null,
   "metadata": {},
   "outputs": [],
   "source": []
  },
  {
   "cell_type": "code",
   "execution_count": null,
   "metadata": {},
   "outputs": [],
   "source": []
  },
  {
   "cell_type": "markdown",
   "metadata": {},
   "source": [
    "$\\blacksquare$ Random Forest Classifier"
   ]
  },
  {
   "cell_type": "code",
   "execution_count": 55,
   "metadata": {},
   "outputs": [
    {
     "name": "stdout",
     "output_type": "stream",
     "text": [
      "0.8210962962962963\n",
      "0.8136888888888889\n"
     ]
    }
   ],
   "source": [
    "target_col = 'default payment next month'\n",
    "feature_cols = ['LIMIT_BAL', 'SEX', 'EDUCATION', 'MARRIAGE', 'AGE', 'PAY_0', 'PAY_2',\n",
    "       'PAY_3', 'PAY_4', 'PAY_5', 'PAY_6', 'Credit_Util_Avg']\n",
    "                 \n",
    "X = credit_card_default.loc[:, feature_cols]\n",
    "y = credit_card_default.loc[:, target_col]\n",
    "\n",
    "from sklearn.model_selection import train_test_split\n",
    "\n",
    "X_train, X_test, y_train, y_test = train_test_split(X, y, random_state=5)\n",
    "\n",
    "from sklearn.ensemble import RandomForestClassifier\n",
    "\n",
    "rfc = RandomForestClassifier(n_estimators=200, oob_score=True, max_depth=5) \n",
    "\n",
    "rfc.fit(X_train, y_train)\n",
    "\n",
    "print(rfc.score(X_train, y_train))\n",
    "print(rfc.score(X_test, y_test))"
   ]
  },
  {
   "cell_type": "code",
   "execution_count": 56,
   "metadata": {},
   "outputs": [
    {
     "data": {
      "text/plain": [
       "0    0.773867\n",
       "1    0.226133\n",
       "Name: default payment next month, dtype: float64"
      ]
     },
     "execution_count": 56,
     "metadata": {},
     "output_type": "execute_result"
    }
   ],
   "source": [
    "y.value_counts(normalize=True)"
   ]
  },
  {
   "cell_type": "code",
   "execution_count": 57,
   "metadata": {},
   "outputs": [
    {
     "data": {
      "text/plain": [
       "array([[4102,  219],\n",
       "       [ 829,  475]])"
      ]
     },
     "execution_count": 57,
     "metadata": {},
     "output_type": "execute_result"
    }
   ],
   "source": [
    "y_pred = rfc.predict(X_test)\n",
    "metrics.confusion_matrix(y_test, y_pred)"
   ]
  },
  {
   "cell_type": "code",
   "execution_count": 58,
   "metadata": {},
   "outputs": [
    {
     "data": {
      "text/plain": [
       "array([0.15610711, 0.6198673 , 0.11905841, ..., 0.54935705, 0.14885283,\n",
       "       0.14683615])"
      ]
     },
     "execution_count": 58,
     "metadata": {},
     "output_type": "execute_result"
    }
   ],
   "source": [
    "y_pred_prob = rfc.predict_proba(X_test)[:, 1]\n",
    "y_pred_prob"
   ]
  },
  {
   "cell_type": "code",
   "execution_count": 59,
   "metadata": {},
   "outputs": [
    {
     "data": {
      "text/plain": [
       "array([[3801,  520],\n",
       "       [ 660,  644]])"
      ]
     },
     "execution_count": 59,
     "metadata": {},
     "output_type": "execute_result"
    }
   ],
   "source": [
    "y_pred_low_thresh = y_pred_prob > .3\n",
    "metrics.confusion_matrix(y_test, y_pred_low_thresh)"
   ]
  },
  {
   "cell_type": "code",
   "execution_count": 60,
   "metadata": {},
   "outputs": [
    {
     "name": "stdout",
     "output_type": "stream",
     "text": [
      "threshold\n",
      "precision: 0.23186344238975817\n",
      "recall: 1.0\n",
      "f1: 0.37644341801385683\n",
      "f2: 0.6014760147601476\n",
      "f1/2: 0.27394957983193274\n",
      "\n",
      "threshold\n",
      "precision: 0.5754189944134078\n",
      "recall: 0.47392638036809814\n",
      "f1: 0.5197645079899075\n",
      "f2: 0.4912559618441971\n",
      "f1/2: 0.5517857142857142\n",
      "\n",
      "threshold\n",
      "precision: 0.7166324435318275\n",
      "recall: 0.26763803680981596\n",
      "f1: 0.3897264098269123\n",
      "f2: 0.30597930913554267\n",
      "f1/2: 0.5365928659286592\n",
      "\n",
      "threshold\n",
      "precision: 0.0\n",
      "recall: 0.0\n",
      "f1: 0.0\n",
      "f2: 0.0\n",
      "f1/2: 0.0\n",
      "\n"
     ]
    },
    {
     "name": "stderr",
     "output_type": "stream",
     "text": [
      "/Users/AnnaHuang/anaconda3/lib/python3.6/site-packages/sklearn/metrics/classification.py:1135: UndefinedMetricWarning: Precision is ill-defined and being set to 0.0 due to no predicted samples.\n",
      "  'precision', 'predicted', average, warn_for)\n",
      "/Users/AnnaHuang/anaconda3/lib/python3.6/site-packages/sklearn/metrics/classification.py:1135: UndefinedMetricWarning: F-score is ill-defined and being set to 0.0 due to no predicted samples.\n",
      "  'precision', 'predicted', average, warn_for)\n",
      "/Users/AnnaHuang/anaconda3/lib/python3.6/site-packages/sklearn/metrics/classification.py:1135: UndefinedMetricWarning: F-score is ill-defined and being set to 0.0 due to no predicted samples.\n",
      "  'precision', 'predicted', average, warn_for)\n",
      "/Users/AnnaHuang/anaconda3/lib/python3.6/site-packages/sklearn/metrics/classification.py:1135: UndefinedMetricWarning: F-score is ill-defined and being set to 0.0 due to no predicted samples.\n",
      "  'precision', 'predicted', average, warn_for)\n"
     ]
    }
   ],
   "source": [
    "#Calculating precision, recall, F_1, F_2, and F_{1/2} for our admission model at different thresholds\n",
    "#Higher the beta, the more I care about recall \n",
    "from sklearn import metrics \n",
    "\n",
    "for threshold in np.linspace(y_pred_prob.min(), y_pred_prob.max(), 4):\n",
    "    y_pred_thresh = y_pred_prob > threshold\n",
    "    print('threshold')\n",
    "    print('precision:', metrics.precision_score(y_test, y_pred_thresh))\n",
    "    print('recall:', metrics.recall_score(y_test, y_pred_thresh))\n",
    "    print('f1:', metrics.f1_score(y_test, y_pred_thresh))\n",
    "    print('f2:', metrics.fbeta_score(y_test, y_pred_thresh, 2))\n",
    "    print('f1/2:', metrics.fbeta_score(y_test, y_pred_thresh, .5))\n",
    "    print()"
   ]
  },
  {
   "cell_type": "code",
   "execution_count": 61,
   "metadata": {},
   "outputs": [
    {
     "name": "stdout",
     "output_type": "stream",
     "text": [
      "0.5617137648131266 0.15401296072153636\n"
     ]
    },
    {
     "name": "stderr",
     "output_type": "stream",
     "text": [
      "/Users/AnnaHuang/anaconda3/lib/python3.6/site-packages/sklearn/metrics/classification.py:1135: UndefinedMetricWarning: F-score is ill-defined and being set to 0.0 due to no predicted samples.\n",
      "  'precision', 'predicted', average, warn_for)\n"
     ]
    }
   ],
   "source": [
    "#identifying the best score and threshold for F2\n",
    "from sklearn import metrics\n",
    "\n",
    "best_score = -1\n",
    "best_threshold = -1\n",
    "\n",
    "for threshold in sorted(y_pred_prob):\n",
    "    y_pred_thresh = y_pred_prob > threshold\n",
    "    score = metrics.fbeta_score(y_test, y_pred_thresh,beta=1.5)\n",
    "    if score > best_score:\n",
    "        best_score = score\n",
    "        best_threshold = threshold\n",
    "print(best_score, best_threshold)"
   ]
  },
  {
   "cell_type": "code",
   "execution_count": 62,
   "metadata": {},
   "outputs": [
    {
     "data": {
      "text/plain": [
       "array([[2718, 1603],\n",
       "       [ 356,  948]])"
      ]
     },
     "execution_count": 62,
     "metadata": {},
     "output_type": "execute_result"
    }
   ],
   "source": [
    "#Calculate the confusion matrix for the best threshold for f2\n",
    "y_pred_thresh = y_pred_prob > best_threshold\n",
    "metrics.confusion_matrix(y_test, y_pred_thresh)"
   ]
  },
  {
   "cell_type": "code",
   "execution_count": 63,
   "metadata": {},
   "outputs": [
    {
     "name": "stdout",
     "output_type": "stream",
     "text": [
      "accuracy score: 0.6517333333333334\n",
      "precision score: 0.3716189729517836\n",
      "recall score: 0.7269938650306749\n",
      "f1 score: 0.5617137648131266\n"
     ]
    }
   ],
   "source": [
    "#Calculate the test-set accuracy, precision, recall and F2 score for model \n",
    "print('accuracy score:', metrics.accuracy_score(y_test, y_pred_thresh))\n",
    "print('precision score:', metrics.precision_score(y_test, y_pred_thresh))\n",
    "print('recall score:', metrics.recall_score(y_test, y_pred_thresh))\n",
    "print('f1 score:', metrics.fbeta_score(y_test, y_pred_thresh,beta=1.5))"
   ]
  },
  {
   "cell_type": "code",
   "execution_count": null,
   "metadata": {},
   "outputs": [],
   "source": []
  },
  {
   "cell_type": "code",
   "execution_count": 70,
   "metadata": {},
   "outputs": [
    {
     "data": {
      "text/plain": [
       "0.8192444444444444"
      ]
     },
     "execution_count": 70,
     "metadata": {},
     "output_type": "execute_result"
    }
   ],
   "source": [
    "rfc.score(X,y)"
   ]
  },
  {
   "cell_type": "code",
   "execution_count": 69,
   "metadata": {},
   "outputs": [],
   "source": [
    "from sklearn.model_selection import cross_val_score, KFold"
   ]
  },
  {
   "cell_type": "code",
   "execution_count": 65,
   "metadata": {},
   "outputs": [],
   "source": [
    "kf = KFold(n_splits=10, shuffle=True)"
   ]
  },
  {
   "cell_type": "code",
   "execution_count": 66,
   "metadata": {},
   "outputs": [],
   "source": [
    "scores = cross_val_score(estimator=rfc, X=X, y=y, cv=kf)"
   ]
  },
  {
   "cell_type": "code",
   "execution_count": 67,
   "metadata": {},
   "outputs": [
    {
     "data": {
      "text/plain": [
       "array([0.80666667, 0.82444444, 0.80311111, 0.81733333, 0.81866667,\n",
       "       0.81955556, 0.81866667, 0.82222222, 0.82666667, 0.804     ])"
      ]
     },
     "execution_count": 67,
     "metadata": {},
     "output_type": "execute_result"
    }
   ],
   "source": [
    "scores"
   ]
  },
  {
   "cell_type": "code",
   "execution_count": 68,
   "metadata": {},
   "outputs": [
    {
     "data": {
      "text/plain": [
       "0.8161333333333334"
      ]
     },
     "execution_count": 68,
     "metadata": {},
     "output_type": "execute_result"
    }
   ],
   "source": [
    "scores.mean()"
   ]
  },
  {
   "cell_type": "code",
   "execution_count": null,
   "metadata": {},
   "outputs": [],
   "source": []
  },
  {
   "cell_type": "code",
   "execution_count": null,
   "metadata": {},
   "outputs": [],
   "source": []
  },
  {
   "cell_type": "code",
   "execution_count": null,
   "metadata": {},
   "outputs": [],
   "source": []
  },
  {
   "cell_type": "code",
   "execution_count": null,
   "metadata": {},
   "outputs": [],
   "source": []
  },
  {
   "cell_type": "code",
   "execution_count": null,
   "metadata": {},
   "outputs": [],
   "source": []
  },
  {
   "cell_type": "code",
   "execution_count": null,
   "metadata": {},
   "outputs": [],
   "source": []
  },
  {
   "cell_type": "code",
   "execution_count": null,
   "metadata": {},
   "outputs": [],
   "source": []
  },
  {
   "cell_type": "code",
   "execution_count": null,
   "metadata": {},
   "outputs": [],
   "source": []
  },
  {
   "cell_type": "code",
   "execution_count": null,
   "metadata": {},
   "outputs": [],
   "source": []
  },
  {
   "cell_type": "code",
   "execution_count": null,
   "metadata": {},
   "outputs": [],
   "source": []
  },
  {
   "cell_type": "markdown",
   "metadata": {},
   "source": [
    "$\\blacksquare$ Identifying feature importances"
   ]
  },
  {
   "cell_type": "code",
   "execution_count": null,
   "metadata": {},
   "outputs": [],
   "source": [
    "rfc = RandomForestClassifier(n_estimators=150, oob_score=True, random_state=1)\n",
    "rfc.fit(X,y)"
   ]
  },
  {
   "cell_type": "code",
   "execution_count": null,
   "metadata": {},
   "outputs": [],
   "source": [
    "sorted(zip(rfc.feature_importances_, feature_cols))[::-1]"
   ]
  },
  {
   "cell_type": "code",
   "execution_count": null,
   "metadata": {},
   "outputs": [],
   "source": [
    "rfc.oob_score_ "
   ]
  },
  {
   "cell_type": "markdown",
   "metadata": {},
   "source": [
    "$\\blacksquare$ Hyperparameter Tuning"
   ]
  },
  {
   "cell_type": "code",
   "execution_count": null,
   "metadata": {},
   "outputs": [],
   "source": [
    "from sklearn.ensemble import RandomForestClassifier\n",
    "rfcla = RandomForestClassifier()\n",
    "rfcla"
   ]
  },
  {
   "cell_type": "markdown",
   "metadata": {},
   "source": [
    "$\\blacksquare$ Tuning n_estimators"
   ]
  },
  {
   "cell_type": "code",
   "execution_count": null,
   "metadata": {},
   "outputs": [],
   "source": [
    "# List of values to try for n_estimators:\n",
    "estimator_range = list(range(10, 310, 10))\n",
    "\n",
    "# List to store the average RMSE for each value of n_estimators:\n",
    "RMSE_scores = []\n",
    "\n",
    "# Use five-fold cross-validation with each value of n_estimators (Warning: Slow!).\n",
    "for estimator in estimator_range:\n",
    "    rfcla = RandomForestClassifier(n_estimators=estimator, random_state=1)\n",
    "    MSE_scores = cross_val_score(rfcla, X, y, cv=5, scoring='neg_mean_squared_error')\n",
    "    RMSE_scores.append(np.mean(np.sqrt(-MSE_scores)))"
   ]
  },
  {
   "cell_type": "code",
   "execution_count": null,
   "metadata": {},
   "outputs": [],
   "source": [
    "# Plot RMSE (y-axis) versus n_estimators (x-axis).\n",
    "\n",
    "fig, ax = plt.subplots()\n",
    "ax.plot(estimator_range, RMSE_scores);\n",
    "ax.set_xlabel('n_estimators');\n",
    "ax.set_ylabel('RMSE (lower is better)');"
   ]
  },
  {
   "cell_type": "markdown",
   "metadata": {},
   "source": [
    "$\\blacksquare$ Tuning max_features"
   ]
  },
  {
   "cell_type": "code",
   "execution_count": null,
   "metadata": {},
   "outputs": [],
   "source": [
    "# List of values to try for max_features:\n",
    "feature_range = list(range(1, len(feature_cols)+1))\n",
    "\n",
    "# List to store the average RMSE for each value of max_features:\n",
    "RMSE_scores = []\n",
    "\n",
    "# Use 10-fold cross-validation with each value of max_features (Warning: Super slow!).\n",
    "for feature in feature_range:\n",
    "    rfcla = RandomForestClassifier(n_estimators=150, max_features=feature, random_state=1)\n",
    "    MSE_scores = cross_val_score(rfreg, X, y, cv=10, scoring='neg_mean_squared_error')\n",
    "    RMSE_scores.append(np.mean(np.sqrt(-MSE_scores)))"
   ]
  },
  {
   "cell_type": "code",
   "execution_count": null,
   "metadata": {},
   "outputs": [],
   "source": [
    "# Plot max_features (x-axis) versus RMSE (y-axis).\n",
    "fig, ax = plt.subplots()\n",
    "ax.plot(feature_range, RMSE_scores);\n",
    "ax.set_xlabel('max_features');\n",
    "ax.set_ylabel('RMSE (lower is better)');"
   ]
  },
  {
   "cell_type": "code",
   "execution_count": null,
   "metadata": {},
   "outputs": [],
   "source": [
    "# Show the best RMSE and the corresponding max_features.\n",
    "sorted(zip(RMSE_scores, feature_range))[0]"
   ]
  },
  {
   "cell_type": "markdown",
   "metadata": {},
   "source": [
    "# Clearly identify..."
   ]
  },
  {
   "cell_type": "markdown",
   "metadata": {},
   "source": [
    "#### Shortcomings of your data\n",
    " - Data may not have all the features necessary to predict the default payment next month. Instead, it is already provided a set of variables to work off of. "
   ]
  },
  {
   "cell_type": "markdown",
   "metadata": {},
   "source": [
    "#### Any assumptions that you will need to make in light of those shortcomings\n",
    "\n",
    "- Assuming that no other variables will be a better prediction of the default payment next month other than the variables provided"
   ]
  },
  {
   "cell_type": "markdown",
   "metadata": {},
   "source": [
    "#### At least five things you might try as ways to improve your model\n",
    "\n",
    "- Better feature engineering, pay, bill amount and pay amount work together and not separately \n",
    "- Better model \n",
    "- Identify correlation vs causation\n",
    "- Addressing the threshold\n",
    "- Understand the data a little more "
   ]
  },
  {
   "cell_type": "markdown",
   "metadata": {},
   "source": [
    "#### What you think is the most appropriate metric for evaluating the models you will build. \n",
    "\n",
    "- Recall metric is a good evaluation of the model because I want to predict the percentage of total relevant results correctly classified by the model."
   ]
  }
 ],
 "metadata": {
  "kernelspec": {
   "display_name": "Python 3",
   "language": "python",
   "name": "python3"
  },
  "language_info": {
   "codemirror_mode": {
    "name": "ipython",
    "version": 3
   },
   "file_extension": ".py",
   "mimetype": "text/x-python",
   "name": "python",
   "nbconvert_exporter": "python",
   "pygments_lexer": "ipython3",
   "version": "3.6.5"
  }
 },
 "nbformat": 4,
 "nbformat_minor": 2
}
