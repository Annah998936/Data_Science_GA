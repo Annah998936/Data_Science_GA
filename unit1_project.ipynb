{
 "cells": [
  {
   "cell_type": "markdown",
   "metadata": {},
   "source": [
    "<img src=\"http://imgur.com/1ZcRyrc.png\" style=\"float: left; margin: 20px; height: 55px\">\n",
    "\n",
    "# Project 1: Python Coding Exercises\n",
    "\n",
    "_Authors:  Joseph Nelson (DC)_\n",
    "\n",
    "---"
   ]
  },
  {
   "cell_type": "markdown",
   "metadata": {},
   "source": [
    "The following code challenges are drawn from common exercises used in technical interviews. This project is more about turning ideas into Python code than it is about developing algorithms, so we have provided \"pseudocode\" for the more challenging problems."
   ]
  },
  {
   "cell_type": "markdown",
   "metadata": {},
   "source": [
    "### Challenge 1: Largest Palindrome\n",
    "A palindromic number reads the same both ways. For example, 1234321 is a palindrome. The largest palindrome made from the product of two two-digit numbers is 9009 = 91 × 99. Find the largest palindrome made from the product of two three-digit numbers.\n",
    "\n",
    "Suggested algorithm:\n",
    "\n",
    "```\n",
    "- Initialize a variable `result` to 0.\n",
    "- For each number A 100 through 999:\n",
    "    - For each number B 100 through 999:\n",
    "        - Multiply A and B.\n",
    "        - Turn that product into a string (use `str` as a function).\n",
    "        - Reverse the string (use `my_string[::-1]`).\n",
    "        - If the string and its reverse are the same and the product is\n",
    "        greater than `result`,  set `result` to that new value.\n",
    "```"
   ]
  },
  {
   "cell_type": "code",
   "execution_count": 1,
   "metadata": {},
   "outputs": [
    {
     "name": "stdout",
     "output_type": "stream",
     "text": [
      "906609\n"
     ]
    }
   ],
   "source": [
    "result = 0 #setting a variable \"result\" to 0\n",
    "\n",
    "for a in range(100,999): #iterate through a\n",
    "    for b in range(100,999): #iterate through b\n",
    "        value = a * b #creating a new variable by multiplying a and b \n",
    "        if str(value) == str(value)[::-1]: #turning that variable into a string and setting it equal to the reverse of the variable\n",
    "            if value > result: #if the value of a * b is greater than the result (initially 0)\n",
    "                result = value #if true then change result to value\n",
    "\n",
    "print(result)"
   ]
  },
  {
   "cell_type": "markdown",
   "metadata": {},
   "source": [
    "### Challenge 2: Summation of Primes\n",
    "The sum of the primes below 10 is 2 + 3 + 5 + 7 = 17. Find the sum of all the primes below 2,000.\n",
    "\n",
    "Suggested algorithm:\n",
    "\n",
    "```\n",
    "- Initialize an empty list of primes.\n",
    "\n",
    "- For every number A from 2 to 2,000:\n",
    "    - Set a variable `is_prime` to true.\n",
    "    - For every number B in our list of primes:\n",
    "        - If A divided by B gives no remainder, set `is_prime` to false.\n",
    "        - Optional: Use the command `break` to end the loop over primes at this point.\n",
    "    - If `is_prime` is still true, append A to our list of primes.\n",
    "    \n",
    "- Add up the primes.\n",
    "```"
   ]
  },
  {
   "cell_type": "code",
   "execution_count": 4,
   "metadata": {},
   "outputs": [
    {
     "data": {
      "text/plain": [
       "0"
      ]
     },
     "execution_count": 4,
     "metadata": {},
     "output_type": "execute_result"
    }
   ],
   "source": [
    "#I tried using the suggested algorithm above: \n",
    "\n",
    "prime_list = [] \n",
    "   \n",
    "for a in range(2,2000): #iterate a in that range \n",
    "    is_prime = True #set is_prime variable to True\n",
    "    for b in prime_list: #iterate b that is in prime_list... I am not sure if I understand why the algorithm suggested that. \n",
    "        if a % b == 0: # if a/b has a remainder of 0, that means it is not prime. (e.g 8/2 = 4 with no remainder so 8 is not prime)\n",
    "            is_prime = False #if it is not prime, then the is_prime variable is false\n",
    "        if is_prime == True: #I want all the prime numbers\n",
    "            prime_list.append(a) #Add it to my list of primes\n",
    "sum(prime_list) #sum up the prime list "
   ]
  },
  {
   "cell_type": "markdown",
   "metadata": {},
   "source": [
    "### Challenge 3: Multiples of 3 and 5\n",
    "If we list all of the natural numbers below 10 that are multiples of 3 or 5, we get 3, 5, 6, and 9. The sum of these multiples is 23. Find the sum of all the multiples of 3 and 5 below 1,000."
   ]
  },
  {
   "cell_type": "markdown",
   "metadata": {},
   "source": [
    "Suggested Algorthim: \n",
    "1. Create a list\n",
    "2. Range less than 1000 \n",
    "3. Find multiples of 3 and find multiples of 5\n",
    "4. Add it to list if true"
   ]
  },
  {
   "cell_type": "code",
   "execution_count": 2,
   "metadata": {},
   "outputs": [
    {
     "data": {
      "text/plain": [
       "33165"
      ]
     },
     "execution_count": 2,
     "metadata": {},
     "output_type": "execute_result"
    }
   ],
   "source": [
    "#Please see above for my suggested algorithm\n",
    "\n",
    "my_list = [] #created my_list to store multiples of 3 and multiples of 5\n",
    "\n",
    "for x in range(1,1000): #iterate x in that range \n",
    "    if x % 3 == 0 and x % 5 == 0: # if x/3 with a remainder of zero then it is a multiple of 3 and if x/5 with a remainder of zero then it is a multiple of 5\n",
    "        my_list.append(x) #if x/3 and x/5 then add it to my list\n",
    "        \n",
    "sum(my_list) #sum my list of multiples of 3 and multiples of 5"
   ]
  },
  {
   "cell_type": "markdown",
   "metadata": {},
   "source": [
    "### Challenge 4: String Compressor\n",
    "Write a function to perform basic string compression using the counts of repeated characters. (This is called run-length encoding.) For example, the string \"aabcccccaaa\" would become a2b1c5a3. If the “compressed” string would not become smaller than the original string, your method should return the original string. You can assume the string has only uppercase and lowercase letters (a–z). Specify whether your solution is case sensitive or case insensitive and what you would need to change to make it the other.\n",
    "\n",
    "Suggested algorithm:\n",
    "\n",
    "```\n",
    "- Initialize an empty string to hold the compressed version of the input string\n",
    "- Initialize an empty string to hold the character we are currently tallying up\n",
    "- Initialize a counter variable to 0\n",
    "\n",
    "- For each letter in the input string:\n",
    "    - If that letter matches the letter we are counting, increment the counter by 1\n",
    "    - Otherwise:\n",
    "        - If the counter value is greater than 0, add the letter we have been counting\n",
    "        and its count to our compressed string\n",
    "        - Update the letter we are counting\n",
    "        - Set the counter to 1\n",
    "\n",
    "- Append the last letter we were counting and its count to our compressed string\n",
    "```\n",
    "\n",
    "**Suggestion:** Test your function on a few sample inputs. Try to come up with \"edge cases\" that might make it fail (e.g. empty strings, strings with all the same character, strings containing non-alphabetic characters, etc.)"
   ]
  },
  {
   "cell_type": "code",
   "execution_count": 6,
   "metadata": {},
   "outputs": [
    {
     "name": "stdout",
     "output_type": "stream",
     "text": [
      "\n"
     ]
    }
   ],
   "source": [
    "#I tried using the suggested algorithm above: \n",
    "\n",
    "def string_compressor(inputstring): #creating a new function call string_compressor\n",
    "    compressed_string = '' #empty string for compressed (in the case above would be a2b1c5a3) \n",
    "    char_count = '' #empty string for character tallying up (in the case above if char a, b, c, a where we are tring to count)\n",
    "    var = 0  #setting a variable to 0 \n",
    "\n",
    "    for x in inputstring: #iterate through input string \n",
    "        if x == char_count: #if x equals the letter in char_count then give me \n",
    "            var += 1 #incrementally add 1 to the variable\n",
    "        elif var > 0: # however if the var > 0 then give me \n",
    "            compressed_string = x + str(var) #the compressed string would be the sum of x and the count (e.g a1) \n",
    "            char_count = x #update the char_count\n",
    "            var = 1 #set the variable to 1   \n",
    "\n",
    "    if len(compressed_string) > len(inputstring): #if the compressed string > input string then give me \n",
    "        return inputstring #give me input string\n",
    "    else: #if is not then\n",
    "        return compressed_string #give me compressed string\n",
    "\n",
    "print(string_compressor('abcccccaaa')) #trying it with an example"
   ]
  },
  {
   "cell_type": "markdown",
   "metadata": {},
   "source": [
    "### Challenge 5: FizzBuzz\n",
    "Write a program that prints all of the numbers from 1 to 100. For multiples of 3, instead of the number, print \"Fizz;\" for multiples of 5, print \"Buzz.\" For numbers that are multiples of both 3 and 5, print \"FizzBuzz.\""
   ]
  },
  {
   "cell_type": "markdown",
   "metadata": {},
   "source": [
    "Suggested Algorithm: \n",
    "1. range 1 - 100 \n",
    "2. if multiples of 3 and 5, print \"FizzBuzz\"\n",
    "3. if multiples of 3, print \"Fizz\"\n",
    "4. if multiples of 5, print \"Buzz\""
   ]
  },
  {
   "cell_type": "code",
   "execution_count": 3,
   "metadata": {},
   "outputs": [
    {
     "name": "stdout",
     "output_type": "stream",
     "text": [
      "1\n",
      "2\n",
      "Fizz\n",
      "4\n",
      "Buzz\n",
      "Fizz\n",
      "7\n",
      "8\n",
      "Fizz\n",
      "Buzz\n",
      "11\n",
      "Fizz\n",
      "13\n",
      "14\n",
      "FizzBuzz\n",
      "16\n",
      "17\n",
      "Fizz\n",
      "19\n",
      "Buzz\n",
      "Fizz\n",
      "22\n",
      "23\n",
      "Fizz\n",
      "Buzz\n",
      "26\n",
      "Fizz\n",
      "28\n",
      "29\n",
      "FizzBuzz\n",
      "31\n",
      "32\n",
      "Fizz\n",
      "34\n",
      "Buzz\n",
      "Fizz\n",
      "37\n",
      "38\n",
      "Fizz\n",
      "Buzz\n",
      "41\n",
      "Fizz\n",
      "43\n",
      "44\n",
      "FizzBuzz\n",
      "46\n",
      "47\n",
      "Fizz\n",
      "49\n",
      "Buzz\n",
      "Fizz\n",
      "52\n",
      "53\n",
      "Fizz\n",
      "Buzz\n",
      "56\n",
      "Fizz\n",
      "58\n",
      "59\n",
      "FizzBuzz\n",
      "61\n",
      "62\n",
      "Fizz\n",
      "64\n",
      "Buzz\n",
      "Fizz\n",
      "67\n",
      "68\n",
      "Fizz\n",
      "Buzz\n",
      "71\n",
      "Fizz\n",
      "73\n",
      "74\n",
      "FizzBuzz\n",
      "76\n",
      "77\n",
      "Fizz\n",
      "79\n",
      "Buzz\n",
      "Fizz\n",
      "82\n",
      "83\n",
      "Fizz\n",
      "Buzz\n",
      "86\n",
      "Fizz\n",
      "88\n",
      "89\n",
      "FizzBuzz\n",
      "91\n",
      "92\n",
      "Fizz\n",
      "94\n",
      "Buzz\n",
      "Fizz\n",
      "97\n",
      "98\n",
      "Fizz\n",
      "Buzz\n"
     ]
    }
   ],
   "source": [
    "for x in range(1,101): #iterate x from 1-101 \n",
    "    if x % 3 == 0 and x % 5 == 0: # if x/3 with remainder of zero and x/5 with remainder of 5 then give me\n",
    "        print('FizzBuzz') #give me 'FizzBuzz'\n",
    "    elif x % 3 == 0: #if it is not a multiple of 3 and 5, but is a multiple of 3 then give me\n",
    "        print('Fizz') #give me 'Fizz'\n",
    "    elif x % 5 == 0: #if it is not (a multiple of 3 and 5) AND not (a multiple of 3) BUT is a (a multiple of 5) then give me \n",
    "        print('Buzz') #give me 'Buzz'\n",
    "    else: #everything else give me \n",
    "        print(x) #print the x number"
   ]
  },
  {
   "cell_type": "code",
   "execution_count": null,
   "metadata": {},
   "outputs": [],
   "source": []
  }
 ],
 "metadata": {
  "anaconda-cloud": {},
  "kernelspec": {
   "display_name": "Python 3",
   "language": "python",
   "name": "python3"
  },
  "language_info": {
   "codemirror_mode": {
    "name": "ipython",
    "version": 3
   },
   "file_extension": ".py",
   "mimetype": "text/x-python",
   "name": "python",
   "nbconvert_exporter": "python",
   "pygments_lexer": "ipython3",
   "version": "3.6.5"
  }
 },
 "nbformat": 4,
 "nbformat_minor": 2
}
